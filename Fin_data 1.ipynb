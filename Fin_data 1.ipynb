{
 "cells": [
  {
   "cell_type": "code",
   "execution_count": 84,
   "id": "5b0d2860",
   "metadata": {},
   "outputs": [],
   "source": [
    "import pandas as pd\n",
    "import numpy as np\n",
    "import matplotlib.pyplot as plt"
   ]
  },
  {
   "cell_type": "code",
   "execution_count": 87,
   "id": "f06aa585",
   "metadata": {},
   "outputs": [
    {
     "ename": "ImportError",
     "evalue": "cannot import name 'ConciseDateFormatter' from 'matplotlib.dates' (C:\\Users\\GTDNL\\anaconda3\\envs\\nlp_course\\lib\\site-packages\\matplotlib\\dates.py)",
     "output_type": "error",
     "traceback": [
      "\u001b[1;31m---------------------------------------------------------------------------\u001b[0m",
      "\u001b[1;31mImportError\u001b[0m                               Traceback (most recent call last)",
      "\u001b[1;32m~\\AppData\\Local\\Temp\\ipykernel_30016\\2351219987.py\u001b[0m in \u001b[0;36m<module>\u001b[1;34m\u001b[0m\n\u001b[1;32m----> 1\u001b[1;33m \u001b[1;32mimport\u001b[0m \u001b[0mseaborn\u001b[0m \u001b[1;32mas\u001b[0m \u001b[0msns\u001b[0m\u001b[1;33m\u001b[0m\u001b[1;33m\u001b[0m\u001b[0m\n\u001b[0m",
      "\u001b[1;32m~\\anaconda3\\envs\\nlp_course\\lib\\site-packages\\seaborn\\__init__.py\u001b[0m in \u001b[0;36m<module>\u001b[1;34m\u001b[0m\n\u001b[0;32m      6\u001b[0m \u001b[1;32mfrom\u001b[0m \u001b[1;33m.\u001b[0m\u001b[0mregression\u001b[0m \u001b[1;32mimport\u001b[0m \u001b[1;33m*\u001b[0m  \u001b[1;31m# noqa: F401,F403\u001b[0m\u001b[1;33m\u001b[0m\u001b[1;33m\u001b[0m\u001b[0m\n\u001b[0;32m      7\u001b[0m \u001b[1;32mfrom\u001b[0m \u001b[1;33m.\u001b[0m\u001b[0mcategorical\u001b[0m \u001b[1;32mimport\u001b[0m \u001b[1;33m*\u001b[0m  \u001b[1;31m# noqa: F401,F403\u001b[0m\u001b[1;33m\u001b[0m\u001b[1;33m\u001b[0m\u001b[0m\n\u001b[1;32m----> 8\u001b[1;33m \u001b[1;32mfrom\u001b[0m \u001b[1;33m.\u001b[0m\u001b[0mdistributions\u001b[0m \u001b[1;32mimport\u001b[0m \u001b[1;33m*\u001b[0m  \u001b[1;31m# noqa: F401,F403\u001b[0m\u001b[1;33m\u001b[0m\u001b[1;33m\u001b[0m\u001b[0m\n\u001b[0m\u001b[0;32m      9\u001b[0m \u001b[1;32mfrom\u001b[0m \u001b[1;33m.\u001b[0m\u001b[0mmatrix\u001b[0m \u001b[1;32mimport\u001b[0m \u001b[1;33m*\u001b[0m  \u001b[1;31m# noqa: F401,F403\u001b[0m\u001b[1;33m\u001b[0m\u001b[1;33m\u001b[0m\u001b[0m\n\u001b[0;32m     10\u001b[0m \u001b[1;32mfrom\u001b[0m \u001b[1;33m.\u001b[0m\u001b[0mmiscplot\u001b[0m \u001b[1;32mimport\u001b[0m \u001b[1;33m*\u001b[0m  \u001b[1;31m# noqa: F401,F403\u001b[0m\u001b[1;33m\u001b[0m\u001b[1;33m\u001b[0m\u001b[0m\n",
      "\u001b[1;32m~\\anaconda3\\envs\\nlp_course\\lib\\site-packages\\seaborn\\distributions.py\u001b[0m in \u001b[0;36m<module>\u001b[1;34m\u001b[0m\n\u001b[0;32m     21\u001b[0m \u001b[1;31m# but still use the older Histogram for bivariate computation.\u001b[0m\u001b[1;33m\u001b[0m\u001b[1;33m\u001b[0m\u001b[1;33m\u001b[0m\u001b[0m\n\u001b[0;32m     22\u001b[0m \u001b[1;32mfrom\u001b[0m \u001b[1;33m.\u001b[0m\u001b[0m_statistics\u001b[0m \u001b[1;32mimport\u001b[0m \u001b[0mECDF\u001b[0m\u001b[1;33m,\u001b[0m \u001b[0mHistogram\u001b[0m\u001b[1;33m,\u001b[0m \u001b[0mKDE\u001b[0m\u001b[1;33m\u001b[0m\u001b[1;33m\u001b[0m\u001b[0m\n\u001b[1;32m---> 23\u001b[1;33m \u001b[1;32mfrom\u001b[0m \u001b[1;33m.\u001b[0m\u001b[0m_stats\u001b[0m\u001b[1;33m.\u001b[0m\u001b[0mcounting\u001b[0m \u001b[1;32mimport\u001b[0m \u001b[0mHist\u001b[0m\u001b[1;33m\u001b[0m\u001b[1;33m\u001b[0m\u001b[0m\n\u001b[0m\u001b[0;32m     24\u001b[0m \u001b[1;33m\u001b[0m\u001b[0m\n\u001b[0;32m     25\u001b[0m from .axisgrid import (\n",
      "\u001b[1;32m~\\anaconda3\\envs\\nlp_course\\lib\\site-packages\\seaborn\\_stats\\counting.py\u001b[0m in \u001b[0;36m<module>\u001b[1;34m\u001b[0m\n\u001b[0;32m      8\u001b[0m \u001b[1;33m\u001b[0m\u001b[0m\n\u001b[0;32m      9\u001b[0m \u001b[1;32mfrom\u001b[0m \u001b[0mseaborn\u001b[0m\u001b[1;33m.\u001b[0m\u001b[0m_core\u001b[0m\u001b[1;33m.\u001b[0m\u001b[0mgroupby\u001b[0m \u001b[1;32mimport\u001b[0m \u001b[0mGroupBy\u001b[0m\u001b[1;33m\u001b[0m\u001b[1;33m\u001b[0m\u001b[0m\n\u001b[1;32m---> 10\u001b[1;33m \u001b[1;32mfrom\u001b[0m \u001b[0mseaborn\u001b[0m\u001b[1;33m.\u001b[0m\u001b[0m_core\u001b[0m\u001b[1;33m.\u001b[0m\u001b[0mscales\u001b[0m \u001b[1;32mimport\u001b[0m \u001b[0mScale\u001b[0m\u001b[1;33m\u001b[0m\u001b[1;33m\u001b[0m\u001b[0m\n\u001b[0m\u001b[0;32m     11\u001b[0m \u001b[1;32mfrom\u001b[0m \u001b[0mseaborn\u001b[0m\u001b[1;33m.\u001b[0m\u001b[0m_stats\u001b[0m\u001b[1;33m.\u001b[0m\u001b[0mbase\u001b[0m \u001b[1;32mimport\u001b[0m \u001b[0mStat\u001b[0m\u001b[1;33m\u001b[0m\u001b[1;33m\u001b[0m\u001b[0m\n\u001b[0;32m     12\u001b[0m \u001b[1;33m\u001b[0m\u001b[0m\n",
      "\u001b[1;32m~\\anaconda3\\envs\\nlp_course\\lib\\site-packages\\seaborn\\_core\\scales.py\u001b[0m in \u001b[0;36m<module>\u001b[1;34m\u001b[0m\n\u001b[0;32m     26\u001b[0m     \u001b[0mStrMethodFormatter\u001b[0m\u001b[1;33m,\u001b[0m\u001b[1;33m\u001b[0m\u001b[1;33m\u001b[0m\u001b[0m\n\u001b[0;32m     27\u001b[0m )\n\u001b[1;32m---> 28\u001b[1;33m from matplotlib.dates import (\n\u001b[0m\u001b[0;32m     29\u001b[0m     \u001b[0mAutoDateLocator\u001b[0m\u001b[1;33m,\u001b[0m\u001b[1;33m\u001b[0m\u001b[1;33m\u001b[0m\u001b[0m\n\u001b[0;32m     30\u001b[0m     \u001b[0mAutoDateFormatter\u001b[0m\u001b[1;33m,\u001b[0m\u001b[1;33m\u001b[0m\u001b[1;33m\u001b[0m\u001b[0m\n",
      "\u001b[1;31mImportError\u001b[0m: cannot import name 'ConciseDateFormatter' from 'matplotlib.dates' (C:\\Users\\GTDNL\\anaconda3\\envs\\nlp_course\\lib\\site-packages\\matplotlib\\dates.py)"
     ]
    }
   ],
   "source": [
    "import seaborn as sns"
   ]
  },
  {
   "cell_type": "code",
   "execution_count": 73,
   "id": "853e5558",
   "metadata": {},
   "outputs": [],
   "source": [
    "p = pd.read_csv('mycsvfile.csv')"
   ]
  },
  {
   "cell_type": "code",
   "execution_count": 74,
   "id": "373012e5",
   "metadata": {},
   "outputs": [
    {
     "data": {
      "text/html": [
       "<div>\n",
       "<style scoped>\n",
       "    .dataframe tbody tr th:only-of-type {\n",
       "        vertical-align: middle;\n",
       "    }\n",
       "\n",
       "    .dataframe tbody tr th {\n",
       "        vertical-align: top;\n",
       "    }\n",
       "\n",
       "    .dataframe thead th {\n",
       "        text-align: right;\n",
       "    }\n",
       "</style>\n",
       "<table border=\"1\" class=\"dataframe\">\n",
       "  <thead>\n",
       "    <tr style=\"text-align: right;\">\n",
       "      <th></th>\n",
       "      <th>loan_amnt</th>\n",
       "      <th>term</th>\n",
       "      <th>sub_grade</th>\n",
       "      <th>emp_length</th>\n",
       "      <th>annual_inc</th>\n",
       "      <th>loan_status</th>\n",
       "      <th>dti</th>\n",
       "      <th>mths_since_recent_inq</th>\n",
       "      <th>revol_util</th>\n",
       "      <th>num_op_rev_tl</th>\n",
       "      <th>...</th>\n",
       "      <th>addr_state__SD</th>\n",
       "      <th>addr_state__TN</th>\n",
       "      <th>addr_state__TX</th>\n",
       "      <th>addr_state__UT</th>\n",
       "      <th>addr_state__VA</th>\n",
       "      <th>addr_state__VT</th>\n",
       "      <th>addr_state__WA</th>\n",
       "      <th>addr_state__WI</th>\n",
       "      <th>addr_state__WV</th>\n",
       "      <th>addr_state__WY</th>\n",
       "    </tr>\n",
       "  </thead>\n",
       "  <tbody>\n",
       "    <tr>\n",
       "      <th>0</th>\n",
       "      <td>3600.0</td>\n",
       "      <td>1.0</td>\n",
       "      <td>24.0</td>\n",
       "      <td>10.0</td>\n",
       "      <td>55000.0</td>\n",
       "      <td>1.0</td>\n",
       "      <td>5.91</td>\n",
       "      <td>4.0</td>\n",
       "      <td>29.7</td>\n",
       "      <td>4.0</td>\n",
       "      <td>...</td>\n",
       "      <td>0</td>\n",
       "      <td>0</td>\n",
       "      <td>0</td>\n",
       "      <td>0</td>\n",
       "      <td>0</td>\n",
       "      <td>0</td>\n",
       "      <td>0</td>\n",
       "      <td>0</td>\n",
       "      <td>0</td>\n",
       "      <td>0</td>\n",
       "    </tr>\n",
       "    <tr>\n",
       "      <th>1</th>\n",
       "      <td>20000.0</td>\n",
       "      <td>2.0</td>\n",
       "      <td>14.0</td>\n",
       "      <td>10.0</td>\n",
       "      <td>63000.0</td>\n",
       "      <td>1.0</td>\n",
       "      <td>10.78</td>\n",
       "      <td>10.0</td>\n",
       "      <td>56.2</td>\n",
       "      <td>4.0</td>\n",
       "      <td>...</td>\n",
       "      <td>0</td>\n",
       "      <td>0</td>\n",
       "      <td>0</td>\n",
       "      <td>0</td>\n",
       "      <td>0</td>\n",
       "      <td>0</td>\n",
       "      <td>0</td>\n",
       "      <td>0</td>\n",
       "      <td>0</td>\n",
       "      <td>0</td>\n",
       "    </tr>\n",
       "    <tr>\n",
       "      <th>2</th>\n",
       "      <td>10400.0</td>\n",
       "      <td>2.0</td>\n",
       "      <td>51.0</td>\n",
       "      <td>3.0</td>\n",
       "      <td>104433.0</td>\n",
       "      <td>1.0</td>\n",
       "      <td>25.37</td>\n",
       "      <td>1.0</td>\n",
       "      <td>64.5</td>\n",
       "      <td>7.0</td>\n",
       "      <td>...</td>\n",
       "      <td>0</td>\n",
       "      <td>0</td>\n",
       "      <td>0</td>\n",
       "      <td>0</td>\n",
       "      <td>0</td>\n",
       "      <td>0</td>\n",
       "      <td>0</td>\n",
       "      <td>0</td>\n",
       "      <td>0</td>\n",
       "      <td>0</td>\n",
       "    </tr>\n",
       "    <tr>\n",
       "      <th>3</th>\n",
       "      <td>20000.0</td>\n",
       "      <td>1.0</td>\n",
       "      <td>11.0</td>\n",
       "      <td>10.0</td>\n",
       "      <td>85000.0</td>\n",
       "      <td>1.0</td>\n",
       "      <td>17.61</td>\n",
       "      <td>8.0</td>\n",
       "      <td>5.7</td>\n",
       "      <td>3.0</td>\n",
       "      <td>...</td>\n",
       "      <td>0</td>\n",
       "      <td>0</td>\n",
       "      <td>0</td>\n",
       "      <td>0</td>\n",
       "      <td>0</td>\n",
       "      <td>0</td>\n",
       "      <td>0</td>\n",
       "      <td>0</td>\n",
       "      <td>0</td>\n",
       "      <td>0</td>\n",
       "    </tr>\n",
       "    <tr>\n",
       "      <th>4</th>\n",
       "      <td>10000.0</td>\n",
       "      <td>1.0</td>\n",
       "      <td>2.0</td>\n",
       "      <td>6.0</td>\n",
       "      <td>85000.0</td>\n",
       "      <td>1.0</td>\n",
       "      <td>13.07</td>\n",
       "      <td>1.0</td>\n",
       "      <td>34.5</td>\n",
       "      <td>13.0</td>\n",
       "      <td>...</td>\n",
       "      <td>0</td>\n",
       "      <td>0</td>\n",
       "      <td>0</td>\n",
       "      <td>0</td>\n",
       "      <td>0</td>\n",
       "      <td>0</td>\n",
       "      <td>0</td>\n",
       "      <td>0</td>\n",
       "      <td>0</td>\n",
       "      <td>0</td>\n",
       "    </tr>\n",
       "  </tbody>\n",
       "</table>\n",
       "<p>5 rows × 66 columns</p>\n",
       "</div>"
      ],
      "text/plain": [
       "   loan_amnt  term  sub_grade  emp_length  annual_inc  loan_status    dti  \\\n",
       "0     3600.0   1.0       24.0        10.0     55000.0          1.0   5.91   \n",
       "1    20000.0   2.0       14.0        10.0     63000.0          1.0  10.78   \n",
       "2    10400.0   2.0       51.0         3.0    104433.0          1.0  25.37   \n",
       "3    20000.0   1.0       11.0        10.0     85000.0          1.0  17.61   \n",
       "4    10000.0   1.0        2.0         6.0     85000.0          1.0  13.07   \n",
       "\n",
       "   mths_since_recent_inq  revol_util  num_op_rev_tl  ...  addr_state__SD  \\\n",
       "0                    4.0        29.7            4.0  ...               0   \n",
       "1                   10.0        56.2            4.0  ...               0   \n",
       "2                    1.0        64.5            7.0  ...               0   \n",
       "3                    8.0         5.7            3.0  ...               0   \n",
       "4                    1.0        34.5           13.0  ...               0   \n",
       "\n",
       "   addr_state__TN  addr_state__TX  addr_state__UT  addr_state__VA  \\\n",
       "0               0               0               0               0   \n",
       "1               0               0               0               0   \n",
       "2               0               0               0               0   \n",
       "3               0               0               0               0   \n",
       "4               0               0               0               0   \n",
       "\n",
       "   addr_state__VT  addr_state__WA  addr_state__WI  addr_state__WV  \\\n",
       "0               0               0               0               0   \n",
       "1               0               0               0               0   \n",
       "2               0               0               0               0   \n",
       "3               0               0               0               0   \n",
       "4               0               0               0               0   \n",
       "\n",
       "   addr_state__WY  \n",
       "0               0  \n",
       "1               0  \n",
       "2               0  \n",
       "3               0  \n",
       "4               0  \n",
       "\n",
       "[5 rows x 66 columns]"
      ]
     },
     "execution_count": 74,
     "metadata": {},
     "output_type": "execute_result"
    }
   ],
   "source": [
    "p.head()"
   ]
  },
  {
   "cell_type": "code",
   "execution_count": 86,
   "id": "05b94280",
   "metadata": {},
   "outputs": [
    {
     "ename": "NameError",
     "evalue": "name 'sns' is not defined",
     "output_type": "error",
     "traceback": [
      "\u001b[1;31m---------------------------------------------------------------------------\u001b[0m",
      "\u001b[1;31mNameError\u001b[0m                                 Traceback (most recent call last)",
      "\u001b[1;32m~\\AppData\\Local\\Temp\\ipykernel_30016\\1859404679.py\u001b[0m in \u001b[0;36m<module>\u001b[1;34m\u001b[0m\n\u001b[1;32m----> 1\u001b[1;33m \u001b[0msns\u001b[0m\u001b[1;33m.\u001b[0m\u001b[0mheatmap\u001b[0m\u001b[1;33m(\u001b[0m\u001b[0mp\u001b[0m\u001b[1;33m,\u001b[0m \u001b[0mannot\u001b[0m\u001b[1;33m=\u001b[0m\u001b[1;32mTrue\u001b[0m\u001b[1;33m,\u001b[0m \u001b[0mcmap\u001b[0m\u001b[1;33m=\u001b[0m\u001b[1;34m'coolwarm'\u001b[0m\u001b[1;33m)\u001b[0m\u001b[1;33m\u001b[0m\u001b[1;33m\u001b[0m\u001b[0m\n\u001b[0m",
      "\u001b[1;31mNameError\u001b[0m: name 'sns' is not defined"
     ]
    }
   ],
   "source": [
    "sns.heatmap(p, annot=True, cmap='coolwarm')"
   ]
  },
  {
   "cell_type": "code",
   "execution_count": 58,
   "id": "61b91715",
   "metadata": {},
   "outputs": [
    {
     "data": {
      "text/plain": [
       "Index(['loan_amnt', 'term', 'sub_grade', 'emp_length', 'annual_inc',\n",
       "       'loan_status', 'dti', 'mths_since_recent_inq', 'revol_util',\n",
       "       'num_op_rev_tl', 'home_ownership__ANY', 'home_ownership__MORTGAGE',\n",
       "       'home_ownership__NONE', 'home_ownership__OTHER', 'home_ownership__OWN',\n",
       "       'home_ownership__RENT', 'addr_state__AK', 'addr_state__AL',\n",
       "       'addr_state__AR', 'addr_state__AZ', 'addr_state__CA', 'addr_state__CO',\n",
       "       'addr_state__CT', 'addr_state__DC', 'addr_state__DE', 'addr_state__FL',\n",
       "       'addr_state__GA', 'addr_state__HI', 'addr_state__ID', 'addr_state__IL',\n",
       "       'addr_state__IN', 'addr_state__KS', 'addr_state__KY', 'addr_state__LA',\n",
       "       'addr_state__MA', 'addr_state__MD', 'addr_state__ME', 'addr_state__MI',\n",
       "       'addr_state__MN', 'addr_state__MO', 'addr_state__MS', 'addr_state__MT',\n",
       "       'addr_state__NC', 'addr_state__ND', 'addr_state__NE', 'addr_state__NH',\n",
       "       'addr_state__NJ', 'addr_state__NM', 'addr_state__NV', 'addr_state__NY',\n",
       "       'addr_state__OH', 'addr_state__OK', 'addr_state__OR', 'addr_state__PA',\n",
       "       'addr_state__RI', 'addr_state__SC', 'addr_state__SD', 'addr_state__TN',\n",
       "       'addr_state__TX', 'addr_state__UT', 'addr_state__VA', 'addr_state__VT',\n",
       "       'addr_state__WA', 'addr_state__WI', 'addr_state__WV', 'addr_state__WY'],\n",
       "      dtype='object')"
      ]
     },
     "execution_count": 58,
     "metadata": {},
     "output_type": "execute_result"
    }
   ],
   "source": [
    "p.columns"
   ]
  },
  {
   "cell_type": "code",
   "execution_count": 59,
   "id": "14b0cbd6",
   "metadata": {},
   "outputs": [
    {
     "data": {
      "text/plain": [
       "1.0    620857\n",
       "2.0    227597\n",
       "Name: term, dtype: int64"
      ]
     },
     "execution_count": 59,
     "metadata": {},
     "output_type": "execute_result"
    }
   ],
   "source": [
    "p['term'].value_counts()"
   ]
  },
  {
   "cell_type": "code",
   "execution_count": 60,
   "id": "908f8a9e",
   "metadata": {},
   "outputs": [
    {
     "data": {
      "text/html": [
       "<div>\n",
       "<style scoped>\n",
       "    .dataframe tbody tr th:only-of-type {\n",
       "        vertical-align: middle;\n",
       "    }\n",
       "\n",
       "    .dataframe tbody tr th {\n",
       "        vertical-align: top;\n",
       "    }\n",
       "\n",
       "    .dataframe thead th {\n",
       "        text-align: right;\n",
       "    }\n",
       "</style>\n",
       "<table border=\"1\" class=\"dataframe\">\n",
       "  <thead>\n",
       "    <tr style=\"text-align: right;\">\n",
       "      <th></th>\n",
       "      <th>loan_amnt</th>\n",
       "      <th>term</th>\n",
       "      <th>sub_grade</th>\n",
       "      <th>emp_length</th>\n",
       "      <th>annual_inc</th>\n",
       "      <th>loan_status</th>\n",
       "      <th>dti</th>\n",
       "      <th>mths_since_recent_inq</th>\n",
       "      <th>revol_util</th>\n",
       "      <th>num_op_rev_tl</th>\n",
       "      <th>...</th>\n",
       "      <th>addr_state__SD</th>\n",
       "      <th>addr_state__TN</th>\n",
       "      <th>addr_state__TX</th>\n",
       "      <th>addr_state__UT</th>\n",
       "      <th>addr_state__VA</th>\n",
       "      <th>addr_state__VT</th>\n",
       "      <th>addr_state__WA</th>\n",
       "      <th>addr_state__WI</th>\n",
       "      <th>addr_state__WV</th>\n",
       "      <th>addr_state__WY</th>\n",
       "    </tr>\n",
       "  </thead>\n",
       "  <tbody>\n",
       "    <tr>\n",
       "      <th>848449</th>\n",
       "      <td>22400.0</td>\n",
       "      <td>2.0</td>\n",
       "      <td>22.0</td>\n",
       "      <td>10.0</td>\n",
       "      <td>119000.0</td>\n",
       "      <td>0.0</td>\n",
       "      <td>23.22</td>\n",
       "      <td>1.0</td>\n",
       "      <td>51.5</td>\n",
       "      <td>12.0</td>\n",
       "      <td>...</td>\n",
       "      <td>0</td>\n",
       "      <td>0</td>\n",
       "      <td>0</td>\n",
       "      <td>0</td>\n",
       "      <td>0</td>\n",
       "      <td>1</td>\n",
       "      <td>0</td>\n",
       "      <td>0</td>\n",
       "      <td>0</td>\n",
       "      <td>0</td>\n",
       "    </tr>\n",
       "    <tr>\n",
       "      <th>848450</th>\n",
       "      <td>19400.0</td>\n",
       "      <td>2.0</td>\n",
       "      <td>24.0</td>\n",
       "      <td>0.0</td>\n",
       "      <td>78000.0</td>\n",
       "      <td>1.0</td>\n",
       "      <td>13.02</td>\n",
       "      <td>2.0</td>\n",
       "      <td>63.8</td>\n",
       "      <td>9.0</td>\n",
       "      <td>...</td>\n",
       "      <td>0</td>\n",
       "      <td>0</td>\n",
       "      <td>0</td>\n",
       "      <td>0</td>\n",
       "      <td>0</td>\n",
       "      <td>0</td>\n",
       "      <td>0</td>\n",
       "      <td>0</td>\n",
       "      <td>0</td>\n",
       "      <td>0</td>\n",
       "    </tr>\n",
       "    <tr>\n",
       "      <th>848451</th>\n",
       "      <td>11200.0</td>\n",
       "      <td>2.0</td>\n",
       "      <td>22.0</td>\n",
       "      <td>5.0</td>\n",
       "      <td>86000.0</td>\n",
       "      <td>0.0</td>\n",
       "      <td>4.80</td>\n",
       "      <td>10.0</td>\n",
       "      <td>54.7</td>\n",
       "      <td>7.0</td>\n",
       "      <td>...</td>\n",
       "      <td>0</td>\n",
       "      <td>0</td>\n",
       "      <td>0</td>\n",
       "      <td>0</td>\n",
       "      <td>0</td>\n",
       "      <td>0</td>\n",
       "      <td>1</td>\n",
       "      <td>0</td>\n",
       "      <td>0</td>\n",
       "      <td>0</td>\n",
       "    </tr>\n",
       "    <tr>\n",
       "      <th>848452</th>\n",
       "      <td>23800.0</td>\n",
       "      <td>2.0</td>\n",
       "      <td>24.0</td>\n",
       "      <td>10.0</td>\n",
       "      <td>119000.0</td>\n",
       "      <td>1.0</td>\n",
       "      <td>32.73</td>\n",
       "      <td>0.0</td>\n",
       "      <td>89.5</td>\n",
       "      <td>8.0</td>\n",
       "      <td>...</td>\n",
       "      <td>0</td>\n",
       "      <td>0</td>\n",
       "      <td>0</td>\n",
       "      <td>0</td>\n",
       "      <td>0</td>\n",
       "      <td>0</td>\n",
       "      <td>0</td>\n",
       "      <td>0</td>\n",
       "      <td>0</td>\n",
       "      <td>0</td>\n",
       "    </tr>\n",
       "    <tr>\n",
       "      <th>848453</th>\n",
       "      <td>24000.0</td>\n",
       "      <td>2.0</td>\n",
       "      <td>24.0</td>\n",
       "      <td>6.0</td>\n",
       "      <td>110000.0</td>\n",
       "      <td>0.0</td>\n",
       "      <td>18.30</td>\n",
       "      <td>9.0</td>\n",
       "      <td>68.1</td>\n",
       "      <td>8.0</td>\n",
       "      <td>...</td>\n",
       "      <td>0</td>\n",
       "      <td>0</td>\n",
       "      <td>0</td>\n",
       "      <td>0</td>\n",
       "      <td>0</td>\n",
       "      <td>0</td>\n",
       "      <td>0</td>\n",
       "      <td>0</td>\n",
       "      <td>0</td>\n",
       "      <td>0</td>\n",
       "    </tr>\n",
       "  </tbody>\n",
       "</table>\n",
       "<p>5 rows × 66 columns</p>\n",
       "</div>"
      ],
      "text/plain": [
       "        loan_amnt  term  sub_grade  emp_length  annual_inc  loan_status  \\\n",
       "848449    22400.0   2.0       22.0        10.0    119000.0          0.0   \n",
       "848450    19400.0   2.0       24.0         0.0     78000.0          1.0   \n",
       "848451    11200.0   2.0       22.0         5.0     86000.0          0.0   \n",
       "848452    23800.0   2.0       24.0        10.0    119000.0          1.0   \n",
       "848453    24000.0   2.0       24.0         6.0    110000.0          0.0   \n",
       "\n",
       "          dti  mths_since_recent_inq  revol_util  num_op_rev_tl  ...  \\\n",
       "848449  23.22                    1.0        51.5           12.0  ...   \n",
       "848450  13.02                    2.0        63.8            9.0  ...   \n",
       "848451   4.80                   10.0        54.7            7.0  ...   \n",
       "848452  32.73                    0.0        89.5            8.0  ...   \n",
       "848453  18.30                    9.0        68.1            8.0  ...   \n",
       "\n",
       "        addr_state__SD  addr_state__TN  addr_state__TX  addr_state__UT  \\\n",
       "848449               0               0               0               0   \n",
       "848450               0               0               0               0   \n",
       "848451               0               0               0               0   \n",
       "848452               0               0               0               0   \n",
       "848453               0               0               0               0   \n",
       "\n",
       "        addr_state__VA  addr_state__VT  addr_state__WA  addr_state__WI  \\\n",
       "848449               0               1               0               0   \n",
       "848450               0               0               0               0   \n",
       "848451               0               0               1               0   \n",
       "848452               0               0               0               0   \n",
       "848453               0               0               0               0   \n",
       "\n",
       "        addr_state__WV  addr_state__WY  \n",
       "848449               0               0  \n",
       "848450               0               0  \n",
       "848451               0               0  \n",
       "848452               0               0  \n",
       "848453               0               0  \n",
       "\n",
       "[5 rows x 66 columns]"
      ]
     },
     "execution_count": 60,
     "metadata": {},
     "output_type": "execute_result"
    }
   ],
   "source": [
    "p.tail()"
   ]
  },
  {
   "cell_type": "code",
   "execution_count": 61,
   "id": "a5d56412",
   "metadata": {},
   "outputs": [],
   "source": [
    "ro = p['loan_status']"
   ]
  },
  {
   "cell_type": "code",
   "execution_count": 62,
   "id": "a32c2c28",
   "metadata": {},
   "outputs": [
    {
     "data": {
      "text/plain": [
       "848449    0.0\n",
       "848450    1.0\n",
       "848451    0.0\n",
       "848452    1.0\n",
       "848453    0.0\n",
       "Name: loan_status, dtype: float64"
      ]
     },
     "execution_count": 62,
     "metadata": {},
     "output_type": "execute_result"
    }
   ],
   "source": [
    "ro.tail()"
   ]
  },
  {
   "cell_type": "code",
   "execution_count": 63,
   "id": "60c060b5",
   "metadata": {},
   "outputs": [],
   "source": [
    "p.drop('loan_status',axis=1,inplace=True)"
   ]
  },
  {
   "cell_type": "code",
   "execution_count": 64,
   "id": "a1e3f759",
   "metadata": {},
   "outputs": [
    {
     "data": {
      "text/html": [
       "<div>\n",
       "<style scoped>\n",
       "    .dataframe tbody tr th:only-of-type {\n",
       "        vertical-align: middle;\n",
       "    }\n",
       "\n",
       "    .dataframe tbody tr th {\n",
       "        vertical-align: top;\n",
       "    }\n",
       "\n",
       "    .dataframe thead th {\n",
       "        text-align: right;\n",
       "    }\n",
       "</style>\n",
       "<table border=\"1\" class=\"dataframe\">\n",
       "  <thead>\n",
       "    <tr style=\"text-align: right;\">\n",
       "      <th></th>\n",
       "      <th>loan_amnt</th>\n",
       "      <th>term</th>\n",
       "      <th>sub_grade</th>\n",
       "      <th>emp_length</th>\n",
       "      <th>annual_inc</th>\n",
       "      <th>dti</th>\n",
       "      <th>mths_since_recent_inq</th>\n",
       "      <th>revol_util</th>\n",
       "      <th>num_op_rev_tl</th>\n",
       "      <th>home_ownership__ANY</th>\n",
       "      <th>...</th>\n",
       "      <th>addr_state__SD</th>\n",
       "      <th>addr_state__TN</th>\n",
       "      <th>addr_state__TX</th>\n",
       "      <th>addr_state__UT</th>\n",
       "      <th>addr_state__VA</th>\n",
       "      <th>addr_state__VT</th>\n",
       "      <th>addr_state__WA</th>\n",
       "      <th>addr_state__WI</th>\n",
       "      <th>addr_state__WV</th>\n",
       "      <th>addr_state__WY</th>\n",
       "    </tr>\n",
       "  </thead>\n",
       "  <tbody>\n",
       "    <tr>\n",
       "      <th>0</th>\n",
       "      <td>3600.0</td>\n",
       "      <td>1.0</td>\n",
       "      <td>24.0</td>\n",
       "      <td>10.0</td>\n",
       "      <td>55000.0</td>\n",
       "      <td>5.91</td>\n",
       "      <td>4.0</td>\n",
       "      <td>29.7</td>\n",
       "      <td>4.0</td>\n",
       "      <td>0</td>\n",
       "      <td>...</td>\n",
       "      <td>0</td>\n",
       "      <td>0</td>\n",
       "      <td>0</td>\n",
       "      <td>0</td>\n",
       "      <td>0</td>\n",
       "      <td>0</td>\n",
       "      <td>0</td>\n",
       "      <td>0</td>\n",
       "      <td>0</td>\n",
       "      <td>0</td>\n",
       "    </tr>\n",
       "    <tr>\n",
       "      <th>1</th>\n",
       "      <td>20000.0</td>\n",
       "      <td>2.0</td>\n",
       "      <td>14.0</td>\n",
       "      <td>10.0</td>\n",
       "      <td>63000.0</td>\n",
       "      <td>10.78</td>\n",
       "      <td>10.0</td>\n",
       "      <td>56.2</td>\n",
       "      <td>4.0</td>\n",
       "      <td>0</td>\n",
       "      <td>...</td>\n",
       "      <td>0</td>\n",
       "      <td>0</td>\n",
       "      <td>0</td>\n",
       "      <td>0</td>\n",
       "      <td>0</td>\n",
       "      <td>0</td>\n",
       "      <td>0</td>\n",
       "      <td>0</td>\n",
       "      <td>0</td>\n",
       "      <td>0</td>\n",
       "    </tr>\n",
       "    <tr>\n",
       "      <th>2</th>\n",
       "      <td>10400.0</td>\n",
       "      <td>2.0</td>\n",
       "      <td>51.0</td>\n",
       "      <td>3.0</td>\n",
       "      <td>104433.0</td>\n",
       "      <td>25.37</td>\n",
       "      <td>1.0</td>\n",
       "      <td>64.5</td>\n",
       "      <td>7.0</td>\n",
       "      <td>0</td>\n",
       "      <td>...</td>\n",
       "      <td>0</td>\n",
       "      <td>0</td>\n",
       "      <td>0</td>\n",
       "      <td>0</td>\n",
       "      <td>0</td>\n",
       "      <td>0</td>\n",
       "      <td>0</td>\n",
       "      <td>0</td>\n",
       "      <td>0</td>\n",
       "      <td>0</td>\n",
       "    </tr>\n",
       "    <tr>\n",
       "      <th>3</th>\n",
       "      <td>20000.0</td>\n",
       "      <td>1.0</td>\n",
       "      <td>11.0</td>\n",
       "      <td>10.0</td>\n",
       "      <td>85000.0</td>\n",
       "      <td>17.61</td>\n",
       "      <td>8.0</td>\n",
       "      <td>5.7</td>\n",
       "      <td>3.0</td>\n",
       "      <td>0</td>\n",
       "      <td>...</td>\n",
       "      <td>0</td>\n",
       "      <td>0</td>\n",
       "      <td>0</td>\n",
       "      <td>0</td>\n",
       "      <td>0</td>\n",
       "      <td>0</td>\n",
       "      <td>0</td>\n",
       "      <td>0</td>\n",
       "      <td>0</td>\n",
       "      <td>0</td>\n",
       "    </tr>\n",
       "    <tr>\n",
       "      <th>4</th>\n",
       "      <td>10000.0</td>\n",
       "      <td>1.0</td>\n",
       "      <td>2.0</td>\n",
       "      <td>6.0</td>\n",
       "      <td>85000.0</td>\n",
       "      <td>13.07</td>\n",
       "      <td>1.0</td>\n",
       "      <td>34.5</td>\n",
       "      <td>13.0</td>\n",
       "      <td>0</td>\n",
       "      <td>...</td>\n",
       "      <td>0</td>\n",
       "      <td>0</td>\n",
       "      <td>0</td>\n",
       "      <td>0</td>\n",
       "      <td>0</td>\n",
       "      <td>0</td>\n",
       "      <td>0</td>\n",
       "      <td>0</td>\n",
       "      <td>0</td>\n",
       "      <td>0</td>\n",
       "    </tr>\n",
       "  </tbody>\n",
       "</table>\n",
       "<p>5 rows × 65 columns</p>\n",
       "</div>"
      ],
      "text/plain": [
       "   loan_amnt  term  sub_grade  emp_length  annual_inc    dti  \\\n",
       "0     3600.0   1.0       24.0        10.0     55000.0   5.91   \n",
       "1    20000.0   2.0       14.0        10.0     63000.0  10.78   \n",
       "2    10400.0   2.0       51.0         3.0    104433.0  25.37   \n",
       "3    20000.0   1.0       11.0        10.0     85000.0  17.61   \n",
       "4    10000.0   1.0        2.0         6.0     85000.0  13.07   \n",
       "\n",
       "   mths_since_recent_inq  revol_util  num_op_rev_tl  home_ownership__ANY  ...  \\\n",
       "0                    4.0        29.7            4.0                    0  ...   \n",
       "1                   10.0        56.2            4.0                    0  ...   \n",
       "2                    1.0        64.5            7.0                    0  ...   \n",
       "3                    8.0         5.7            3.0                    0  ...   \n",
       "4                    1.0        34.5           13.0                    0  ...   \n",
       "\n",
       "   addr_state__SD  addr_state__TN  addr_state__TX  addr_state__UT  \\\n",
       "0               0               0               0               0   \n",
       "1               0               0               0               0   \n",
       "2               0               0               0               0   \n",
       "3               0               0               0               0   \n",
       "4               0               0               0               0   \n",
       "\n",
       "   addr_state__VA  addr_state__VT  addr_state__WA  addr_state__WI  \\\n",
       "0               0               0               0               0   \n",
       "1               0               0               0               0   \n",
       "2               0               0               0               0   \n",
       "3               0               0               0               0   \n",
       "4               0               0               0               0   \n",
       "\n",
       "   addr_state__WV  addr_state__WY  \n",
       "0               0               0  \n",
       "1               0               0  \n",
       "2               0               0  \n",
       "3               0               0  \n",
       "4               0               0  \n",
       "\n",
       "[5 rows x 65 columns]"
      ]
     },
     "execution_count": 64,
     "metadata": {},
     "output_type": "execute_result"
    }
   ],
   "source": [
    "p.head()"
   ]
  },
  {
   "cell_type": "code",
   "execution_count": 65,
   "id": "26749559",
   "metadata": {},
   "outputs": [],
   "source": [
    "X = p"
   ]
  },
  {
   "cell_type": "code",
   "execution_count": 66,
   "id": "9046860f",
   "metadata": {},
   "outputs": [],
   "source": [
    "from sklearn.preprocessing import StandardScaler\n",
    "from sklearn.model_selection import train_test_split"
   ]
  },
  {
   "cell_type": "code",
   "execution_count": 67,
   "id": "94c8b820",
   "metadata": {},
   "outputs": [],
   "source": [
    "X_train, X_test, ro_train, ro_test = train_test_split(X, ro, test_size=0.40, random_state=42)"
   ]
  },
  {
   "cell_type": "code",
   "execution_count": 39,
   "id": "80edcc9d",
   "metadata": {},
   "outputs": [],
   "source": [
    "from sklearn.preprocessing import StandardScaler\n",
    "sd= StandardScaler()\n",
    "X_train = sd.fit_transform(X_train)\n",
    "X_test = sd.fit_transform(X_test)"
   ]
  },
  {
   "cell_type": "code",
   "execution_count": 68,
   "id": "8bab56dc",
   "metadata": {},
   "outputs": [
    {
     "data": {
      "text/plain": [
       "1.0    403598\n",
       "0.0    105474\n",
       "Name: loan_status, dtype: int64"
      ]
     },
     "execution_count": 68,
     "metadata": {},
     "output_type": "execute_result"
    }
   ],
   "source": [
    "ro_train.value_counts()"
   ]
  },
  {
   "cell_type": "code",
   "execution_count": 69,
   "id": "b3c45221",
   "metadata": {},
   "outputs": [
    {
     "data": {
      "text/plain": [
       "1.0    268779\n",
       "0.0     70603\n",
       "Name: loan_status, dtype: int64"
      ]
     },
     "execution_count": 69,
     "metadata": {},
     "output_type": "execute_result"
    }
   ],
   "source": [
    "ro_test.value_counts()"
   ]
  },
  {
   "cell_type": "code",
   "execution_count": 23,
   "id": "3c703ed9",
   "metadata": {},
   "outputs": [
    {
     "data": {
      "text/plain": [
       "Index(['loan_amnt', 'term', 'sub_grade', 'emp_length', 'annual_inc', 'dti',\n",
       "       'mths_since_recent_inq', 'revol_util', 'num_op_rev_tl',\n",
       "       'home_ownership__MORTGAGE', 'home_ownership__NONE',\n",
       "       'home_ownership__RENT', 'addr_state__AZ', 'addr_state__CA',\n",
       "       'addr_state__FL', 'addr_state__NE', 'addr_state__NY', 'addr_state__OR',\n",
       "       'addr_state__SD', 'addr_state__TX'],\n",
       "      dtype='object')"
      ]
     },
     "execution_count": 23,
     "metadata": {},
     "output_type": "execute_result"
    }
   ],
   "source": [
    "from sklearn.feature_selection import mutual_info_regression,mutual_info_classif\n",
    "mi=mutual_info_classif(X_train,ro_train)\n",
    "mi=pd.Series(mi)\n",
    "mi.index=X.columns\n",
    "lol=mi.sort_values(ascending=False)\n",
    "from sklearn.feature_selection import SelectPercentile\n",
    "sel=SelectPercentile(mutual_info_classif,percentile=30).fit(X_train,ro_train)\n",
    "X.columns[sel.get_support()]"
   ]
  },
  {
   "cell_type": "code",
   "execution_count": 24,
   "id": "7c8d06b6",
   "metadata": {},
   "outputs": [],
   "source": [
    "x = X[['loan_amnt', 'term', 'sub_grade', 'emp_length', 'annual_inc', 'dti',\n",
    "       'mths_since_recent_inq', 'revol_util', 'num_op_rev_tl',\n",
    "       'home_ownership__MORTGAGE', 'home_ownership__NONE',\n",
    "       'home_ownership__RENT', 'addr_state__AZ', 'addr_state__CA',\n",
    "       'addr_state__FL', 'addr_state__NE', 'addr_state__NY', 'addr_state__OR',\n",
    "       'addr_state__SD', 'addr_state__TX']]"
   ]
  },
  {
   "cell_type": "code",
   "execution_count": 81,
   "id": "7521e747",
   "metadata": {},
   "outputs": [],
   "source": [
    "from imblearn.under_sampling import TomekLinks\n",
    "from imblearn.over_sampling import SMOTE"
   ]
  },
  {
   "cell_type": "code",
   "execution_count": 82,
   "id": "c8fc1854",
   "metadata": {},
   "outputs": [
    {
     "name": "stdout",
     "output_type": "stream",
     "text": [
      "ERROR! Session/line number was not unique in database. History logging moved to new session 54\n"
     ]
    }
   ],
   "source": [
    "sm = SMOTE(\n",
    "    sampling_strategy='auto',  # samples only the minority class\n",
    "    random_state=0,  # for reproducibility\n",
    "    k_neighbors=5\n",
    ")\n",
    "\n",
    "X_sm, y_sm = sm.fit_resample(X, ro)"
   ]
  },
  {
   "cell_type": "code",
   "execution_count": 83,
   "id": "b311e0fc",
   "metadata": {},
   "outputs": [
    {
     "data": {
      "text/plain": [
       "1.0    672377\n",
       "0.0    672377\n",
       "Name: loan_status, dtype: int64"
      ]
     },
     "execution_count": 83,
     "metadata": {},
     "output_type": "execute_result"
    }
   ],
   "source": [
    "y_sm.value_counts()"
   ]
  },
  {
   "cell_type": "code",
   "execution_count": 84,
   "id": "7b9320cc",
   "metadata": {},
   "outputs": [
    {
     "data": {
      "text/plain": [
       "1.0    403598\n",
       "0.0    105474\n",
       "Name: loan_status, dtype: int64"
      ]
     },
     "execution_count": 84,
     "metadata": {},
     "output_type": "execute_result"
    }
   ],
   "source": [
    "ro_train.value_counts()"
   ]
  },
  {
   "cell_type": "code",
   "execution_count": 89,
   "id": "1596eca4",
   "metadata": {},
   "outputs": [
    {
     "data": {
      "text/plain": [
       "1344752    0.0\n",
       "1344753    0.0\n",
       "Name: loan_status, dtype: float64"
      ]
     },
     "execution_count": 89,
     "metadata": {},
     "output_type": "execute_result"
    }
   ],
   "source": [
    "y_sm.tail(2)"
   ]
  },
  {
   "cell_type": "code",
   "execution_count": 90,
   "id": "dfbb2a6a",
   "metadata": {},
   "outputs": [],
   "source": [
    "X_train, X_test, ro_train, ro_test = train_test_split(X_sm, y_sm, test_size=0.30, random_state=42)"
   ]
  },
  {
   "cell_type": "code",
   "execution_count": 26,
   "id": "5ed8b065",
   "metadata": {},
   "outputs": [],
   "source": [
    "from sklearn.metrics import accuracy_score"
   ]
  },
  {
   "cell_type": "code",
   "execution_count": 40,
   "id": "e8891c20",
   "metadata": {},
   "outputs": [],
   "source": [
    "from sklearn.ensemble import RandomForestClassifier"
   ]
  },
  {
   "cell_type": "code",
   "execution_count": 95,
   "id": "9169f29c",
   "metadata": {},
   "outputs": [],
   "source": [
    "sv=RandomForestClassifier(max_depth=26,n_estimators=300, min_samples_split=2, min_samples_leaf=5,bootstrap=True)"
   ]
  },
  {
   "cell_type": "code",
   "execution_count": 96,
   "id": "3e75e172",
   "metadata": {},
   "outputs": [
    {
     "data": {
      "text/plain": [
       "RandomForestClassifier(max_depth=26, min_samples_leaf=5, n_estimators=300)"
      ]
     },
     "execution_count": 96,
     "metadata": {},
     "output_type": "execute_result"
    }
   ],
   "source": [
    "sv.fit(X_train,ro_train)"
   ]
  },
  {
   "cell_type": "code",
   "execution_count": 97,
   "id": "40121bd0",
   "metadata": {},
   "outputs": [
    {
     "data": {
      "text/plain": [
       "0.8465273767001217"
      ]
     },
     "execution_count": 97,
     "metadata": {},
     "output_type": "execute_result"
    }
   ],
   "source": [
    "rf2=sv.predict(X_test)\n",
    "accuracy_score(rf2,ro_test)"
   ]
  },
  {
   "cell_type": "code",
   "execution_count": 98,
   "id": "5416e51b",
   "metadata": {},
   "outputs": [
    {
     "data": {
      "text/plain": [
       "0.8701811379042564"
      ]
     },
     "execution_count": 98,
     "metadata": {},
     "output_type": "execute_result"
    }
   ],
   "source": [
    "rf1=sv.predict(X_train)\n",
    "accuracy_score(rf1,ro_train)"
   ]
  },
  {
   "cell_type": "code",
   "execution_count": 99,
   "id": "500d6011",
   "metadata": {},
   "outputs": [],
   "source": [
    "ars = pd.concat([X_sm,y_sm],axis=1)"
   ]
  },
  {
   "cell_type": "code",
   "execution_count": 100,
   "id": "b8595e9a",
   "metadata": {},
   "outputs": [],
   "source": [
    "ars.to_csv('ars.csv')"
   ]
  },
  {
   "cell_type": "code",
   "execution_count": 104,
   "id": "d70ff2ae",
   "metadata": {},
   "outputs": [
    {
     "data": {
      "text/html": [
       "<div>\n",
       "<style scoped>\n",
       "    .dataframe tbody tr th:only-of-type {\n",
       "        vertical-align: middle;\n",
       "    }\n",
       "\n",
       "    .dataframe tbody tr th {\n",
       "        vertical-align: top;\n",
       "    }\n",
       "\n",
       "    .dataframe thead th {\n",
       "        text-align: right;\n",
       "    }\n",
       "</style>\n",
       "<table border=\"1\" class=\"dataframe\">\n",
       "  <thead>\n",
       "    <tr style=\"text-align: right;\">\n",
       "      <th></th>\n",
       "      <th>loan_amnt</th>\n",
       "      <th>term</th>\n",
       "      <th>sub_grade</th>\n",
       "      <th>emp_length</th>\n",
       "      <th>annual_inc</th>\n",
       "      <th>dti</th>\n",
       "      <th>mths_since_recent_inq</th>\n",
       "      <th>revol_util</th>\n",
       "      <th>num_op_rev_tl</th>\n",
       "      <th>home_ownership__ANY</th>\n",
       "      <th>...</th>\n",
       "      <th>addr_state__SD</th>\n",
       "      <th>addr_state__TN</th>\n",
       "      <th>addr_state__TX</th>\n",
       "      <th>addr_state__UT</th>\n",
       "      <th>addr_state__VA</th>\n",
       "      <th>addr_state__VT</th>\n",
       "      <th>addr_state__WA</th>\n",
       "      <th>addr_state__WI</th>\n",
       "      <th>addr_state__WV</th>\n",
       "      <th>addr_state__WY</th>\n",
       "    </tr>\n",
       "  </thead>\n",
       "  <tbody>\n",
       "    <tr>\n",
       "      <th>848449</th>\n",
       "      <td>22400.0</td>\n",
       "      <td>2.0</td>\n",
       "      <td>22.0</td>\n",
       "      <td>10.0</td>\n",
       "      <td>119000.0</td>\n",
       "      <td>23.22</td>\n",
       "      <td>1.0</td>\n",
       "      <td>51.5</td>\n",
       "      <td>12.0</td>\n",
       "      <td>0</td>\n",
       "      <td>...</td>\n",
       "      <td>0</td>\n",
       "      <td>0</td>\n",
       "      <td>0</td>\n",
       "      <td>0</td>\n",
       "      <td>0</td>\n",
       "      <td>1</td>\n",
       "      <td>0</td>\n",
       "      <td>0</td>\n",
       "      <td>0</td>\n",
       "      <td>0</td>\n",
       "    </tr>\n",
       "    <tr>\n",
       "      <th>848450</th>\n",
       "      <td>19400.0</td>\n",
       "      <td>2.0</td>\n",
       "      <td>24.0</td>\n",
       "      <td>0.0</td>\n",
       "      <td>78000.0</td>\n",
       "      <td>13.02</td>\n",
       "      <td>2.0</td>\n",
       "      <td>63.8</td>\n",
       "      <td>9.0</td>\n",
       "      <td>0</td>\n",
       "      <td>...</td>\n",
       "      <td>0</td>\n",
       "      <td>0</td>\n",
       "      <td>0</td>\n",
       "      <td>0</td>\n",
       "      <td>0</td>\n",
       "      <td>0</td>\n",
       "      <td>0</td>\n",
       "      <td>0</td>\n",
       "      <td>0</td>\n",
       "      <td>0</td>\n",
       "    </tr>\n",
       "    <tr>\n",
       "      <th>848451</th>\n",
       "      <td>11200.0</td>\n",
       "      <td>2.0</td>\n",
       "      <td>22.0</td>\n",
       "      <td>5.0</td>\n",
       "      <td>86000.0</td>\n",
       "      <td>4.80</td>\n",
       "      <td>10.0</td>\n",
       "      <td>54.7</td>\n",
       "      <td>7.0</td>\n",
       "      <td>0</td>\n",
       "      <td>...</td>\n",
       "      <td>0</td>\n",
       "      <td>0</td>\n",
       "      <td>0</td>\n",
       "      <td>0</td>\n",
       "      <td>0</td>\n",
       "      <td>0</td>\n",
       "      <td>1</td>\n",
       "      <td>0</td>\n",
       "      <td>0</td>\n",
       "      <td>0</td>\n",
       "    </tr>\n",
       "    <tr>\n",
       "      <th>848452</th>\n",
       "      <td>23800.0</td>\n",
       "      <td>2.0</td>\n",
       "      <td>24.0</td>\n",
       "      <td>10.0</td>\n",
       "      <td>119000.0</td>\n",
       "      <td>32.73</td>\n",
       "      <td>0.0</td>\n",
       "      <td>89.5</td>\n",
       "      <td>8.0</td>\n",
       "      <td>0</td>\n",
       "      <td>...</td>\n",
       "      <td>0</td>\n",
       "      <td>0</td>\n",
       "      <td>0</td>\n",
       "      <td>0</td>\n",
       "      <td>0</td>\n",
       "      <td>0</td>\n",
       "      <td>0</td>\n",
       "      <td>0</td>\n",
       "      <td>0</td>\n",
       "      <td>0</td>\n",
       "    </tr>\n",
       "    <tr>\n",
       "      <th>848453</th>\n",
       "      <td>24000.0</td>\n",
       "      <td>2.0</td>\n",
       "      <td>24.0</td>\n",
       "      <td>6.0</td>\n",
       "      <td>110000.0</td>\n",
       "      <td>18.30</td>\n",
       "      <td>9.0</td>\n",
       "      <td>68.1</td>\n",
       "      <td>8.0</td>\n",
       "      <td>0</td>\n",
       "      <td>...</td>\n",
       "      <td>0</td>\n",
       "      <td>0</td>\n",
       "      <td>0</td>\n",
       "      <td>0</td>\n",
       "      <td>0</td>\n",
       "      <td>0</td>\n",
       "      <td>0</td>\n",
       "      <td>0</td>\n",
       "      <td>0</td>\n",
       "      <td>0</td>\n",
       "    </tr>\n",
       "  </tbody>\n",
       "</table>\n",
       "<p>5 rows × 65 columns</p>\n",
       "</div>"
      ],
      "text/plain": [
       "        loan_amnt  term  sub_grade  emp_length  annual_inc    dti  \\\n",
       "848449    22400.0   2.0       22.0        10.0    119000.0  23.22   \n",
       "848450    19400.0   2.0       24.0         0.0     78000.0  13.02   \n",
       "848451    11200.0   2.0       22.0         5.0     86000.0   4.80   \n",
       "848452    23800.0   2.0       24.0        10.0    119000.0  32.73   \n",
       "848453    24000.0   2.0       24.0         6.0    110000.0  18.30   \n",
       "\n",
       "        mths_since_recent_inq  revol_util  num_op_rev_tl  home_ownership__ANY  \\\n",
       "848449                    1.0        51.5           12.0                    0   \n",
       "848450                    2.0        63.8            9.0                    0   \n",
       "848451                   10.0        54.7            7.0                    0   \n",
       "848452                    0.0        89.5            8.0                    0   \n",
       "848453                    9.0        68.1            8.0                    0   \n",
       "\n",
       "        ...  addr_state__SD  addr_state__TN  addr_state__TX  addr_state__UT  \\\n",
       "848449  ...               0               0               0               0   \n",
       "848450  ...               0               0               0               0   \n",
       "848451  ...               0               0               0               0   \n",
       "848452  ...               0               0               0               0   \n",
       "848453  ...               0               0               0               0   \n",
       "\n",
       "        addr_state__VA  addr_state__VT  addr_state__WA  addr_state__WI  \\\n",
       "848449               0               1               0               0   \n",
       "848450               0               0               0               0   \n",
       "848451               0               0               1               0   \n",
       "848452               0               0               0               0   \n",
       "848453               0               0               0               0   \n",
       "\n",
       "        addr_state__WV  addr_state__WY  \n",
       "848449               0               0  \n",
       "848450               0               0  \n",
       "848451               0               0  \n",
       "848452               0               0  \n",
       "848453               0               0  \n",
       "\n",
       "[5 rows x 65 columns]"
      ]
     },
     "execution_count": 104,
     "metadata": {},
     "output_type": "execute_result"
    }
   ],
   "source": [
    "X.tail()"
   ]
  },
  {
   "cell_type": "code",
   "execution_count": 103,
   "id": "73da479a",
   "metadata": {},
   "outputs": [
    {
     "data": {
      "text/html": [
       "<div>\n",
       "<style scoped>\n",
       "    .dataframe tbody tr th:only-of-type {\n",
       "        vertical-align: middle;\n",
       "    }\n",
       "\n",
       "    .dataframe tbody tr th {\n",
       "        vertical-align: top;\n",
       "    }\n",
       "\n",
       "    .dataframe thead th {\n",
       "        text-align: right;\n",
       "    }\n",
       "</style>\n",
       "<table border=\"1\" class=\"dataframe\">\n",
       "  <thead>\n",
       "    <tr style=\"text-align: right;\">\n",
       "      <th></th>\n",
       "      <th>loan_amnt</th>\n",
       "      <th>term</th>\n",
       "      <th>sub_grade</th>\n",
       "      <th>emp_length</th>\n",
       "      <th>annual_inc</th>\n",
       "      <th>dti</th>\n",
       "      <th>mths_since_recent_inq</th>\n",
       "      <th>revol_util</th>\n",
       "      <th>num_op_rev_tl</th>\n",
       "      <th>home_ownership__ANY</th>\n",
       "      <th>...</th>\n",
       "      <th>addr_state__SD</th>\n",
       "      <th>addr_state__TN</th>\n",
       "      <th>addr_state__TX</th>\n",
       "      <th>addr_state__UT</th>\n",
       "      <th>addr_state__VA</th>\n",
       "      <th>addr_state__VT</th>\n",
       "      <th>addr_state__WA</th>\n",
       "      <th>addr_state__WI</th>\n",
       "      <th>addr_state__WV</th>\n",
       "      <th>addr_state__WY</th>\n",
       "    </tr>\n",
       "  </thead>\n",
       "  <tbody>\n",
       "    <tr>\n",
       "      <th>1344749</th>\n",
       "      <td>18500.000000</td>\n",
       "      <td>2.000000</td>\n",
       "      <td>15.393783</td>\n",
       "      <td>10.000000</td>\n",
       "      <td>60000.0</td>\n",
       "      <td>15.514145</td>\n",
       "      <td>18.483937</td>\n",
       "      <td>75.190362</td>\n",
       "      <td>7.478757</td>\n",
       "      <td>0</td>\n",
       "      <td>...</td>\n",
       "      <td>0</td>\n",
       "      <td>0</td>\n",
       "      <td>0</td>\n",
       "      <td>0</td>\n",
       "      <td>0</td>\n",
       "      <td>0</td>\n",
       "      <td>0</td>\n",
       "      <td>0</td>\n",
       "      <td>0</td>\n",
       "      <td>0</td>\n",
       "    </tr>\n",
       "    <tr>\n",
       "      <th>1344750</th>\n",
       "      <td>10000.000000</td>\n",
       "      <td>1.994472</td>\n",
       "      <td>32.005528</td>\n",
       "      <td>3.038695</td>\n",
       "      <td>94000.0</td>\n",
       "      <td>18.478292</td>\n",
       "      <td>1.000000</td>\n",
       "      <td>34.356882</td>\n",
       "      <td>7.055279</td>\n",
       "      <td>0</td>\n",
       "      <td>...</td>\n",
       "      <td>0</td>\n",
       "      <td>0</td>\n",
       "      <td>0</td>\n",
       "      <td>0</td>\n",
       "      <td>0</td>\n",
       "      <td>0</td>\n",
       "      <td>0</td>\n",
       "      <td>0</td>\n",
       "      <td>0</td>\n",
       "      <td>0</td>\n",
       "    </tr>\n",
       "    <tr>\n",
       "      <th>1344751</th>\n",
       "      <td>26410.562297</td>\n",
       "      <td>1.000000</td>\n",
       "      <td>18.914886</td>\n",
       "      <td>1.056230</td>\n",
       "      <td>82000.0</td>\n",
       "      <td>19.125936</td>\n",
       "      <td>11.155016</td>\n",
       "      <td>49.168689</td>\n",
       "      <td>13.267476</td>\n",
       "      <td>0</td>\n",
       "      <td>...</td>\n",
       "      <td>0</td>\n",
       "      <td>0</td>\n",
       "      <td>0</td>\n",
       "      <td>0</td>\n",
       "      <td>0</td>\n",
       "      <td>0</td>\n",
       "      <td>0</td>\n",
       "      <td>0</td>\n",
       "      <td>0</td>\n",
       "      <td>0</td>\n",
       "    </tr>\n",
       "    <tr>\n",
       "      <th>1344752</th>\n",
       "      <td>4937.025470</td>\n",
       "      <td>1.000000</td>\n",
       "      <td>21.166146</td>\n",
       "      <td>4.518981</td>\n",
       "      <td>89000.0</td>\n",
       "      <td>25.040983</td>\n",
       "      <td>5.110764</td>\n",
       "      <td>64.712818</td>\n",
       "      <td>22.518981</td>\n",
       "      <td>0</td>\n",
       "      <td>...</td>\n",
       "      <td>0</td>\n",
       "      <td>0</td>\n",
       "      <td>0</td>\n",
       "      <td>0</td>\n",
       "      <td>0</td>\n",
       "      <td>0</td>\n",
       "      <td>0</td>\n",
       "      <td>0</td>\n",
       "      <td>0</td>\n",
       "      <td>0</td>\n",
       "    </tr>\n",
       "    <tr>\n",
       "      <th>1344753</th>\n",
       "      <td>22500.000000</td>\n",
       "      <td>1.000000</td>\n",
       "      <td>28.047468</td>\n",
       "      <td>6.107199</td>\n",
       "      <td>50000.0</td>\n",
       "      <td>29.503334</td>\n",
       "      <td>9.369066</td>\n",
       "      <td>78.583465</td>\n",
       "      <td>6.892801</td>\n",
       "      <td>0</td>\n",
       "      <td>...</td>\n",
       "      <td>0</td>\n",
       "      <td>0</td>\n",
       "      <td>0</td>\n",
       "      <td>0</td>\n",
       "      <td>0</td>\n",
       "      <td>0</td>\n",
       "      <td>0</td>\n",
       "      <td>0</td>\n",
       "      <td>0</td>\n",
       "      <td>0</td>\n",
       "    </tr>\n",
       "  </tbody>\n",
       "</table>\n",
       "<p>5 rows × 65 columns</p>\n",
       "</div>"
      ],
      "text/plain": [
       "            loan_amnt      term  sub_grade  emp_length  annual_inc        dti  \\\n",
       "1344749  18500.000000  2.000000  15.393783   10.000000     60000.0  15.514145   \n",
       "1344750  10000.000000  1.994472  32.005528    3.038695     94000.0  18.478292   \n",
       "1344751  26410.562297  1.000000  18.914886    1.056230     82000.0  19.125936   \n",
       "1344752   4937.025470  1.000000  21.166146    4.518981     89000.0  25.040983   \n",
       "1344753  22500.000000  1.000000  28.047468    6.107199     50000.0  29.503334   \n",
       "\n",
       "         mths_since_recent_inq  revol_util  num_op_rev_tl  \\\n",
       "1344749              18.483937   75.190362       7.478757   \n",
       "1344750               1.000000   34.356882       7.055279   \n",
       "1344751              11.155016   49.168689      13.267476   \n",
       "1344752               5.110764   64.712818      22.518981   \n",
       "1344753               9.369066   78.583465       6.892801   \n",
       "\n",
       "         home_ownership__ANY  ...  addr_state__SD  addr_state__TN  \\\n",
       "1344749                    0  ...               0               0   \n",
       "1344750                    0  ...               0               0   \n",
       "1344751                    0  ...               0               0   \n",
       "1344752                    0  ...               0               0   \n",
       "1344753                    0  ...               0               0   \n",
       "\n",
       "         addr_state__TX  addr_state__UT  addr_state__VA  addr_state__VT  \\\n",
       "1344749               0               0               0               0   \n",
       "1344750               0               0               0               0   \n",
       "1344751               0               0               0               0   \n",
       "1344752               0               0               0               0   \n",
       "1344753               0               0               0               0   \n",
       "\n",
       "         addr_state__WA  addr_state__WI  addr_state__WV  addr_state__WY  \n",
       "1344749               0               0               0               0  \n",
       "1344750               0               0               0               0  \n",
       "1344751               0               0               0               0  \n",
       "1344752               0               0               0               0  \n",
       "1344753               0               0               0               0  \n",
       "\n",
       "[5 rows x 65 columns]"
      ]
     },
     "execution_count": 103,
     "metadata": {},
     "output_type": "execute_result"
    }
   ],
   "source": [
    "X_sm.tail()"
   ]
  },
  {
   "cell_type": "code",
   "execution_count": 76,
   "id": "e9b1e784",
   "metadata": {},
   "outputs": [],
   "source": [
    "p = pd.read_csv('ars.csv')"
   ]
  },
  {
   "cell_type": "code",
   "execution_count": 77,
   "id": "38105b3b",
   "metadata": {},
   "outputs": [
    {
     "data": {
      "text/html": [
       "<div>\n",
       "<style scoped>\n",
       "    .dataframe tbody tr th:only-of-type {\n",
       "        vertical-align: middle;\n",
       "    }\n",
       "\n",
       "    .dataframe tbody tr th {\n",
       "        vertical-align: top;\n",
       "    }\n",
       "\n",
       "    .dataframe thead th {\n",
       "        text-align: right;\n",
       "    }\n",
       "</style>\n",
       "<table border=\"1\" class=\"dataframe\">\n",
       "  <thead>\n",
       "    <tr style=\"text-align: right;\">\n",
       "      <th></th>\n",
       "      <th>Unnamed: 0</th>\n",
       "      <th>loan_amnt</th>\n",
       "      <th>term</th>\n",
       "      <th>sub_grade</th>\n",
       "      <th>emp_length</th>\n",
       "      <th>annual_inc</th>\n",
       "      <th>dti</th>\n",
       "      <th>mths_since_recent_inq</th>\n",
       "      <th>revol_util</th>\n",
       "      <th>num_op_rev_tl</th>\n",
       "      <th>...</th>\n",
       "      <th>addr_state__TN</th>\n",
       "      <th>addr_state__TX</th>\n",
       "      <th>addr_state__UT</th>\n",
       "      <th>addr_state__VA</th>\n",
       "      <th>addr_state__VT</th>\n",
       "      <th>addr_state__WA</th>\n",
       "      <th>addr_state__WI</th>\n",
       "      <th>addr_state__WV</th>\n",
       "      <th>addr_state__WY</th>\n",
       "      <th>loan_status</th>\n",
       "    </tr>\n",
       "  </thead>\n",
       "  <tbody>\n",
       "    <tr>\n",
       "      <th>count</th>\n",
       "      <td>1.344754e+06</td>\n",
       "      <td>1.344754e+06</td>\n",
       "      <td>1.344754e+06</td>\n",
       "      <td>1.344754e+06</td>\n",
       "      <td>1.344754e+06</td>\n",
       "      <td>1.344754e+06</td>\n",
       "      <td>1.344754e+06</td>\n",
       "      <td>1.344754e+06</td>\n",
       "      <td>1.344754e+06</td>\n",
       "      <td>1.344754e+06</td>\n",
       "      <td>...</td>\n",
       "      <td>1.344754e+06</td>\n",
       "      <td>1.344754e+06</td>\n",
       "      <td>1.344754e+06</td>\n",
       "      <td>1.344754e+06</td>\n",
       "      <td>1.344754e+06</td>\n",
       "      <td>1.344754e+06</td>\n",
       "      <td>1.344754e+06</td>\n",
       "      <td>1.344754e+06</td>\n",
       "      <td>1.344754e+06</td>\n",
       "      <td>1344754.0</td>\n",
       "    </tr>\n",
       "    <tr>\n",
       "      <th>mean</th>\n",
       "      <td>6.723765e+05</td>\n",
       "      <td>1.527977e+04</td>\n",
       "      <td>1.329998e+00</td>\n",
       "      <td>2.365404e+01</td>\n",
       "      <td>6.119751e+00</td>\n",
       "      <td>7.151406e+04</td>\n",
       "      <td>1.919664e+01</td>\n",
       "      <td>6.396686e+00</td>\n",
       "      <td>5.386607e+01</td>\n",
       "      <td>8.475898e+00</td>\n",
       "      <td>...</td>\n",
       "      <td>1.008065e-02</td>\n",
       "      <td>5.706025e-02</td>\n",
       "      <td>4.732464e-03</td>\n",
       "      <td>1.744780e-02</td>\n",
       "      <td>1.335560e-03</td>\n",
       "      <td>1.412005e-02</td>\n",
       "      <td>8.832842e-03</td>\n",
       "      <td>2.216019e-03</td>\n",
       "      <td>1.483543e-03</td>\n",
       "      <td>0.5</td>\n",
       "    </tr>\n",
       "    <tr>\n",
       "      <th>std</th>\n",
       "      <td>3.881972e+05</td>\n",
       "      <td>8.360358e+03</td>\n",
       "      <td>4.486857e-01</td>\n",
       "      <td>1.273937e+01</td>\n",
       "      <td>3.469706e+00</td>\n",
       "      <td>2.531758e+04</td>\n",
       "      <td>7.903428e+00</td>\n",
       "      <td>5.448595e+00</td>\n",
       "      <td>2.254868e+01</td>\n",
       "      <td>4.141467e+00</td>\n",
       "      <td>...</td>\n",
       "      <td>9.989515e-02</td>\n",
       "      <td>2.319578e-01</td>\n",
       "      <td>6.862996e-02</td>\n",
       "      <td>1.309328e-01</td>\n",
       "      <td>3.652092e-02</td>\n",
       "      <td>1.179860e-01</td>\n",
       "      <td>9.356725e-02</td>\n",
       "      <td>4.702244e-02</td>\n",
       "      <td>3.848822e-02</td>\n",
       "      <td>0.5</td>\n",
       "    </tr>\n",
       "    <tr>\n",
       "      <th>min</th>\n",
       "      <td>0.000000e+00</td>\n",
       "      <td>1.000000e+03</td>\n",
       "      <td>1.000000e+00</td>\n",
       "      <td>1.000000e+00</td>\n",
       "      <td>0.000000e+00</td>\n",
       "      <td>3.500099e+04</td>\n",
       "      <td>-1.000000e+00</td>\n",
       "      <td>0.000000e+00</td>\n",
       "      <td>0.000000e+00</td>\n",
       "      <td>0.000000e+00</td>\n",
       "      <td>...</td>\n",
       "      <td>0.000000e+00</td>\n",
       "      <td>0.000000e+00</td>\n",
       "      <td>0.000000e+00</td>\n",
       "      <td>0.000000e+00</td>\n",
       "      <td>0.000000e+00</td>\n",
       "      <td>0.000000e+00</td>\n",
       "      <td>0.000000e+00</td>\n",
       "      <td>0.000000e+00</td>\n",
       "      <td>0.000000e+00</td>\n",
       "      <td>0.0</td>\n",
       "    </tr>\n",
       "    <tr>\n",
       "      <th>25%</th>\n",
       "      <td>3.361882e+05</td>\n",
       "      <td>9.000000e+03</td>\n",
       "      <td>1.000000e+00</td>\n",
       "      <td>1.400000e+01</td>\n",
       "      <td>3.000000e+00</td>\n",
       "      <td>5.000000e+04</td>\n",
       "      <td>1.341848e+01</td>\n",
       "      <td>2.000000e+00</td>\n",
       "      <td>3.750000e+01</td>\n",
       "      <td>5.591912e+00</td>\n",
       "      <td>...</td>\n",
       "      <td>0.000000e+00</td>\n",
       "      <td>0.000000e+00</td>\n",
       "      <td>0.000000e+00</td>\n",
       "      <td>0.000000e+00</td>\n",
       "      <td>0.000000e+00</td>\n",
       "      <td>0.000000e+00</td>\n",
       "      <td>0.000000e+00</td>\n",
       "      <td>0.000000e+00</td>\n",
       "      <td>0.000000e+00</td>\n",
       "      <td>0.0</td>\n",
       "    </tr>\n",
       "    <tr>\n",
       "      <th>50%</th>\n",
       "      <td>6.723765e+05</td>\n",
       "      <td>1.434374e+04</td>\n",
       "      <td>1.000000e+00</td>\n",
       "      <td>2.300000e+01</td>\n",
       "      <td>6.450512e+00</td>\n",
       "      <td>6.551503e+04</td>\n",
       "      <td>1.893394e+01</td>\n",
       "      <td>5.000000e+00</td>\n",
       "      <td>5.432643e+01</td>\n",
       "      <td>8.000000e+00</td>\n",
       "      <td>...</td>\n",
       "      <td>0.000000e+00</td>\n",
       "      <td>0.000000e+00</td>\n",
       "      <td>0.000000e+00</td>\n",
       "      <td>0.000000e+00</td>\n",
       "      <td>0.000000e+00</td>\n",
       "      <td>0.000000e+00</td>\n",
       "      <td>0.000000e+00</td>\n",
       "      <td>0.000000e+00</td>\n",
       "      <td>0.000000e+00</td>\n",
       "      <td>0.5</td>\n",
       "    </tr>\n",
       "    <tr>\n",
       "      <th>75%</th>\n",
       "      <td>1.008565e+06</td>\n",
       "      <td>2.000000e+04</td>\n",
       "      <td>2.000000e+00</td>\n",
       "      <td>3.200000e+01</td>\n",
       "      <td>1.000000e+01</td>\n",
       "      <td>8.700000e+04</td>\n",
       "      <td>2.484000e+01</td>\n",
       "      <td>9.073095e+00</td>\n",
       "      <td>7.092477e+01</td>\n",
       "      <td>1.078065e+01</td>\n",
       "      <td>...</td>\n",
       "      <td>0.000000e+00</td>\n",
       "      <td>0.000000e+00</td>\n",
       "      <td>0.000000e+00</td>\n",
       "      <td>0.000000e+00</td>\n",
       "      <td>0.000000e+00</td>\n",
       "      <td>0.000000e+00</td>\n",
       "      <td>0.000000e+00</td>\n",
       "      <td>0.000000e+00</td>\n",
       "      <td>0.000000e+00</td>\n",
       "      <td>1.0</td>\n",
       "    </tr>\n",
       "    <tr>\n",
       "      <th>max</th>\n",
       "      <td>1.344753e+06</td>\n",
       "      <td>4.000000e+04</td>\n",
       "      <td>2.000000e+00</td>\n",
       "      <td>6.500000e+01</td>\n",
       "      <td>1.000000e+01</td>\n",
       "      <td>1.449990e+05</td>\n",
       "      <td>4.500000e+01</td>\n",
       "      <td>2.500000e+01</td>\n",
       "      <td>1.480000e+02</td>\n",
       "      <td>3.500000e+01</td>\n",
       "      <td>...</td>\n",
       "      <td>1.000000e+00</td>\n",
       "      <td>1.000000e+00</td>\n",
       "      <td>1.000000e+00</td>\n",
       "      <td>1.000000e+00</td>\n",
       "      <td>1.000000e+00</td>\n",
       "      <td>1.000000e+00</td>\n",
       "      <td>1.000000e+00</td>\n",
       "      <td>1.000000e+00</td>\n",
       "      <td>1.000000e+00</td>\n",
       "      <td>1.0</td>\n",
       "    </tr>\n",
       "  </tbody>\n",
       "</table>\n",
       "<p>8 rows × 67 columns</p>\n",
       "</div>"
      ],
      "text/plain": [
       "         Unnamed: 0     loan_amnt          term     sub_grade    emp_length  \\\n",
       "count  1.344754e+06  1.344754e+06  1.344754e+06  1.344754e+06  1.344754e+06   \n",
       "mean   6.723765e+05  1.527977e+04  1.329998e+00  2.365404e+01  6.119751e+00   \n",
       "std    3.881972e+05  8.360358e+03  4.486857e-01  1.273937e+01  3.469706e+00   \n",
       "min    0.000000e+00  1.000000e+03  1.000000e+00  1.000000e+00  0.000000e+00   \n",
       "25%    3.361882e+05  9.000000e+03  1.000000e+00  1.400000e+01  3.000000e+00   \n",
       "50%    6.723765e+05  1.434374e+04  1.000000e+00  2.300000e+01  6.450512e+00   \n",
       "75%    1.008565e+06  2.000000e+04  2.000000e+00  3.200000e+01  1.000000e+01   \n",
       "max    1.344753e+06  4.000000e+04  2.000000e+00  6.500000e+01  1.000000e+01   \n",
       "\n",
       "         annual_inc           dti  mths_since_recent_inq    revol_util  \\\n",
       "count  1.344754e+06  1.344754e+06           1.344754e+06  1.344754e+06   \n",
       "mean   7.151406e+04  1.919664e+01           6.396686e+00  5.386607e+01   \n",
       "std    2.531758e+04  7.903428e+00           5.448595e+00  2.254868e+01   \n",
       "min    3.500099e+04 -1.000000e+00           0.000000e+00  0.000000e+00   \n",
       "25%    5.000000e+04  1.341848e+01           2.000000e+00  3.750000e+01   \n",
       "50%    6.551503e+04  1.893394e+01           5.000000e+00  5.432643e+01   \n",
       "75%    8.700000e+04  2.484000e+01           9.073095e+00  7.092477e+01   \n",
       "max    1.449990e+05  4.500000e+01           2.500000e+01  1.480000e+02   \n",
       "\n",
       "       num_op_rev_tl  ...  addr_state__TN  addr_state__TX  addr_state__UT  \\\n",
       "count   1.344754e+06  ...    1.344754e+06    1.344754e+06    1.344754e+06   \n",
       "mean    8.475898e+00  ...    1.008065e-02    5.706025e-02    4.732464e-03   \n",
       "std     4.141467e+00  ...    9.989515e-02    2.319578e-01    6.862996e-02   \n",
       "min     0.000000e+00  ...    0.000000e+00    0.000000e+00    0.000000e+00   \n",
       "25%     5.591912e+00  ...    0.000000e+00    0.000000e+00    0.000000e+00   \n",
       "50%     8.000000e+00  ...    0.000000e+00    0.000000e+00    0.000000e+00   \n",
       "75%     1.078065e+01  ...    0.000000e+00    0.000000e+00    0.000000e+00   \n",
       "max     3.500000e+01  ...    1.000000e+00    1.000000e+00    1.000000e+00   \n",
       "\n",
       "       addr_state__VA  addr_state__VT  addr_state__WA  addr_state__WI  \\\n",
       "count    1.344754e+06    1.344754e+06    1.344754e+06    1.344754e+06   \n",
       "mean     1.744780e-02    1.335560e-03    1.412005e-02    8.832842e-03   \n",
       "std      1.309328e-01    3.652092e-02    1.179860e-01    9.356725e-02   \n",
       "min      0.000000e+00    0.000000e+00    0.000000e+00    0.000000e+00   \n",
       "25%      0.000000e+00    0.000000e+00    0.000000e+00    0.000000e+00   \n",
       "50%      0.000000e+00    0.000000e+00    0.000000e+00    0.000000e+00   \n",
       "75%      0.000000e+00    0.000000e+00    0.000000e+00    0.000000e+00   \n",
       "max      1.000000e+00    1.000000e+00    1.000000e+00    1.000000e+00   \n",
       "\n",
       "       addr_state__WV  addr_state__WY  loan_status  \n",
       "count    1.344754e+06    1.344754e+06    1344754.0  \n",
       "mean     2.216019e-03    1.483543e-03          0.5  \n",
       "std      4.702244e-02    3.848822e-02          0.5  \n",
       "min      0.000000e+00    0.000000e+00          0.0  \n",
       "25%      0.000000e+00    0.000000e+00          0.0  \n",
       "50%      0.000000e+00    0.000000e+00          0.5  \n",
       "75%      0.000000e+00    0.000000e+00          1.0  \n",
       "max      1.000000e+00    1.000000e+00          1.0  \n",
       "\n",
       "[8 rows x 67 columns]"
      ]
     },
     "execution_count": 77,
     "metadata": {},
     "output_type": "execute_result"
    }
   ],
   "source": [
    "p.describe()"
   ]
  },
  {
   "cell_type": "code",
   "execution_count": 5,
   "id": "3cfce929",
   "metadata": {},
   "outputs": [],
   "source": [
    "X = p.iloc[:,1:]"
   ]
  },
  {
   "cell_type": "code",
   "execution_count": 78,
   "id": "de094cee",
   "metadata": {},
   "outputs": [
    {
     "data": {
      "text/html": [
       "<div>\n",
       "<style scoped>\n",
       "    .dataframe tbody tr th:only-of-type {\n",
       "        vertical-align: middle;\n",
       "    }\n",
       "\n",
       "    .dataframe tbody tr th {\n",
       "        vertical-align: top;\n",
       "    }\n",
       "\n",
       "    .dataframe thead th {\n",
       "        text-align: right;\n",
       "    }\n",
       "</style>\n",
       "<table border=\"1\" class=\"dataframe\">\n",
       "  <thead>\n",
       "    <tr style=\"text-align: right;\">\n",
       "      <th></th>\n",
       "      <th>loan_amnt</th>\n",
       "      <th>term</th>\n",
       "      <th>sub_grade</th>\n",
       "      <th>emp_length</th>\n",
       "      <th>annual_inc</th>\n",
       "      <th>dti</th>\n",
       "      <th>mths_since_recent_inq</th>\n",
       "      <th>revol_util</th>\n",
       "      <th>num_op_rev_tl</th>\n",
       "      <th>home_ownership__MORTGAGE</th>\n",
       "      <th>home_ownership__OWN</th>\n",
       "      <th>home_ownership__RENT</th>\n",
       "      <th>addr_state__CA</th>\n",
       "      <th>addr_state__FL</th>\n",
       "      <th>addr_state__GA</th>\n",
       "      <th>addr_state__IL</th>\n",
       "      <th>addr_state__NY</th>\n",
       "      <th>addr_state__OH</th>\n",
       "      <th>addr_state__TX</th>\n",
       "    </tr>\n",
       "  </thead>\n",
       "  <tbody>\n",
       "    <tr>\n",
       "      <th>count</th>\n",
       "      <td>1.344754e+06</td>\n",
       "      <td>1.344754e+06</td>\n",
       "      <td>1.344754e+06</td>\n",
       "      <td>1.344754e+06</td>\n",
       "      <td>1.344754e+06</td>\n",
       "      <td>1.344754e+06</td>\n",
       "      <td>1.344754e+06</td>\n",
       "      <td>1.344754e+06</td>\n",
       "      <td>1.344754e+06</td>\n",
       "      <td>1.344754e+06</td>\n",
       "      <td>1.344754e+06</td>\n",
       "      <td>1.344754e+06</td>\n",
       "      <td>1.344754e+06</td>\n",
       "      <td>1.344754e+06</td>\n",
       "      <td>1.344754e+06</td>\n",
       "      <td>1.344754e+06</td>\n",
       "      <td>1.344754e+06</td>\n",
       "      <td>1.344754e+06</td>\n",
       "      <td>1.344754e+06</td>\n",
       "    </tr>\n",
       "    <tr>\n",
       "      <th>mean</th>\n",
       "      <td>1.527977e+04</td>\n",
       "      <td>1.329998e+00</td>\n",
       "      <td>2.365404e+01</td>\n",
       "      <td>6.119751e+00</td>\n",
       "      <td>7.151406e+04</td>\n",
       "      <td>1.919664e+01</td>\n",
       "      <td>6.396686e+00</td>\n",
       "      <td>5.386607e+01</td>\n",
       "      <td>8.475898e+00</td>\n",
       "      <td>4.130473e-01</td>\n",
       "      <td>6.379011e-02</td>\n",
       "      <td>3.182366e-01</td>\n",
       "      <td>9.603987e-02</td>\n",
       "      <td>4.527668e-02</td>\n",
       "      <td>2.068111e-02</td>\n",
       "      <td>2.637211e-02</td>\n",
       "      <td>5.178047e-02</td>\n",
       "      <td>2.178986e-02</td>\n",
       "      <td>5.706025e-02</td>\n",
       "    </tr>\n",
       "    <tr>\n",
       "      <th>std</th>\n",
       "      <td>8.360358e+03</td>\n",
       "      <td>4.486857e-01</td>\n",
       "      <td>1.273937e+01</td>\n",
       "      <td>3.469706e+00</td>\n",
       "      <td>2.531758e+04</td>\n",
       "      <td>7.903428e+00</td>\n",
       "      <td>5.448595e+00</td>\n",
       "      <td>2.254868e+01</td>\n",
       "      <td>4.141467e+00</td>\n",
       "      <td>4.923814e-01</td>\n",
       "      <td>2.443787e-01</td>\n",
       "      <td>4.657921e-01</td>\n",
       "      <td>2.946460e-01</td>\n",
       "      <td>2.079104e-01</td>\n",
       "      <td>1.423145e-01</td>\n",
       "      <td>1.602393e-01</td>\n",
       "      <td>2.215836e-01</td>\n",
       "      <td>1.459968e-01</td>\n",
       "      <td>2.319578e-01</td>\n",
       "    </tr>\n",
       "    <tr>\n",
       "      <th>min</th>\n",
       "      <td>1.000000e+03</td>\n",
       "      <td>1.000000e+00</td>\n",
       "      <td>1.000000e+00</td>\n",
       "      <td>0.000000e+00</td>\n",
       "      <td>3.500099e+04</td>\n",
       "      <td>-1.000000e+00</td>\n",
       "      <td>0.000000e+00</td>\n",
       "      <td>0.000000e+00</td>\n",
       "      <td>0.000000e+00</td>\n",
       "      <td>0.000000e+00</td>\n",
       "      <td>0.000000e+00</td>\n",
       "      <td>0.000000e+00</td>\n",
       "      <td>0.000000e+00</td>\n",
       "      <td>0.000000e+00</td>\n",
       "      <td>0.000000e+00</td>\n",
       "      <td>0.000000e+00</td>\n",
       "      <td>0.000000e+00</td>\n",
       "      <td>0.000000e+00</td>\n",
       "      <td>0.000000e+00</td>\n",
       "    </tr>\n",
       "    <tr>\n",
       "      <th>25%</th>\n",
       "      <td>9.000000e+03</td>\n",
       "      <td>1.000000e+00</td>\n",
       "      <td>1.400000e+01</td>\n",
       "      <td>3.000000e+00</td>\n",
       "      <td>5.000000e+04</td>\n",
       "      <td>1.341848e+01</td>\n",
       "      <td>2.000000e+00</td>\n",
       "      <td>3.750000e+01</td>\n",
       "      <td>5.591912e+00</td>\n",
       "      <td>0.000000e+00</td>\n",
       "      <td>0.000000e+00</td>\n",
       "      <td>0.000000e+00</td>\n",
       "      <td>0.000000e+00</td>\n",
       "      <td>0.000000e+00</td>\n",
       "      <td>0.000000e+00</td>\n",
       "      <td>0.000000e+00</td>\n",
       "      <td>0.000000e+00</td>\n",
       "      <td>0.000000e+00</td>\n",
       "      <td>0.000000e+00</td>\n",
       "    </tr>\n",
       "    <tr>\n",
       "      <th>50%</th>\n",
       "      <td>1.434374e+04</td>\n",
       "      <td>1.000000e+00</td>\n",
       "      <td>2.300000e+01</td>\n",
       "      <td>6.450512e+00</td>\n",
       "      <td>6.551503e+04</td>\n",
       "      <td>1.893394e+01</td>\n",
       "      <td>5.000000e+00</td>\n",
       "      <td>5.432643e+01</td>\n",
       "      <td>8.000000e+00</td>\n",
       "      <td>0.000000e+00</td>\n",
       "      <td>0.000000e+00</td>\n",
       "      <td>0.000000e+00</td>\n",
       "      <td>0.000000e+00</td>\n",
       "      <td>0.000000e+00</td>\n",
       "      <td>0.000000e+00</td>\n",
       "      <td>0.000000e+00</td>\n",
       "      <td>0.000000e+00</td>\n",
       "      <td>0.000000e+00</td>\n",
       "      <td>0.000000e+00</td>\n",
       "    </tr>\n",
       "    <tr>\n",
       "      <th>75%</th>\n",
       "      <td>2.000000e+04</td>\n",
       "      <td>2.000000e+00</td>\n",
       "      <td>3.200000e+01</td>\n",
       "      <td>1.000000e+01</td>\n",
       "      <td>8.700000e+04</td>\n",
       "      <td>2.484000e+01</td>\n",
       "      <td>9.073095e+00</td>\n",
       "      <td>7.092477e+01</td>\n",
       "      <td>1.078065e+01</td>\n",
       "      <td>1.000000e+00</td>\n",
       "      <td>0.000000e+00</td>\n",
       "      <td>1.000000e+00</td>\n",
       "      <td>0.000000e+00</td>\n",
       "      <td>0.000000e+00</td>\n",
       "      <td>0.000000e+00</td>\n",
       "      <td>0.000000e+00</td>\n",
       "      <td>0.000000e+00</td>\n",
       "      <td>0.000000e+00</td>\n",
       "      <td>0.000000e+00</td>\n",
       "    </tr>\n",
       "    <tr>\n",
       "      <th>max</th>\n",
       "      <td>4.000000e+04</td>\n",
       "      <td>2.000000e+00</td>\n",
       "      <td>6.500000e+01</td>\n",
       "      <td>1.000000e+01</td>\n",
       "      <td>1.449990e+05</td>\n",
       "      <td>4.500000e+01</td>\n",
       "      <td>2.500000e+01</td>\n",
       "      <td>1.480000e+02</td>\n",
       "      <td>3.500000e+01</td>\n",
       "      <td>1.000000e+00</td>\n",
       "      <td>1.000000e+00</td>\n",
       "      <td>1.000000e+00</td>\n",
       "      <td>1.000000e+00</td>\n",
       "      <td>1.000000e+00</td>\n",
       "      <td>1.000000e+00</td>\n",
       "      <td>1.000000e+00</td>\n",
       "      <td>1.000000e+00</td>\n",
       "      <td>1.000000e+00</td>\n",
       "      <td>1.000000e+00</td>\n",
       "    </tr>\n",
       "  </tbody>\n",
       "</table>\n",
       "</div>"
      ],
      "text/plain": [
       "          loan_amnt          term     sub_grade    emp_length    annual_inc  \\\n",
       "count  1.344754e+06  1.344754e+06  1.344754e+06  1.344754e+06  1.344754e+06   \n",
       "mean   1.527977e+04  1.329998e+00  2.365404e+01  6.119751e+00  7.151406e+04   \n",
       "std    8.360358e+03  4.486857e-01  1.273937e+01  3.469706e+00  2.531758e+04   \n",
       "min    1.000000e+03  1.000000e+00  1.000000e+00  0.000000e+00  3.500099e+04   \n",
       "25%    9.000000e+03  1.000000e+00  1.400000e+01  3.000000e+00  5.000000e+04   \n",
       "50%    1.434374e+04  1.000000e+00  2.300000e+01  6.450512e+00  6.551503e+04   \n",
       "75%    2.000000e+04  2.000000e+00  3.200000e+01  1.000000e+01  8.700000e+04   \n",
       "max    4.000000e+04  2.000000e+00  6.500000e+01  1.000000e+01  1.449990e+05   \n",
       "\n",
       "                dti  mths_since_recent_inq    revol_util  num_op_rev_tl  \\\n",
       "count  1.344754e+06           1.344754e+06  1.344754e+06   1.344754e+06   \n",
       "mean   1.919664e+01           6.396686e+00  5.386607e+01   8.475898e+00   \n",
       "std    7.903428e+00           5.448595e+00  2.254868e+01   4.141467e+00   \n",
       "min   -1.000000e+00           0.000000e+00  0.000000e+00   0.000000e+00   \n",
       "25%    1.341848e+01           2.000000e+00  3.750000e+01   5.591912e+00   \n",
       "50%    1.893394e+01           5.000000e+00  5.432643e+01   8.000000e+00   \n",
       "75%    2.484000e+01           9.073095e+00  7.092477e+01   1.078065e+01   \n",
       "max    4.500000e+01           2.500000e+01  1.480000e+02   3.500000e+01   \n",
       "\n",
       "       home_ownership__MORTGAGE  home_ownership__OWN  home_ownership__RENT  \\\n",
       "count              1.344754e+06         1.344754e+06          1.344754e+06   \n",
       "mean               4.130473e-01         6.379011e-02          3.182366e-01   \n",
       "std                4.923814e-01         2.443787e-01          4.657921e-01   \n",
       "min                0.000000e+00         0.000000e+00          0.000000e+00   \n",
       "25%                0.000000e+00         0.000000e+00          0.000000e+00   \n",
       "50%                0.000000e+00         0.000000e+00          0.000000e+00   \n",
       "75%                1.000000e+00         0.000000e+00          1.000000e+00   \n",
       "max                1.000000e+00         1.000000e+00          1.000000e+00   \n",
       "\n",
       "       addr_state__CA  addr_state__FL  addr_state__GA  addr_state__IL  \\\n",
       "count    1.344754e+06    1.344754e+06    1.344754e+06    1.344754e+06   \n",
       "mean     9.603987e-02    4.527668e-02    2.068111e-02    2.637211e-02   \n",
       "std      2.946460e-01    2.079104e-01    1.423145e-01    1.602393e-01   \n",
       "min      0.000000e+00    0.000000e+00    0.000000e+00    0.000000e+00   \n",
       "25%      0.000000e+00    0.000000e+00    0.000000e+00    0.000000e+00   \n",
       "50%      0.000000e+00    0.000000e+00    0.000000e+00    0.000000e+00   \n",
       "75%      0.000000e+00    0.000000e+00    0.000000e+00    0.000000e+00   \n",
       "max      1.000000e+00    1.000000e+00    1.000000e+00    1.000000e+00   \n",
       "\n",
       "       addr_state__NY  addr_state__OH  addr_state__TX  \n",
       "count    1.344754e+06    1.344754e+06    1.344754e+06  \n",
       "mean     5.178047e-02    2.178986e-02    5.706025e-02  \n",
       "std      2.215836e-01    1.459968e-01    2.319578e-01  \n",
       "min      0.000000e+00    0.000000e+00    0.000000e+00  \n",
       "25%      0.000000e+00    0.000000e+00    0.000000e+00  \n",
       "50%      0.000000e+00    0.000000e+00    0.000000e+00  \n",
       "75%      0.000000e+00    0.000000e+00    0.000000e+00  \n",
       "max      1.000000e+00    1.000000e+00    1.000000e+00  "
      ]
     },
     "execution_count": 78,
     "metadata": {},
     "output_type": "execute_result"
    }
   ],
   "source": [
    "X.describe()"
   ]
  },
  {
   "cell_type": "code",
   "execution_count": 6,
   "id": "f6b3ae4f",
   "metadata": {},
   "outputs": [],
   "source": [
    "y = p.iloc[:,-1]"
   ]
  },
  {
   "cell_type": "code",
   "execution_count": 7,
   "id": "2ec6989e",
   "metadata": {},
   "outputs": [],
   "source": [
    "X = X[['loan_amnt', 'term', 'sub_grade', 'emp_length', 'annual_inc', 'dti',\n",
    "       'mths_since_recent_inq', 'revol_util', 'num_op_rev_tl',\n",
    "       'home_ownership__MORTGAGE', 'home_ownership__OWN',\n",
    "       'home_ownership__RENT', 'addr_state__CA', 'addr_state__FL',\n",
    "       'addr_state__GA', 'addr_state__IL', 'addr_state__NY', 'addr_state__OH',\n",
    "       'addr_state__TX']]"
   ]
  },
  {
   "cell_type": "code",
   "execution_count": 8,
   "id": "4cc6007c",
   "metadata": {},
   "outputs": [
    {
     "data": {
      "text/plain": [
       "0    1.0\n",
       "1    1.0\n",
       "2    1.0\n",
       "3    1.0\n",
       "4    1.0\n",
       "Name: loan_status, dtype: float64"
      ]
     },
     "execution_count": 8,
     "metadata": {},
     "output_type": "execute_result"
    }
   ],
   "source": [
    "y.head()"
   ]
  },
  {
   "cell_type": "code",
   "execution_count": 10,
   "id": "01846e32",
   "metadata": {},
   "outputs": [],
   "source": [
    "import numpy as np\n",
    "from sklearn.model_selection import RandomizedSearchCV, train_test_split\n",
    "from sklearn.ensemble import RandomForestClassifier"
   ]
  },
  {
   "cell_type": "code",
   "execution_count": 14,
   "id": "a6f5d77d",
   "metadata": {},
   "outputs": [],
   "source": [
    "from sklearn.metrics import accuracy_score, roc_auc_score,confusion_matrix"
   ]
  },
  {
   "cell_type": "code",
   "execution_count": 11,
   "id": "a8250f80",
   "metadata": {},
   "outputs": [],
   "source": [
    "X_train, X_test, y_train, y_test = train_test_split(X, y, test_size=0.30, random_state=52)"
   ]
  },
  {
   "cell_type": "code",
   "execution_count": 19,
   "id": "446bc0a3",
   "metadata": {},
   "outputs": [],
   "source": [
    "sv=RandomForestClassifier(n_estimators=100, min_samples_split=5, min_samples_leaf=1, max_depth=None,bootstrap=False)"
   ]
  },
  {
   "cell_type": "code",
   "execution_count": 20,
   "id": "3a46b7e3",
   "metadata": {},
   "outputs": [
    {
     "data": {
      "text/plain": [
       "1.0"
      ]
     },
     "execution_count": 20,
     "metadata": {},
     "output_type": "execute_result"
    }
   ],
   "source": [
    "sv.fit(X_train,y_train)\n",
    "rf1=sv.predict(X_train)\n",
    "accuracy_score(rf1,y_train)"
   ]
  },
  {
   "cell_type": "code",
   "execution_count": 21,
   "id": "21704493",
   "metadata": {},
   "outputs": [
    {
     "data": {
      "text/plain": [
       "1.0"
      ]
     },
     "execution_count": 21,
     "metadata": {},
     "output_type": "execute_result"
    }
   ],
   "source": [
    "roc_auc_score(rf1,y_train)"
   ]
  },
  {
   "cell_type": "code",
   "execution_count": 22,
   "id": "c8689bc8",
   "metadata": {},
   "outputs": [
    {
     "data": {
      "text/plain": [
       "array([[470437,      0],\n",
       "       [     0, 470890]], dtype=int64)"
      ]
     },
     "execution_count": 22,
     "metadata": {},
     "output_type": "execute_result"
    }
   ],
   "source": [
    "confusion_matrix(rf1,y_train)"
   ]
  },
  {
   "cell_type": "code",
   "execution_count": 26,
   "id": "b32007a9",
   "metadata": {},
   "outputs": [
    {
     "data": {
      "text/plain": [
       "0.8639976997077539"
      ]
     },
     "execution_count": 26,
     "metadata": {},
     "output_type": "execute_result"
    }
   ],
   "source": [
    "rf2=sv.predict(X_test)\n",
    "accuracy_score(rf2,y_test)"
   ]
  },
  {
   "cell_type": "code",
   "execution_count": 23,
   "id": "b3570829",
   "metadata": {},
   "outputs": [
    {
     "data": {
      "text/plain": [
       "0.8769369746980858"
      ]
     },
     "execution_count": 23,
     "metadata": {},
     "output_type": "execute_result"
    }
   ],
   "source": [
    "roc_auc_score(rf2,y_test)"
   ]
  },
  {
   "cell_type": "code",
   "execution_count": 25,
   "id": "74676efc",
   "metadata": {},
   "outputs": [
    {
     "data": {
      "text/plain": [
       "array([[155606,   8610],\n",
       "       [ 46334, 192877]], dtype=int64)"
      ]
     },
     "execution_count": 25,
     "metadata": {},
     "output_type": "execute_result"
    }
   ],
   "source": [
    "confusion_matrix(rf2,y_test)"
   ]
  },
  {
   "cell_type": "code",
   "execution_count": 27,
   "id": "5b93ee9b",
   "metadata": {},
   "outputs": [],
   "source": [
    "from sklearn.linear_model import LogisticRegression"
   ]
  },
  {
   "cell_type": "code",
   "execution_count": 42,
   "id": "d7d749f8",
   "metadata": {},
   "outputs": [],
   "source": [
    "model = LogisticRegression(solver='liblinear',penalty='l2',max_iter=400)"
   ]
  },
  {
   "cell_type": "code",
   "execution_count": 43,
   "id": "610cff31",
   "metadata": {},
   "outputs": [
    {
     "data": {
      "text/plain": [
       "LogisticRegression(max_iter=400, solver='liblinear')"
      ]
     },
     "execution_count": 43,
     "metadata": {},
     "output_type": "execute_result"
    }
   ],
   "source": [
    "model.fit(X_train, y_train)"
   ]
  },
  {
   "cell_type": "code",
   "execution_count": 44,
   "id": "c21cd8b8",
   "metadata": {},
   "outputs": [
    {
     "data": {
      "text/plain": [
       "0.7625001726286402"
      ]
     },
     "execution_count": 44,
     "metadata": {},
     "output_type": "execute_result"
    }
   ],
   "source": [
    "r=model.predict(X_train)\n",
    "accuracy_score(r,y_train)"
   ]
  },
  {
   "cell_type": "code",
   "execution_count": 45,
   "id": "b5b3be52",
   "metadata": {},
   "outputs": [
    {
     "data": {
      "text/plain": [
       "0.7690147128445706"
      ]
     },
     "execution_count": 45,
     "metadata": {},
     "output_type": "execute_result"
    }
   ],
   "source": [
    "roc_auc_score(r,y_train)"
   ]
  },
  {
   "cell_type": "code",
   "execution_count": 46,
   "id": "8d520cd2",
   "metadata": {},
   "outputs": [
    {
     "data": {
      "text/plain": [
       "array([[322041,  75169],\n",
       "       [148396, 395721]], dtype=int64)"
      ]
     },
     "execution_count": 46,
     "metadata": {},
     "output_type": "execute_result"
    }
   ],
   "source": [
    "confusion_matrix(r,y_train)"
   ]
  },
  {
   "cell_type": "code",
   "execution_count": 50,
   "id": "cb51a46d",
   "metadata": {},
   "outputs": [
    {
     "data": {
      "text/plain": [
       "0.7633078599102192"
      ]
     },
     "execution_count": 50,
     "metadata": {},
     "output_type": "execute_result"
    }
   ],
   "source": [
    "rf2=model.predict(X_test)\n",
    "accuracy_score(rf2,y_test)"
   ]
  },
  {
   "cell_type": "code",
   "execution_count": 51,
   "id": "a101795e",
   "metadata": {},
   "outputs": [
    {
     "data": {
      "text/plain": [
       "0.7697925649358615"
      ]
     },
     "execution_count": 51,
     "metadata": {},
     "output_type": "execute_result"
    }
   ],
   "source": [
    "roc_auc_score(rf2,y_test)"
   ]
  },
  {
   "cell_type": "code",
   "execution_count": 52,
   "id": "d6f785fe",
   "metadata": {},
   "outputs": [
    {
     "data": {
      "text/plain": [
       "array([[138551,  32099],\n",
       "       [ 63389, 169388]], dtype=int64)"
      ]
     },
     "execution_count": 52,
     "metadata": {},
     "output_type": "execute_result"
    }
   ],
   "source": [
    "confusion_matrix(rf2,y_test)"
   ]
  },
  {
   "cell_type": "code",
   "execution_count": 53,
   "id": "a581b9e9",
   "metadata": {},
   "outputs": [],
   "source": [
    "from sklearn.tree import DecisionTreeClassifier"
   ]
  },
  {
   "cell_type": "code",
   "execution_count": 65,
   "id": "ca078757",
   "metadata": {},
   "outputs": [],
   "source": [
    "dr = DecisionTreeClassifier(splitter='best', min_samples_split= 2, min_samples_leaf=1, max_features=None, max_depth= 35, \n",
    "                            criterion ='gini')"
   ]
  },
  {
   "cell_type": "code",
   "execution_count": 66,
   "id": "5358249a",
   "metadata": {},
   "outputs": [
    {
     "data": {
      "text/plain": [
       "DecisionTreeClassifier(max_depth=35)"
      ]
     },
     "execution_count": 66,
     "metadata": {},
     "output_type": "execute_result"
    }
   ],
   "source": [
    "dr.fit(X_train, y_train)"
   ]
  },
  {
   "cell_type": "code",
   "execution_count": 67,
   "id": "0b54ca95",
   "metadata": {},
   "outputs": [
    {
     "data": {
      "text/plain": [
       "0.9838292113155153"
      ]
     },
     "execution_count": 67,
     "metadata": {},
     "output_type": "execute_result"
    }
   ],
   "source": [
    "d=dr.predict(X_train)\n",
    "accuracy_score(d,y_train)"
   ]
  },
  {
   "cell_type": "code",
   "execution_count": 68,
   "id": "9abf74d5",
   "metadata": {},
   "outputs": [
    {
     "data": {
      "text/plain": [
       "0.983943740618988"
      ]
     },
     "execution_count": 68,
     "metadata": {},
     "output_type": "execute_result"
    }
   ],
   "source": [
    "roc_auc_score(d,y_train)"
   ]
  },
  {
   "cell_type": "code",
   "execution_count": 69,
   "id": "6a0ce1bd",
   "metadata": {},
   "outputs": [
    {
     "data": {
      "text/plain": [
       "array([[459260,   4045],\n",
       "       [ 11177, 466845]], dtype=int64)"
      ]
     },
     "execution_count": 69,
     "metadata": {},
     "output_type": "execute_result"
    }
   ],
   "source": [
    "confusion_matrix(d,y_train)"
   ]
  },
  {
   "cell_type": "code",
   "execution_count": 70,
   "id": "feaa322f",
   "metadata": {},
   "outputs": [
    {
     "data": {
      "text/plain": [
       "0.8032952677931819"
      ]
     },
     "execution_count": 70,
     "metadata": {},
     "output_type": "execute_result"
    }
   ],
   "source": [
    "rf2=dr.predict(X_test)\n",
    "accuracy_score(rf2,y_test)"
   ]
  },
  {
   "cell_type": "code",
   "execution_count": 71,
   "id": "a4a97aab",
   "metadata": {},
   "outputs": [
    {
     "data": {
      "text/plain": [
       "0.8032984123665878"
      ]
     },
     "execution_count": 71,
     "metadata": {},
     "output_type": "execute_result"
    }
   ],
   "source": [
    "roc_auc_score(rf2,y_test)"
   ]
  },
  {
   "cell_type": "code",
   "execution_count": 72,
   "id": "06c293ce",
   "metadata": {},
   "outputs": [
    {
     "data": {
      "text/plain": [
       "array([[162580,  39996],\n",
       "       [ 39360, 161491]], dtype=int64)"
      ]
     },
     "execution_count": 72,
     "metadata": {},
     "output_type": "execute_result"
    }
   ],
   "source": [
    "confusion_matrix(rf2,y_test)"
   ]
  },
  {
   "cell_type": "code",
   "execution_count": null,
   "id": "4db7fab0",
   "metadata": {},
   "outputs": [],
   "source": []
  }
 ],
 "metadata": {
  "kernelspec": {
   "display_name": "Python 3 (ipykernel)",
   "language": "python",
   "name": "python3"
  },
  "language_info": {
   "codemirror_mode": {
    "name": "ipython",
    "version": 3
   },
   "file_extension": ".py",
   "mimetype": "text/x-python",
   "name": "python",
   "nbconvert_exporter": "python",
   "pygments_lexer": "ipython3",
   "version": "3.7.16"
  }
 },
 "nbformat": 4,
 "nbformat_minor": 5
}
