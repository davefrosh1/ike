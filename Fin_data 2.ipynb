{
 "cells": [
  {
   "cell_type": "code",
   "execution_count": 7,
   "id": "bc12723c",
   "metadata": {},
   "outputs": [],
   "source": [
    "import pandas as pd\n",
    "import numpy as np\n",
    "import matplotlib.pyplot as plt"
   ]
  },
  {
   "cell_type": "code",
   "execution_count": 78,
   "id": "ccf7bbe1",
   "metadata": {},
   "outputs": [],
   "source": [
    "p = pd.read_csv('credit_bank_data.csv.csv')"
   ]
  },
  {
   "cell_type": "code",
   "execution_count": 80,
   "id": "a0f6e6a9",
   "metadata": {},
   "outputs": [
    {
     "data": {
      "text/html": [
       "<div>\n",
       "<style scoped>\n",
       "    .dataframe tbody tr th:only-of-type {\n",
       "        vertical-align: middle;\n",
       "    }\n",
       "\n",
       "    .dataframe tbody tr th {\n",
       "        vertical-align: top;\n",
       "    }\n",
       "\n",
       "    .dataframe thead th {\n",
       "        text-align: right;\n",
       "    }\n",
       "</style>\n",
       "<table border=\"1\" class=\"dataframe\">\n",
       "  <thead>\n",
       "    <tr style=\"text-align: right;\">\n",
       "      <th></th>\n",
       "      <th>user_id</th>\n",
       "      <th>gender</th>\n",
       "      <th>date_of_birth</th>\n",
       "      <th>workclass</th>\n",
       "      <th>education_level</th>\n",
       "      <th>education_num</th>\n",
       "      <th>marital_status</th>\n",
       "      <th>occupation</th>\n",
       "      <th>relationship</th>\n",
       "      <th>capital_gain</th>\n",
       "      <th>...</th>\n",
       "      <th>hours_per_week</th>\n",
       "      <th>approved</th>\n",
       "      <th>address</th>\n",
       "      <th>email</th>\n",
       "      <th>inquiry_purpose_code</th>\n",
       "      <th>institute_type</th>\n",
       "      <th>account_type</th>\n",
       "      <th>asset_class_cd</th>\n",
       "      <th>asset_code</th>\n",
       "      <th>portfolio_type</th>\n",
       "    </tr>\n",
       "  </thead>\n",
       "  <tbody>\n",
       "    <tr>\n",
       "      <th>0</th>\n",
       "      <td>307c73a3-0c67-43b5-b0d1-62ad5f00b52a</td>\n",
       "      <td>Female</td>\n",
       "      <td>1987-01-03</td>\n",
       "      <td>Private</td>\n",
       "      <td>11th</td>\n",
       "      <td>7.0</td>\n",
       "      <td>Never-married</td>\n",
       "      <td>Sales</td>\n",
       "      <td>Unmarried</td>\n",
       "      <td>0.0</td>\n",
       "      <td>...</td>\n",
       "      <td>17.0</td>\n",
       "      <td>0</td>\n",
       "      <td>45424 Norris Common Apt. 390\\r\\nNorth Mike, AR...</td>\n",
       "      <td>vasquezleah@yahoo.com</td>\n",
       "      <td>7.0</td>\n",
       "      <td>PVT</td>\n",
       "      <td>5</td>\n",
       "      <td>NaN</td>\n",
       "      <td>1.0</td>\n",
       "      <td>R</td>\n",
       "    </tr>\n",
       "    <tr>\n",
       "      <th>1</th>\n",
       "      <td>519481f1-604d-48b6-aa47-4123a982431a</td>\n",
       "      <td>Male</td>\n",
       "      <td>1970-01-07</td>\n",
       "      <td>Self-emp-not-inc</td>\n",
       "      <td>Some-college</td>\n",
       "      <td>10.0</td>\n",
       "      <td>Married-civ-spouse</td>\n",
       "      <td>Craft-repair</td>\n",
       "      <td>Husband</td>\n",
       "      <td>0.0</td>\n",
       "      <td>...</td>\n",
       "      <td>48.0</td>\n",
       "      <td>0</td>\n",
       "      <td>5022 Rebecca Haven Apt. 258\\r\\nThompsonfurt, C...</td>\n",
       "      <td>johnsontrevor@hotmail.com</td>\n",
       "      <td>13.0</td>\n",
       "      <td>NBF</td>\n",
       "      <td>5</td>\n",
       "      <td>NaN</td>\n",
       "      <td>1.0</td>\n",
       "      <td>R</td>\n",
       "    </tr>\n",
       "    <tr>\n",
       "      <th>2</th>\n",
       "      <td>f66fe2c6-53e3-46ce-8321-e530b4af1ace</td>\n",
       "      <td>Male</td>\n",
       "      <td>1973-01-06</td>\n",
       "      <td>Private</td>\n",
       "      <td>HS-grad</td>\n",
       "      <td>9.0</td>\n",
       "      <td>Divorced</td>\n",
       "      <td>Sales</td>\n",
       "      <td>Not-in-family</td>\n",
       "      <td>0.0</td>\n",
       "      <td>...</td>\n",
       "      <td>50.0</td>\n",
       "      <td>0</td>\n",
       "      <td>8780 Brown Loaf Apt. 099\\r\\nNorth David, NJ 56510</td>\n",
       "      <td>morganemily@gmail.com</td>\n",
       "      <td>13.0</td>\n",
       "      <td>NBF</td>\n",
       "      <td>5</td>\n",
       "      <td>NaN</td>\n",
       "      <td>1.0</td>\n",
       "      <td>R</td>\n",
       "    </tr>\n",
       "    <tr>\n",
       "      <th>3</th>\n",
       "      <td>91360ed7-72d1-4f6e-b492-d71ef4480061</td>\n",
       "      <td>Female</td>\n",
       "      <td>2001-12-30</td>\n",
       "      <td>Private</td>\n",
       "      <td>11th</td>\n",
       "      <td>7.0</td>\n",
       "      <td>Never-married</td>\n",
       "      <td>Sales</td>\n",
       "      <td>Own-child</td>\n",
       "      <td>0.0</td>\n",
       "      <td>...</td>\n",
       "      <td>15.0</td>\n",
       "      <td>0</td>\n",
       "      <td>721 Jackson Extensions Suite 995\\r\\nNew Tarasi...</td>\n",
       "      <td>agarcia@hotmail.com</td>\n",
       "      <td>13.0</td>\n",
       "      <td>NBF</td>\n",
       "      <td>5</td>\n",
       "      <td>NaN</td>\n",
       "      <td>1.0</td>\n",
       "      <td>R</td>\n",
       "    </tr>\n",
       "    <tr>\n",
       "      <th>4</th>\n",
       "      <td>0e1977f3-3bef-4283-8d0a-d60b0f6ff480</td>\n",
       "      <td>Male</td>\n",
       "      <td>1986-01-03</td>\n",
       "      <td>Private</td>\n",
       "      <td>Some-college</td>\n",
       "      <td>10.0</td>\n",
       "      <td>Married-civ-spouse</td>\n",
       "      <td>Handlers-cleaners</td>\n",
       "      <td>Husband</td>\n",
       "      <td>0.0</td>\n",
       "      <td>...</td>\n",
       "      <td>50.0</td>\n",
       "      <td>0</td>\n",
       "      <td>935 Burch Divide\\r\\nLake Bobbyfurt, VT 14128</td>\n",
       "      <td>shermanmeredith@gmail.com</td>\n",
       "      <td>13.0</td>\n",
       "      <td>PVT</td>\n",
       "      <td>47</td>\n",
       "      <td>S</td>\n",
       "      <td>1.0</td>\n",
       "      <td>I</td>\n",
       "    </tr>\n",
       "  </tbody>\n",
       "</table>\n",
       "<p>5 rows × 21 columns</p>\n",
       "</div>"
      ],
      "text/plain": [
       "                                user_id   gender date_of_birth  \\\n",
       "0  307c73a3-0c67-43b5-b0d1-62ad5f00b52a   Female    1987-01-03   \n",
       "1  519481f1-604d-48b6-aa47-4123a982431a     Male    1970-01-07   \n",
       "2  f66fe2c6-53e3-46ce-8321-e530b4af1ace     Male    1973-01-06   \n",
       "3  91360ed7-72d1-4f6e-b492-d71ef4480061   Female    2001-12-30   \n",
       "4  0e1977f3-3bef-4283-8d0a-d60b0f6ff480     Male    1986-01-03   \n",
       "\n",
       "           workclass education_level  education_num       marital_status  \\\n",
       "0            Private            11th            7.0        Never-married   \n",
       "1   Self-emp-not-inc    Some-college           10.0   Married-civ-spouse   \n",
       "2            Private         HS-grad            9.0             Divorced   \n",
       "3            Private            11th            7.0        Never-married   \n",
       "4            Private    Some-college           10.0   Married-civ-spouse   \n",
       "\n",
       "           occupation    relationship  capital_gain  ...  hours_per_week  \\\n",
       "0               Sales       Unmarried           0.0  ...            17.0   \n",
       "1        Craft-repair         Husband           0.0  ...            48.0   \n",
       "2               Sales   Not-in-family           0.0  ...            50.0   \n",
       "3               Sales       Own-child           0.0  ...            15.0   \n",
       "4   Handlers-cleaners         Husband           0.0  ...            50.0   \n",
       "\n",
       "   approved                                            address  \\\n",
       "0         0  45424 Norris Common Apt. 390\\r\\nNorth Mike, AR...   \n",
       "1         0  5022 Rebecca Haven Apt. 258\\r\\nThompsonfurt, C...   \n",
       "2         0  8780 Brown Loaf Apt. 099\\r\\nNorth David, NJ 56510   \n",
       "3         0  721 Jackson Extensions Suite 995\\r\\nNew Tarasi...   \n",
       "4         0       935 Burch Divide\\r\\nLake Bobbyfurt, VT 14128   \n",
       "\n",
       "                       email inquiry_purpose_code  institute_type  \\\n",
       "0      vasquezleah@yahoo.com                  7.0             PVT   \n",
       "1  johnsontrevor@hotmail.com                 13.0             NBF   \n",
       "2      morganemily@gmail.com                 13.0             NBF   \n",
       "3        agarcia@hotmail.com                 13.0             NBF   \n",
       "4  shermanmeredith@gmail.com                 13.0             PVT   \n",
       "\n",
       "  account_type  asset_class_cd asset_code  portfolio_type  \n",
       "0            5             NaN        1.0               R  \n",
       "1            5             NaN        1.0               R  \n",
       "2            5             NaN        1.0               R  \n",
       "3            5             NaN        1.0               R  \n",
       "4           47               S        1.0               I  \n",
       "\n",
       "[5 rows x 21 columns]"
      ]
     },
     "execution_count": 80,
     "metadata": {},
     "output_type": "execute_result"
    }
   ],
   "source": [
    "p.head()"
   ]
  },
  {
   "cell_type": "code",
   "execution_count": 79,
   "id": "f79720b0",
   "metadata": {},
   "outputs": [],
   "source": [
    "t = pd.read_csv('hi.csv')"
   ]
  },
  {
   "cell_type": "code",
   "execution_count": 81,
   "id": "68bb5f7f",
   "metadata": {},
   "outputs": [
    {
     "data": {
      "text/html": [
       "<div>\n",
       "<style scoped>\n",
       "    .dataframe tbody tr th:only-of-type {\n",
       "        vertical-align: middle;\n",
       "    }\n",
       "\n",
       "    .dataframe tbody tr th {\n",
       "        vertical-align: top;\n",
       "    }\n",
       "\n",
       "    .dataframe thead th {\n",
       "        text-align: right;\n",
       "    }\n",
       "</style>\n",
       "<table border=\"1\" class=\"dataframe\">\n",
       "  <thead>\n",
       "    <tr style=\"text-align: right;\">\n",
       "      <th></th>\n",
       "      <th>user_id</th>\n",
       "      <th>gender</th>\n",
       "      <th>date_of_birth</th>\n",
       "      <th>workclass</th>\n",
       "      <th>education_level</th>\n",
       "      <th>education_num</th>\n",
       "      <th>marital_status</th>\n",
       "      <th>occupation</th>\n",
       "      <th>relationship</th>\n",
       "      <th>capital_gain</th>\n",
       "      <th>...</th>\n",
       "      <th>hours_per_week</th>\n",
       "      <th>approved</th>\n",
       "      <th>address</th>\n",
       "      <th>email</th>\n",
       "      <th>inquiry_purpose_code</th>\n",
       "      <th>institute_type</th>\n",
       "      <th>account_type</th>\n",
       "      <th>asset_class_cd</th>\n",
       "      <th>asset_code</th>\n",
       "      <th>portfolio_type</th>\n",
       "    </tr>\n",
       "  </thead>\n",
       "  <tbody>\n",
       "    <tr>\n",
       "      <th>45217</th>\n",
       "      <td>6f5de269-e3b6-4aa0-84a5-e2ab5d3e455c</td>\n",
       "      <td>Male</td>\n",
       "      <td>1976-01-06</td>\n",
       "      <td>Private</td>\n",
       "      <td>Prof-school</td>\n",
       "      <td>15.0</td>\n",
       "      <td>Married-civ-spouse</td>\n",
       "      <td>Prof-specialty</td>\n",
       "      <td>Husband</td>\n",
       "      <td>99999.0</td>\n",
       "      <td>...</td>\n",
       "      <td>60.0</td>\n",
       "      <td>1</td>\n",
       "      <td>38911 Heather Ranch\\r\\nEast Carolyn, ND 59814</td>\n",
       "      <td>jack72@richards.com</td>\n",
       "      <td>7.0</td>\n",
       "      <td>PVT</td>\n",
       "      <td>5</td>\n",
       "      <td>NaN</td>\n",
       "      <td>1.0</td>\n",
       "      <td>R</td>\n",
       "    </tr>\n",
       "    <tr>\n",
       "      <th>45218</th>\n",
       "      <td>e8e5fd1d-ef19-4652-b6e7-5ba18449e80e</td>\n",
       "      <td>Male</td>\n",
       "      <td>1977-01-05</td>\n",
       "      <td>Private</td>\n",
       "      <td>Prof-school</td>\n",
       "      <td>15.0</td>\n",
       "      <td>Married-spouse-absent</td>\n",
       "      <td>Prof-specialty</td>\n",
       "      <td>Not-in-family</td>\n",
       "      <td>99999.0</td>\n",
       "      <td>...</td>\n",
       "      <td>40.0</td>\n",
       "      <td>1</td>\n",
       "      <td>20346 Fitzpatrick Prairie Suite 117\\r\\nWeaverh...</td>\n",
       "      <td>jason17@johnson-williams.org</td>\n",
       "      <td>7.0</td>\n",
       "      <td>PVT</td>\n",
       "      <td>5</td>\n",
       "      <td>NaN</td>\n",
       "      <td>1.0</td>\n",
       "      <td>R</td>\n",
       "    </tr>\n",
       "    <tr>\n",
       "      <th>45219</th>\n",
       "      <td>1b3ed3e9-0283-4ba4-a7c7-f608f03f296e</td>\n",
       "      <td>Male</td>\n",
       "      <td>1964-01-09</td>\n",
       "      <td>Self-emp-inc</td>\n",
       "      <td>Prof-school</td>\n",
       "      <td>15.0</td>\n",
       "      <td>Married-civ-spouse</td>\n",
       "      <td>Prof-specialty</td>\n",
       "      <td>Husband</td>\n",
       "      <td>99999.0</td>\n",
       "      <td>...</td>\n",
       "      <td>45.0</td>\n",
       "      <td>1</td>\n",
       "      <td>653 Valerie Cliffs Suite 914\\r\\nPort Hannah, D...</td>\n",
       "      <td>qdaniels@hotmail.com</td>\n",
       "      <td>13.0</td>\n",
       "      <td>NBF</td>\n",
       "      <td>189</td>\n",
       "      <td>NaN</td>\n",
       "      <td>1.0</td>\n",
       "      <td>I</td>\n",
       "    </tr>\n",
       "    <tr>\n",
       "      <th>45220</th>\n",
       "      <td>642859b2-f587-48ef-a5b1-89710301fc71</td>\n",
       "      <td>Male</td>\n",
       "      <td>1979-01-05</td>\n",
       "      <td>Private</td>\n",
       "      <td>Bachelors</td>\n",
       "      <td>13.0</td>\n",
       "      <td>Married-civ-spouse</td>\n",
       "      <td>Craft-repair</td>\n",
       "      <td>Husband</td>\n",
       "      <td>99999.0</td>\n",
       "      <td>...</td>\n",
       "      <td>40.0</td>\n",
       "      <td>1</td>\n",
       "      <td>6957 Daniel Avenue\\r\\nWest Jason, VA 80167</td>\n",
       "      <td>whitakersteven@yahoo.com</td>\n",
       "      <td>7.0</td>\n",
       "      <td>PVT</td>\n",
       "      <td>5</td>\n",
       "      <td>NaN</td>\n",
       "      <td>1.0</td>\n",
       "      <td>R</td>\n",
       "    </tr>\n",
       "    <tr>\n",
       "      <th>45221</th>\n",
       "      <td>82eab6e5-57ab-4fd7-8923-e7790390c473</td>\n",
       "      <td>Male</td>\n",
       "      <td>1977-01-05</td>\n",
       "      <td>Private</td>\n",
       "      <td>Bachelors</td>\n",
       "      <td>13.0</td>\n",
       "      <td>Married-civ-spouse</td>\n",
       "      <td>Exec-managerial</td>\n",
       "      <td>Husband</td>\n",
       "      <td>99999.0</td>\n",
       "      <td>...</td>\n",
       "      <td>50.0</td>\n",
       "      <td>1</td>\n",
       "      <td>100 Brian Course\\r\\nJesusville, MD 36505</td>\n",
       "      <td>gmiller@graham.com</td>\n",
       "      <td>99.0</td>\n",
       "      <td>PVT</td>\n",
       "      <td>5</td>\n",
       "      <td>NaN</td>\n",
       "      <td>1.0</td>\n",
       "      <td>R</td>\n",
       "    </tr>\n",
       "  </tbody>\n",
       "</table>\n",
       "<p>5 rows × 21 columns</p>\n",
       "</div>"
      ],
      "text/plain": [
       "                                    user_id gender date_of_birth  \\\n",
       "45217  6f5de269-e3b6-4aa0-84a5-e2ab5d3e455c   Male    1976-01-06   \n",
       "45218  e8e5fd1d-ef19-4652-b6e7-5ba18449e80e   Male    1977-01-05   \n",
       "45219  1b3ed3e9-0283-4ba4-a7c7-f608f03f296e   Male    1964-01-09   \n",
       "45220  642859b2-f587-48ef-a5b1-89710301fc71   Male    1979-01-05   \n",
       "45221  82eab6e5-57ab-4fd7-8923-e7790390c473   Male    1977-01-05   \n",
       "\n",
       "           workclass education_level  education_num          marital_status  \\\n",
       "45217        Private     Prof-school           15.0      Married-civ-spouse   \n",
       "45218        Private     Prof-school           15.0   Married-spouse-absent   \n",
       "45219   Self-emp-inc     Prof-school           15.0      Married-civ-spouse   \n",
       "45220        Private       Bachelors           13.0      Married-civ-spouse   \n",
       "45221        Private       Bachelors           13.0      Married-civ-spouse   \n",
       "\n",
       "             occupation    relationship  capital_gain  ...  hours_per_week  \\\n",
       "45217    Prof-specialty         Husband       99999.0  ...            60.0   \n",
       "45218    Prof-specialty   Not-in-family       99999.0  ...            40.0   \n",
       "45219    Prof-specialty         Husband       99999.0  ...            45.0   \n",
       "45220      Craft-repair         Husband       99999.0  ...            40.0   \n",
       "45221   Exec-managerial         Husband       99999.0  ...            50.0   \n",
       "\n",
       "       approved                                            address  \\\n",
       "45217         1      38911 Heather Ranch\\r\\nEast Carolyn, ND 59814   \n",
       "45218         1  20346 Fitzpatrick Prairie Suite 117\\r\\nWeaverh...   \n",
       "45219         1  653 Valerie Cliffs Suite 914\\r\\nPort Hannah, D...   \n",
       "45220         1         6957 Daniel Avenue\\r\\nWest Jason, VA 80167   \n",
       "45221         1           100 Brian Course\\r\\nJesusville, MD 36505   \n",
       "\n",
       "                              email inquiry_purpose_code  institute_type  \\\n",
       "45217           jack72@richards.com                  7.0             PVT   \n",
       "45218  jason17@johnson-williams.org                  7.0             PVT   \n",
       "45219          qdaniels@hotmail.com                 13.0             NBF   \n",
       "45220      whitakersteven@yahoo.com                  7.0             PVT   \n",
       "45221            gmiller@graham.com                 99.0             PVT   \n",
       "\n",
       "      account_type  asset_class_cd asset_code  portfolio_type  \n",
       "45217            5             NaN        1.0               R  \n",
       "45218            5             NaN        1.0               R  \n",
       "45219          189             NaN        1.0               I  \n",
       "45220            5             NaN        1.0               R  \n",
       "45221            5             NaN        1.0               R  \n",
       "\n",
       "[5 rows x 21 columns]"
      ]
     },
     "execution_count": 81,
     "metadata": {},
     "output_type": "execute_result"
    }
   ],
   "source": [
    "p.tail()"
   ]
  },
  {
   "cell_type": "code",
   "execution_count": 82,
   "id": "90870c51",
   "metadata": {},
   "outputs": [],
   "source": [
    "p = p.iloc[:,1:]"
   ]
  },
  {
   "cell_type": "code",
   "execution_count": 83,
   "id": "4ef9dcb2",
   "metadata": {},
   "outputs": [
    {
     "data": {
      "text/html": [
       "<div>\n",
       "<style scoped>\n",
       "    .dataframe tbody tr th:only-of-type {\n",
       "        vertical-align: middle;\n",
       "    }\n",
       "\n",
       "    .dataframe tbody tr th {\n",
       "        vertical-align: top;\n",
       "    }\n",
       "\n",
       "    .dataframe thead th {\n",
       "        text-align: right;\n",
       "    }\n",
       "</style>\n",
       "<table border=\"1\" class=\"dataframe\">\n",
       "  <thead>\n",
       "    <tr style=\"text-align: right;\">\n",
       "      <th></th>\n",
       "      <th>gender</th>\n",
       "      <th>date_of_birth</th>\n",
       "      <th>workclass</th>\n",
       "      <th>education_level</th>\n",
       "      <th>education_num</th>\n",
       "      <th>marital_status</th>\n",
       "      <th>occupation</th>\n",
       "      <th>relationship</th>\n",
       "      <th>capital_gain</th>\n",
       "      <th>capital_loss</th>\n",
       "      <th>hours_per_week</th>\n",
       "      <th>approved</th>\n",
       "      <th>address</th>\n",
       "      <th>email</th>\n",
       "      <th>inquiry_purpose_code</th>\n",
       "      <th>institute_type</th>\n",
       "      <th>account_type</th>\n",
       "      <th>asset_class_cd</th>\n",
       "      <th>asset_code</th>\n",
       "      <th>portfolio_type</th>\n",
       "    </tr>\n",
       "  </thead>\n",
       "  <tbody>\n",
       "    <tr>\n",
       "      <th>45217</th>\n",
       "      <td>Male</td>\n",
       "      <td>1976-01-06</td>\n",
       "      <td>Private</td>\n",
       "      <td>Prof-school</td>\n",
       "      <td>15.0</td>\n",
       "      <td>Married-civ-spouse</td>\n",
       "      <td>Prof-specialty</td>\n",
       "      <td>Husband</td>\n",
       "      <td>99999.0</td>\n",
       "      <td>0.0</td>\n",
       "      <td>60.0</td>\n",
       "      <td>1</td>\n",
       "      <td>38911 Heather Ranch\\r\\nEast Carolyn, ND 59814</td>\n",
       "      <td>jack72@richards.com</td>\n",
       "      <td>7.0</td>\n",
       "      <td>PVT</td>\n",
       "      <td>5</td>\n",
       "      <td>NaN</td>\n",
       "      <td>1.0</td>\n",
       "      <td>R</td>\n",
       "    </tr>\n",
       "    <tr>\n",
       "      <th>45218</th>\n",
       "      <td>Male</td>\n",
       "      <td>1977-01-05</td>\n",
       "      <td>Private</td>\n",
       "      <td>Prof-school</td>\n",
       "      <td>15.0</td>\n",
       "      <td>Married-spouse-absent</td>\n",
       "      <td>Prof-specialty</td>\n",
       "      <td>Not-in-family</td>\n",
       "      <td>99999.0</td>\n",
       "      <td>0.0</td>\n",
       "      <td>40.0</td>\n",
       "      <td>1</td>\n",
       "      <td>20346 Fitzpatrick Prairie Suite 117\\r\\nWeaverh...</td>\n",
       "      <td>jason17@johnson-williams.org</td>\n",
       "      <td>7.0</td>\n",
       "      <td>PVT</td>\n",
       "      <td>5</td>\n",
       "      <td>NaN</td>\n",
       "      <td>1.0</td>\n",
       "      <td>R</td>\n",
       "    </tr>\n",
       "    <tr>\n",
       "      <th>45219</th>\n",
       "      <td>Male</td>\n",
       "      <td>1964-01-09</td>\n",
       "      <td>Self-emp-inc</td>\n",
       "      <td>Prof-school</td>\n",
       "      <td>15.0</td>\n",
       "      <td>Married-civ-spouse</td>\n",
       "      <td>Prof-specialty</td>\n",
       "      <td>Husband</td>\n",
       "      <td>99999.0</td>\n",
       "      <td>0.0</td>\n",
       "      <td>45.0</td>\n",
       "      <td>1</td>\n",
       "      <td>653 Valerie Cliffs Suite 914\\r\\nPort Hannah, D...</td>\n",
       "      <td>qdaniels@hotmail.com</td>\n",
       "      <td>13.0</td>\n",
       "      <td>NBF</td>\n",
       "      <td>189</td>\n",
       "      <td>NaN</td>\n",
       "      <td>1.0</td>\n",
       "      <td>I</td>\n",
       "    </tr>\n",
       "    <tr>\n",
       "      <th>45220</th>\n",
       "      <td>Male</td>\n",
       "      <td>1979-01-05</td>\n",
       "      <td>Private</td>\n",
       "      <td>Bachelors</td>\n",
       "      <td>13.0</td>\n",
       "      <td>Married-civ-spouse</td>\n",
       "      <td>Craft-repair</td>\n",
       "      <td>Husband</td>\n",
       "      <td>99999.0</td>\n",
       "      <td>0.0</td>\n",
       "      <td>40.0</td>\n",
       "      <td>1</td>\n",
       "      <td>6957 Daniel Avenue\\r\\nWest Jason, VA 80167</td>\n",
       "      <td>whitakersteven@yahoo.com</td>\n",
       "      <td>7.0</td>\n",
       "      <td>PVT</td>\n",
       "      <td>5</td>\n",
       "      <td>NaN</td>\n",
       "      <td>1.0</td>\n",
       "      <td>R</td>\n",
       "    </tr>\n",
       "    <tr>\n",
       "      <th>45221</th>\n",
       "      <td>Male</td>\n",
       "      <td>1977-01-05</td>\n",
       "      <td>Private</td>\n",
       "      <td>Bachelors</td>\n",
       "      <td>13.0</td>\n",
       "      <td>Married-civ-spouse</td>\n",
       "      <td>Exec-managerial</td>\n",
       "      <td>Husband</td>\n",
       "      <td>99999.0</td>\n",
       "      <td>0.0</td>\n",
       "      <td>50.0</td>\n",
       "      <td>1</td>\n",
       "      <td>100 Brian Course\\r\\nJesusville, MD 36505</td>\n",
       "      <td>gmiller@graham.com</td>\n",
       "      <td>99.0</td>\n",
       "      <td>PVT</td>\n",
       "      <td>5</td>\n",
       "      <td>NaN</td>\n",
       "      <td>1.0</td>\n",
       "      <td>R</td>\n",
       "    </tr>\n",
       "  </tbody>\n",
       "</table>\n",
       "</div>"
      ],
      "text/plain": [
       "      gender date_of_birth      workclass education_level  education_num  \\\n",
       "45217   Male    1976-01-06        Private     Prof-school           15.0   \n",
       "45218   Male    1977-01-05        Private     Prof-school           15.0   \n",
       "45219   Male    1964-01-09   Self-emp-inc     Prof-school           15.0   \n",
       "45220   Male    1979-01-05        Private       Bachelors           13.0   \n",
       "45221   Male    1977-01-05        Private       Bachelors           13.0   \n",
       "\n",
       "               marital_status        occupation    relationship  capital_gain  \\\n",
       "45217      Married-civ-spouse    Prof-specialty         Husband       99999.0   \n",
       "45218   Married-spouse-absent    Prof-specialty   Not-in-family       99999.0   \n",
       "45219      Married-civ-spouse    Prof-specialty         Husband       99999.0   \n",
       "45220      Married-civ-spouse      Craft-repair         Husband       99999.0   \n",
       "45221      Married-civ-spouse   Exec-managerial         Husband       99999.0   \n",
       "\n",
       "       capital_loss  hours_per_week  approved  \\\n",
       "45217           0.0            60.0         1   \n",
       "45218           0.0            40.0         1   \n",
       "45219           0.0            45.0         1   \n",
       "45220           0.0            40.0         1   \n",
       "45221           0.0            50.0         1   \n",
       "\n",
       "                                                 address  \\\n",
       "45217      38911 Heather Ranch\\r\\nEast Carolyn, ND 59814   \n",
       "45218  20346 Fitzpatrick Prairie Suite 117\\r\\nWeaverh...   \n",
       "45219  653 Valerie Cliffs Suite 914\\r\\nPort Hannah, D...   \n",
       "45220         6957 Daniel Avenue\\r\\nWest Jason, VA 80167   \n",
       "45221           100 Brian Course\\r\\nJesusville, MD 36505   \n",
       "\n",
       "                              email  inquiry_purpose_code institute_type  \\\n",
       "45217           jack72@richards.com                   7.0            PVT   \n",
       "45218  jason17@johnson-williams.org                   7.0            PVT   \n",
       "45219          qdaniels@hotmail.com                  13.0            NBF   \n",
       "45220      whitakersteven@yahoo.com                   7.0            PVT   \n",
       "45221            gmiller@graham.com                  99.0            PVT   \n",
       "\n",
       "       account_type asset_class_cd  asset_code portfolio_type  \n",
       "45217             5            NaN         1.0              R  \n",
       "45218             5            NaN         1.0              R  \n",
       "45219           189            NaN         1.0              I  \n",
       "45220             5            NaN         1.0              R  \n",
       "45221             5            NaN         1.0              R  "
      ]
     },
     "execution_count": 83,
     "metadata": {},
     "output_type": "execute_result"
    }
   ],
   "source": [
    "p.tail()"
   ]
  },
  {
   "cell_type": "code",
   "execution_count": 85,
   "id": "2c21daa3",
   "metadata": {},
   "outputs": [
    {
     "data": {
      "text/plain": [
       " Craft-repair         6020\n",
       " Prof-specialty       6008\n",
       " Exec-managerial      5984\n",
       " Adm-clerical         5540\n",
       " Sales                5408\n",
       " Other-service        4808\n",
       " Machine-op-inspct    2970\n",
       " Transport-moving     2316\n",
       " Handlers-cleaners    2046\n",
       " Farming-fishing      1480\n",
       " Tech-support         1420\n",
       " Protective-serv       976\n",
       " Priv-house-serv       232\n",
       " Armed-Forces           14\n",
       "Name: occupation, dtype: int64"
      ]
     },
     "execution_count": 85,
     "metadata": {},
     "output_type": "execute_result"
    }
   ],
   "source": [
    "p['occupation'].value_counts()"
   ]
  },
  {
   "cell_type": "code",
   "execution_count": 352,
   "id": "d955fbfd",
   "metadata": {},
   "outputs": [
    {
     "data": {
      "text/plain": [
       "0"
      ]
     },
     "execution_count": 352,
     "metadata": {},
     "output_type": "execute_result"
    }
   ],
   "source": [
    "p['Is_Lead'].isnull().sum()"
   ]
  },
  {
   "cell_type": "code",
   "execution_count": 353,
   "id": "122440ca",
   "metadata": {},
   "outputs": [
    {
     "data": {
      "text/plain": [
       "<matplotlib.axes._subplots.AxesSubplot at 0x2776040aa48>"
      ]
     },
     "execution_count": 353,
     "metadata": {},
     "output_type": "execute_result"
    },
    {
     "data": {
      "image/png": "[encoded data removed]",
      "text/plain": [
       "<Figure size 640x480 with 1 Axes>"
      ]
     },
     "metadata": {},
     "output_type": "display_data"
    }
   ],
   "source": [
    "p['Avg_Account_Balance'].plot(kind='box')"
   ]
  },
  {
   "cell_type": "code",
   "execution_count": 86,
   "id": "f5d152da",
   "metadata": {},
   "outputs": [],
   "source": [
    "from feature_engine.encoding import RareLabelEncoder\n",
    "from feature_engine.imputation import RandomSampleImputer\n",
    "from feature_engine.encoding import OneHotEncoder"
   ]
  },
  {
   "cell_type": "code",
   "execution_count": 87,
   "id": "f169f3a8",
   "metadata": {},
   "outputs": [],
   "source": [
    "re = RareLabelEncoder(tol=0.29,n_categories=2,variables=['occupation'])"
   ]
  },
  {
   "cell_type": "code",
   "execution_count": 88,
   "id": "f8046a47",
   "metadata": {},
   "outputs": [],
   "source": [
    "p = re.fit_transform(p)"
   ]
  },
  {
   "cell_type": "code",
   "execution_count": 90,
   "id": "59aa5066",
   "metadata": {},
   "outputs": [
    {
     "data": {
      "text/plain": [
       "Rare    45222\n",
       "Name: occupation, dtype: int64"
      ]
     },
     "execution_count": 90,
     "metadata": {},
     "output_type": "execute_result"
    }
   ],
   "source": [
    "p['occupation'].value_counts()"
   ]
  },
  {
   "cell_type": "code",
   "execution_count": 91,
   "id": "16afe315",
   "metadata": {},
   "outputs": [
    {
     "ename": "KeyError",
     "evalue": "'Channel_Code'",
     "output_type": "error",
     "traceback": [
      "\u001b[1;31m---------------------------------------------------------------------------\u001b[0m",
      "\u001b[1;31mKeyError\u001b[0m                                  Traceback (most recent call last)",
      "\u001b[1;32m~\\anaconda3\\envs\\nlp_course\\lib\\site-packages\\pandas\\core\\indexes\\base.py\u001b[0m in \u001b[0;36mget_loc\u001b[1;34m(self, key, method, tolerance)\u001b[0m\n\u001b[0;32m   3360\u001b[0m             \u001b[1;32mtry\u001b[0m\u001b[1;33m:\u001b[0m\u001b[1;33m\u001b[0m\u001b[1;33m\u001b[0m\u001b[0m\n\u001b[1;32m-> 3361\u001b[1;33m                 \u001b[1;32mreturn\u001b[0m \u001b[0mself\u001b[0m\u001b[1;33m.\u001b[0m\u001b[0m_engine\u001b[0m\u001b[1;33m.\u001b[0m\u001b[0mget_loc\u001b[0m\u001b[1;33m(\u001b[0m\u001b[0mcasted_key\u001b[0m\u001b[1;33m)\u001b[0m\u001b[1;33m\u001b[0m\u001b[1;33m\u001b[0m\u001b[0m\n\u001b[0m\u001b[0;32m   3362\u001b[0m             \u001b[1;32mexcept\u001b[0m \u001b[0mKeyError\u001b[0m \u001b[1;32mas\u001b[0m \u001b[0merr\u001b[0m\u001b[1;33m:\u001b[0m\u001b[1;33m\u001b[0m\u001b[1;33m\u001b[0m\u001b[0m\n",
      "\u001b[1;32m~\\anaconda3\\envs\\nlp_course\\lib\\site-packages\\pandas\\_libs\\index.pyx\u001b[0m in \u001b[0;36mpandas._libs.index.IndexEngine.get_loc\u001b[1;34m()\u001b[0m\n",
      "\u001b[1;32m~\\anaconda3\\envs\\nlp_course\\lib\\site-packages\\pandas\\_libs\\index.pyx\u001b[0m in \u001b[0;36mpandas._libs.index.IndexEngine.get_loc\u001b[1;34m()\u001b[0m\n",
      "\u001b[1;32mpandas\\_libs\\hashtable_class_helper.pxi\u001b[0m in \u001b[0;36mpandas._libs.hashtable.PyObjectHashTable.get_item\u001b[1;34m()\u001b[0m\n",
      "\u001b[1;32mpandas\\_libs\\hashtable_class_helper.pxi\u001b[0m in \u001b[0;36mpandas._libs.hashtable.PyObjectHashTable.get_item\u001b[1;34m()\u001b[0m\n",
      "\u001b[1;31mKeyError\u001b[0m: 'Channel_Code'",
      "\nThe above exception was the direct cause of the following exception:\n",
      "\u001b[1;31mKeyError\u001b[0m                                  Traceback (most recent call last)",
      "\u001b[1;32m~\\AppData\\Local\\Temp\\ipykernel_23432\\3326308497.py\u001b[0m in \u001b[0;36m<module>\u001b[1;34m\u001b[0m\n\u001b[1;32m----> 1\u001b[1;33m \u001b[0mp\u001b[0m\u001b[1;33m[\u001b[0m\u001b[1;34m'Channel_Code'\u001b[0m\u001b[1;33m]\u001b[0m\u001b[1;33m.\u001b[0m\u001b[0mvalue_counts\u001b[0m\u001b[1;33m(\u001b[0m\u001b[1;33m)\u001b[0m\u001b[1;33m\u001b[0m\u001b[1;33m\u001b[0m\u001b[0m\n\u001b[0m",
      "\u001b[1;32m~\\anaconda3\\envs\\nlp_course\\lib\\site-packages\\pandas\\core\\frame.py\u001b[0m in \u001b[0;36m__getitem__\u001b[1;34m(self, key)\u001b[0m\n\u001b[0;32m   3456\u001b[0m             \u001b[1;32mif\u001b[0m \u001b[0mself\u001b[0m\u001b[1;33m.\u001b[0m\u001b[0mcolumns\u001b[0m\u001b[1;33m.\u001b[0m\u001b[0mnlevels\u001b[0m \u001b[1;33m>\u001b[0m \u001b[1;36m1\u001b[0m\u001b[1;33m:\u001b[0m\u001b[1;33m\u001b[0m\u001b[1;33m\u001b[0m\u001b[0m\n\u001b[0;32m   3457\u001b[0m                 \u001b[1;32mreturn\u001b[0m \u001b[0mself\u001b[0m\u001b[1;33m.\u001b[0m\u001b[0m_getitem_multilevel\u001b[0m\u001b[1;33m(\u001b[0m\u001b[0mkey\u001b[0m\u001b[1;33m)\u001b[0m\u001b[1;33m\u001b[0m\u001b[1;33m\u001b[0m\u001b[0m\n\u001b[1;32m-> 3458\u001b[1;33m             \u001b[0mindexer\u001b[0m \u001b[1;33m=\u001b[0m \u001b[0mself\u001b[0m\u001b[1;33m.\u001b[0m\u001b[0mcolumns\u001b[0m\u001b[1;33m.\u001b[0m\u001b[0mget_loc\u001b[0m\u001b[1;33m(\u001b[0m\u001b[0mkey\u001b[0m\u001b[1;33m)\u001b[0m\u001b[1;33m\u001b[0m\u001b[1;33m\u001b[0m\u001b[0m\n\u001b[0m\u001b[0;32m   3459\u001b[0m             \u001b[1;32mif\u001b[0m \u001b[0mis_integer\u001b[0m\u001b[1;33m(\u001b[0m\u001b[0mindexer\u001b[0m\u001b[1;33m)\u001b[0m\u001b[1;33m:\u001b[0m\u001b[1;33m\u001b[0m\u001b[1;33m\u001b[0m\u001b[0m\n\u001b[0;32m   3460\u001b[0m                 \u001b[0mindexer\u001b[0m \u001b[1;33m=\u001b[0m \u001b[1;33m[\u001b[0m\u001b[0mindexer\u001b[0m\u001b[1;33m]\u001b[0m\u001b[1;33m\u001b[0m\u001b[1;33m\u001b[0m\u001b[0m\n",
      "\u001b[1;32m~\\anaconda3\\envs\\nlp_course\\lib\\site-packages\\pandas\\core\\indexes\\base.py\u001b[0m in \u001b[0;36mget_loc\u001b[1;34m(self, key, method, tolerance)\u001b[0m\n\u001b[0;32m   3361\u001b[0m                 \u001b[1;32mreturn\u001b[0m \u001b[0mself\u001b[0m\u001b[1;33m.\u001b[0m\u001b[0m_engine\u001b[0m\u001b[1;33m.\u001b[0m\u001b[0mget_loc\u001b[0m\u001b[1;33m(\u001b[0m\u001b[0mcasted_key\u001b[0m\u001b[1;33m)\u001b[0m\u001b[1;33m\u001b[0m\u001b[1;33m\u001b[0m\u001b[0m\n\u001b[0;32m   3362\u001b[0m             \u001b[1;32mexcept\u001b[0m \u001b[0mKeyError\u001b[0m \u001b[1;32mas\u001b[0m \u001b[0merr\u001b[0m\u001b[1;33m:\u001b[0m\u001b[1;33m\u001b[0m\u001b[1;33m\u001b[0m\u001b[0m\n\u001b[1;32m-> 3363\u001b[1;33m                 \u001b[1;32mraise\u001b[0m \u001b[0mKeyError\u001b[0m\u001b[1;33m(\u001b[0m\u001b[0mkey\u001b[0m\u001b[1;33m)\u001b[0m \u001b[1;32mfrom\u001b[0m \u001b[0merr\u001b[0m\u001b[1;33m\u001b[0m\u001b[1;33m\u001b[0m\u001b[0m\n\u001b[0m\u001b[0;32m   3364\u001b[0m \u001b[1;33m\u001b[0m\u001b[0m\n\u001b[0;32m   3365\u001b[0m         \u001b[1;32mif\u001b[0m \u001b[0mis_scalar\u001b[0m\u001b[1;33m(\u001b[0m\u001b[0mkey\u001b[0m\u001b[1;33m)\u001b[0m \u001b[1;32mand\u001b[0m \u001b[0misna\u001b[0m\u001b[1;33m(\u001b[0m\u001b[0mkey\u001b[0m\u001b[1;33m)\u001b[0m \u001b[1;32mand\u001b[0m \u001b[1;32mnot\u001b[0m \u001b[0mself\u001b[0m\u001b[1;33m.\u001b[0m\u001b[0mhasnans\u001b[0m\u001b[1;33m:\u001b[0m\u001b[1;33m\u001b[0m\u001b[1;33m\u001b[0m\u001b[0m\n",
      "\u001b[1;31mKeyError\u001b[0m: 'Channel_Code'"
     ]
    }
   ],
   "source": [
    "p['Channel_Code'].value_counts()"
   ]
  },
  {
   "cell_type": "code",
   "execution_count": 359,
   "id": "0c07d4a5",
   "metadata": {},
   "outputs": [],
   "source": [
    "re1 = RareLabelEncoder(tol=0.276,n_categories=2,variables=['Channel_Code'])"
   ]
  },
  {
   "cell_type": "code",
   "execution_count": 360,
   "id": "ce07b442",
   "metadata": {},
   "outputs": [],
   "source": [
    "p = re1.fit_transform(p)"
   ]
  },
  {
   "cell_type": "code",
   "execution_count": 361,
   "id": "107c4362",
   "metadata": {},
   "outputs": [
    {
     "data": {
      "text/plain": [
       "X1      103718\n",
       "Rare     73295\n",
       "X3       68712\n",
       "Name: Channel_Code, dtype: int64"
      ]
     },
     "execution_count": 361,
     "metadata": {},
     "output_type": "execute_result"
    }
   ],
   "source": [
    "p['Channel_Code'].value_counts()"
   ]
  },
  {
   "cell_type": "code",
   "execution_count": 362,
   "id": "af0835cf",
   "metadata": {},
   "outputs": [
    {
     "data": {
      "text/html": [
       "<div>\n",
       "<style scoped>\n",
       "    .dataframe tbody tr th:only-of-type {\n",
       "        vertical-align: middle;\n",
       "    }\n",
       "\n",
       "    .dataframe tbody tr th {\n",
       "        vertical-align: top;\n",
       "    }\n",
       "\n",
       "    .dataframe thead th {\n",
       "        text-align: right;\n",
       "    }\n",
       "</style>\n",
       "<table border=\"1\" class=\"dataframe\">\n",
       "  <thead>\n",
       "    <tr style=\"text-align: right;\">\n",
       "      <th></th>\n",
       "      <th>Gender</th>\n",
       "      <th>Age</th>\n",
       "      <th>Region_Code</th>\n",
       "      <th>Occupation</th>\n",
       "      <th>Channel_Code</th>\n",
       "      <th>Vintage</th>\n",
       "      <th>Credit_Product</th>\n",
       "      <th>Avg_Account_Balance</th>\n",
       "      <th>Is_Active</th>\n",
       "      <th>Is_Lead</th>\n",
       "    </tr>\n",
       "  </thead>\n",
       "  <tbody>\n",
       "    <tr>\n",
       "      <th>0</th>\n",
       "      <td>Female</td>\n",
       "      <td>73</td>\n",
       "      <td>RG268</td>\n",
       "      <td>Rare</td>\n",
       "      <td>X3</td>\n",
       "      <td>43</td>\n",
       "      <td>No</td>\n",
       "      <td>1045696</td>\n",
       "      <td>No</td>\n",
       "      <td>0</td>\n",
       "    </tr>\n",
       "    <tr>\n",
       "      <th>1</th>\n",
       "      <td>Female</td>\n",
       "      <td>30</td>\n",
       "      <td>RG277</td>\n",
       "      <td>Salaried</td>\n",
       "      <td>X1</td>\n",
       "      <td>32</td>\n",
       "      <td>No</td>\n",
       "      <td>581988</td>\n",
       "      <td>No</td>\n",
       "      <td>0</td>\n",
       "    </tr>\n",
       "    <tr>\n",
       "      <th>2</th>\n",
       "      <td>Female</td>\n",
       "      <td>56</td>\n",
       "      <td>RG268</td>\n",
       "      <td>Self_Employed</td>\n",
       "      <td>X3</td>\n",
       "      <td>26</td>\n",
       "      <td>No</td>\n",
       "      <td>1484315</td>\n",
       "      <td>Yes</td>\n",
       "      <td>0</td>\n",
       "    </tr>\n",
       "    <tr>\n",
       "      <th>3</th>\n",
       "      <td>Male</td>\n",
       "      <td>34</td>\n",
       "      <td>RG270</td>\n",
       "      <td>Salaried</td>\n",
       "      <td>X1</td>\n",
       "      <td>19</td>\n",
       "      <td>No</td>\n",
       "      <td>470454</td>\n",
       "      <td>No</td>\n",
       "      <td>0</td>\n",
       "    </tr>\n",
       "    <tr>\n",
       "      <th>4</th>\n",
       "      <td>Female</td>\n",
       "      <td>30</td>\n",
       "      <td>RG282</td>\n",
       "      <td>Salaried</td>\n",
       "      <td>X1</td>\n",
       "      <td>33</td>\n",
       "      <td>No</td>\n",
       "      <td>886787</td>\n",
       "      <td>No</td>\n",
       "      <td>0</td>\n",
       "    </tr>\n",
       "  </tbody>\n",
       "</table>\n",
       "</div>"
      ],
      "text/plain": [
       "   Gender  Age Region_Code     Occupation Channel_Code  Vintage  \\\n",
       "0  Female   73       RG268           Rare           X3       43   \n",
       "1  Female   30       RG277       Salaried           X1       32   \n",
       "2  Female   56       RG268  Self_Employed           X3       26   \n",
       "3    Male   34       RG270       Salaried           X1       19   \n",
       "4  Female   30       RG282       Salaried           X1       33   \n",
       "\n",
       "  Credit_Product  Avg_Account_Balance Is_Active  Is_Lead  \n",
       "0             No              1045696        No        0  \n",
       "1             No               581988        No        0  \n",
       "2             No              1484315       Yes        0  \n",
       "3             No               470454        No        0  \n",
       "4             No               886787        No        0  "
      ]
     },
     "execution_count": 362,
     "metadata": {},
     "output_type": "execute_result"
    }
   ],
   "source": [
    "p.head()"
   ]
  },
  {
   "cell_type": "code",
   "execution_count": 363,
   "id": "47a032fa",
   "metadata": {},
   "outputs": [],
   "source": [
    "rs = RandomSampleImputer(random_state=42,variables=['Credit_Product'])"
   ]
  },
  {
   "cell_type": "code",
   "execution_count": 364,
   "id": "b739a658",
   "metadata": {},
   "outputs": [],
   "source": [
    "p = rs.fit_transform(p)"
   ]
  },
  {
   "cell_type": "code",
   "execution_count": 365,
   "id": "5a71ee22",
   "metadata": {},
   "outputs": [
    {
     "data": {
      "text/plain": [
       "Gender                 0\n",
       "Age                    0\n",
       "Region_Code            0\n",
       "Occupation             0\n",
       "Channel_Code           0\n",
       "Vintage                0\n",
       "Credit_Product         0\n",
       "Avg_Account_Balance    0\n",
       "Is_Active              0\n",
       "Is_Lead                0\n",
       "dtype: int64"
      ]
     },
     "execution_count": 365,
     "metadata": {},
     "output_type": "execute_result"
    }
   ],
   "source": [
    "p.isnull().sum()"
   ]
  },
  {
   "cell_type": "code",
   "execution_count": 366,
   "id": "eaaa9bf3",
   "metadata": {},
   "outputs": [
    {
     "data": {
      "text/html": [
       "<div>\n",
       "<style scoped>\n",
       "    .dataframe tbody tr th:only-of-type {\n",
       "        vertical-align: middle;\n",
       "    }\n",
       "\n",
       "    .dataframe tbody tr th {\n",
       "        vertical-align: top;\n",
       "    }\n",
       "\n",
       "    .dataframe thead th {\n",
       "        text-align: right;\n",
       "    }\n",
       "</style>\n",
       "<table border=\"1\" class=\"dataframe\">\n",
       "  <thead>\n",
       "    <tr style=\"text-align: right;\">\n",
       "      <th></th>\n",
       "      <th>Gender</th>\n",
       "      <th>Age</th>\n",
       "      <th>Region_Code</th>\n",
       "      <th>Occupation</th>\n",
       "      <th>Channel_Code</th>\n",
       "      <th>Vintage</th>\n",
       "      <th>Credit_Product</th>\n",
       "      <th>Avg_Account_Balance</th>\n",
       "      <th>Is_Active</th>\n",
       "      <th>Is_Lead</th>\n",
       "    </tr>\n",
       "  </thead>\n",
       "  <tbody>\n",
       "    <tr>\n",
       "      <th>245720</th>\n",
       "      <td>Male</td>\n",
       "      <td>51</td>\n",
       "      <td>RG284</td>\n",
       "      <td>Self_Employed</td>\n",
       "      <td>X3</td>\n",
       "      <td>109</td>\n",
       "      <td>No</td>\n",
       "      <td>1925586</td>\n",
       "      <td>No</td>\n",
       "      <td>0</td>\n",
       "    </tr>\n",
       "    <tr>\n",
       "      <th>245721</th>\n",
       "      <td>Male</td>\n",
       "      <td>27</td>\n",
       "      <td>RG268</td>\n",
       "      <td>Salaried</td>\n",
       "      <td>X1</td>\n",
       "      <td>15</td>\n",
       "      <td>No</td>\n",
       "      <td>862952</td>\n",
       "      <td>Yes</td>\n",
       "      <td>0</td>\n",
       "    </tr>\n",
       "    <tr>\n",
       "      <th>245722</th>\n",
       "      <td>Female</td>\n",
       "      <td>26</td>\n",
       "      <td>RG281</td>\n",
       "      <td>Salaried</td>\n",
       "      <td>X1</td>\n",
       "      <td>13</td>\n",
       "      <td>No</td>\n",
       "      <td>670659</td>\n",
       "      <td>No</td>\n",
       "      <td>0</td>\n",
       "    </tr>\n",
       "    <tr>\n",
       "      <th>245723</th>\n",
       "      <td>Female</td>\n",
       "      <td>28</td>\n",
       "      <td>RG273</td>\n",
       "      <td>Salaried</td>\n",
       "      <td>X1</td>\n",
       "      <td>31</td>\n",
       "      <td>No</td>\n",
       "      <td>407504</td>\n",
       "      <td>No</td>\n",
       "      <td>0</td>\n",
       "    </tr>\n",
       "    <tr>\n",
       "      <th>245724</th>\n",
       "      <td>Male</td>\n",
       "      <td>29</td>\n",
       "      <td>RG269</td>\n",
       "      <td>Salaried</td>\n",
       "      <td>X1</td>\n",
       "      <td>21</td>\n",
       "      <td>No</td>\n",
       "      <td>1129276</td>\n",
       "      <td>No</td>\n",
       "      <td>0</td>\n",
       "    </tr>\n",
       "  </tbody>\n",
       "</table>\n",
       "</div>"
      ],
      "text/plain": [
       "        Gender  Age Region_Code     Occupation Channel_Code  Vintage  \\\n",
       "245720    Male   51       RG284  Self_Employed           X3      109   \n",
       "245721    Male   27       RG268       Salaried           X1       15   \n",
       "245722  Female   26       RG281       Salaried           X1       13   \n",
       "245723  Female   28       RG273       Salaried           X1       31   \n",
       "245724    Male   29       RG269       Salaried           X1       21   \n",
       "\n",
       "       Credit_Product  Avg_Account_Balance Is_Active  Is_Lead  \n",
       "245720             No              1925586        No        0  \n",
       "245721             No               862952       Yes        0  \n",
       "245722             No               670659        No        0  \n",
       "245723             No               407504        No        0  \n",
       "245724             No              1129276        No        0  "
      ]
     },
     "execution_count": 366,
     "metadata": {},
     "output_type": "execute_result"
    }
   ],
   "source": [
    "p.tail()"
   ]
  },
  {
   "cell_type": "code",
   "execution_count": 367,
   "id": "f1b24074",
   "metadata": {},
   "outputs": [
    {
     "data": {
      "text/plain": [
       "Index(['Gender', 'Age', 'Region_Code', 'Occupation', 'Channel_Code', 'Vintage',\n",
       "       'Credit_Product', 'Avg_Account_Balance', 'Is_Active', 'Is_Lead'],\n",
       "      dtype='object')"
      ]
     },
     "execution_count": 367,
     "metadata": {},
     "output_type": "execute_result"
    }
   ],
   "source": [
    "p.columns"
   ]
  },
  {
   "cell_type": "code",
   "execution_count": 368,
   "id": "1487645b",
   "metadata": {},
   "outputs": [],
   "source": [
    "oe = OneHotEncoder(variables=['Gender','Occupation','Channel_Code',\n",
    "                             'Credit_Product','Is_Active'],drop_last=True)"
   ]
  },
  {
   "cell_type": "code",
   "execution_count": 369,
   "id": "3ead94a9",
   "metadata": {},
   "outputs": [],
   "source": [
    "l = oe.fit_transform(p)"
   ]
  },
  {
   "cell_type": "code",
   "execution_count": 370,
   "id": "807cae10",
   "metadata": {},
   "outputs": [
    {
     "data": {
      "text/html": [
       "<div>\n",
       "<style scoped>\n",
       "    .dataframe tbody tr th:only-of-type {\n",
       "        vertical-align: middle;\n",
       "    }\n",
       "\n",
       "    .dataframe tbody tr th {\n",
       "        vertical-align: top;\n",
       "    }\n",
       "\n",
       "    .dataframe thead th {\n",
       "        text-align: right;\n",
       "    }\n",
       "</style>\n",
       "<table border=\"1\" class=\"dataframe\">\n",
       "  <thead>\n",
       "    <tr style=\"text-align: right;\">\n",
       "      <th></th>\n",
       "      <th>Age</th>\n",
       "      <th>Region_Code</th>\n",
       "      <th>Vintage</th>\n",
       "      <th>Avg_Account_Balance</th>\n",
       "      <th>Is_Lead</th>\n",
       "      <th>Gender_Female</th>\n",
       "      <th>Occupation_Rare</th>\n",
       "      <th>Occupation_Salaried</th>\n",
       "      <th>Channel_Code_X3</th>\n",
       "      <th>Channel_Code_X1</th>\n",
       "      <th>Credit_Product_No</th>\n",
       "      <th>Is_Active_No</th>\n",
       "    </tr>\n",
       "  </thead>\n",
       "  <tbody>\n",
       "    <tr>\n",
       "      <th>0</th>\n",
       "      <td>73</td>\n",
       "      <td>RG268</td>\n",
       "      <td>43</td>\n",
       "      <td>1045696</td>\n",
       "      <td>0</td>\n",
       "      <td>1</td>\n",
       "      <td>1</td>\n",
       "      <td>0</td>\n",
       "      <td>1</td>\n",
       "      <td>0</td>\n",
       "      <td>1</td>\n",
       "      <td>1</td>\n",
       "    </tr>\n",
       "    <tr>\n",
       "      <th>1</th>\n",
       "      <td>30</td>\n",
       "      <td>RG277</td>\n",
       "      <td>32</td>\n",
       "      <td>581988</td>\n",
       "      <td>0</td>\n",
       "      <td>1</td>\n",
       "      <td>0</td>\n",
       "      <td>1</td>\n",
       "      <td>0</td>\n",
       "      <td>1</td>\n",
       "      <td>1</td>\n",
       "      <td>1</td>\n",
       "    </tr>\n",
       "    <tr>\n",
       "      <th>2</th>\n",
       "      <td>56</td>\n",
       "      <td>RG268</td>\n",
       "      <td>26</td>\n",
       "      <td>1484315</td>\n",
       "      <td>0</td>\n",
       "      <td>1</td>\n",
       "      <td>0</td>\n",
       "      <td>0</td>\n",
       "      <td>1</td>\n",
       "      <td>0</td>\n",
       "      <td>1</td>\n",
       "      <td>0</td>\n",
       "    </tr>\n",
       "    <tr>\n",
       "      <th>3</th>\n",
       "      <td>34</td>\n",
       "      <td>RG270</td>\n",
       "      <td>19</td>\n",
       "      <td>470454</td>\n",
       "      <td>0</td>\n",
       "      <td>0</td>\n",
       "      <td>0</td>\n",
       "      <td>1</td>\n",
       "      <td>0</td>\n",
       "      <td>1</td>\n",
       "      <td>1</td>\n",
       "      <td>1</td>\n",
       "    </tr>\n",
       "    <tr>\n",
       "      <th>4</th>\n",
       "      <td>30</td>\n",
       "      <td>RG282</td>\n",
       "      <td>33</td>\n",
       "      <td>886787</td>\n",
       "      <td>0</td>\n",
       "      <td>1</td>\n",
       "      <td>0</td>\n",
       "      <td>1</td>\n",
       "      <td>0</td>\n",
       "      <td>1</td>\n",
       "      <td>1</td>\n",
       "      <td>1</td>\n",
       "    </tr>\n",
       "  </tbody>\n",
       "</table>\n",
       "</div>"
      ],
      "text/plain": [
       "   Age Region_Code  Vintage  Avg_Account_Balance  Is_Lead  Gender_Female  \\\n",
       "0   73       RG268       43              1045696        0              1   \n",
       "1   30       RG277       32               581988        0              1   \n",
       "2   56       RG268       26              1484315        0              1   \n",
       "3   34       RG270       19               470454        0              0   \n",
       "4   30       RG282       33               886787        0              1   \n",
       "\n",
       "   Occupation_Rare  Occupation_Salaried  Channel_Code_X3  Channel_Code_X1  \\\n",
       "0                1                    0                1                0   \n",
       "1                0                    1                0                1   \n",
       "2                0                    0                1                0   \n",
       "3                0                    1                0                1   \n",
       "4                0                    1                0                1   \n",
       "\n",
       "   Credit_Product_No  Is_Active_No  \n",
       "0                  1             1  \n",
       "1                  1             1  \n",
       "2                  1             0  \n",
       "3                  1             1  \n",
       "4                  1             1  "
      ]
     },
     "execution_count": 370,
     "metadata": {},
     "output_type": "execute_result"
    }
   ],
   "source": [
    "l.head()"
   ]
  },
  {
   "cell_type": "code",
   "execution_count": 12,
   "id": "a1f46b65",
   "metadata": {},
   "outputs": [],
   "source": [
    "y = p.iloc[:,-1]"
   ]
  },
  {
   "cell_type": "code",
   "execution_count": 13,
   "id": "a03cfd96",
   "metadata": {},
   "outputs": [],
   "source": [
    "p.drop(['Is_Lead'],inplace=True,axis=1)"
   ]
  },
  {
   "cell_type": "code",
   "execution_count": 14,
   "id": "0c854c26",
   "metadata": {},
   "outputs": [
    {
     "data": {
      "text/html": [
       "<div>\n",
       "<style scoped>\n",
       "    .dataframe tbody tr th:only-of-type {\n",
       "        vertical-align: middle;\n",
       "    }\n",
       "\n",
       "    .dataframe tbody tr th {\n",
       "        vertical-align: top;\n",
       "    }\n",
       "\n",
       "    .dataframe thead th {\n",
       "        text-align: right;\n",
       "    }\n",
       "</style>\n",
       "<table border=\"1\" class=\"dataframe\">\n",
       "  <thead>\n",
       "    <tr style=\"text-align: right;\">\n",
       "      <th></th>\n",
       "      <th>Age</th>\n",
       "      <th>Vintage</th>\n",
       "      <th>Avg_Account_Balance</th>\n",
       "      <th>Gender_Female</th>\n",
       "      <th>Occupation_Rare</th>\n",
       "      <th>Occupation_Salaried</th>\n",
       "      <th>Channel_Code_X3</th>\n",
       "      <th>Channel_Code_X1</th>\n",
       "      <th>Credit_Product_No</th>\n",
       "      <th>Is_Active_No</th>\n",
       "    </tr>\n",
       "  </thead>\n",
       "  <tbody>\n",
       "    <tr>\n",
       "      <th>0</th>\n",
       "      <td>73</td>\n",
       "      <td>43</td>\n",
       "      <td>1045696</td>\n",
       "      <td>1</td>\n",
       "      <td>1</td>\n",
       "      <td>0</td>\n",
       "      <td>1</td>\n",
       "      <td>0</td>\n",
       "      <td>1</td>\n",
       "      <td>1</td>\n",
       "    </tr>\n",
       "    <tr>\n",
       "      <th>1</th>\n",
       "      <td>30</td>\n",
       "      <td>32</td>\n",
       "      <td>581988</td>\n",
       "      <td>1</td>\n",
       "      <td>0</td>\n",
       "      <td>1</td>\n",
       "      <td>0</td>\n",
       "      <td>1</td>\n",
       "      <td>1</td>\n",
       "      <td>1</td>\n",
       "    </tr>\n",
       "    <tr>\n",
       "      <th>2</th>\n",
       "      <td>56</td>\n",
       "      <td>26</td>\n",
       "      <td>1484315</td>\n",
       "      <td>1</td>\n",
       "      <td>0</td>\n",
       "      <td>0</td>\n",
       "      <td>1</td>\n",
       "      <td>0</td>\n",
       "      <td>1</td>\n",
       "      <td>0</td>\n",
       "    </tr>\n",
       "    <tr>\n",
       "      <th>3</th>\n",
       "      <td>34</td>\n",
       "      <td>19</td>\n",
       "      <td>470454</td>\n",
       "      <td>0</td>\n",
       "      <td>0</td>\n",
       "      <td>1</td>\n",
       "      <td>0</td>\n",
       "      <td>1</td>\n",
       "      <td>1</td>\n",
       "      <td>1</td>\n",
       "    </tr>\n",
       "    <tr>\n",
       "      <th>4</th>\n",
       "      <td>30</td>\n",
       "      <td>33</td>\n",
       "      <td>886787</td>\n",
       "      <td>1</td>\n",
       "      <td>0</td>\n",
       "      <td>1</td>\n",
       "      <td>0</td>\n",
       "      <td>1</td>\n",
       "      <td>1</td>\n",
       "      <td>1</td>\n",
       "    </tr>\n",
       "  </tbody>\n",
       "</table>\n",
       "</div>"
      ],
      "text/plain": [
       "   Age  Vintage  Avg_Account_Balance  Gender_Female  Occupation_Rare  \\\n",
       "0   73       43              1045696              1                1   \n",
       "1   30       32               581988              1                0   \n",
       "2   56       26              1484315              1                0   \n",
       "3   34       19               470454              0                0   \n",
       "4   30       33               886787              1                0   \n",
       "\n",
       "   Occupation_Salaried  Channel_Code_X3  Channel_Code_X1  Credit_Product_No  \\\n",
       "0                    0                1                0                  1   \n",
       "1                    1                0                1                  1   \n",
       "2                    0                1                0                  1   \n",
       "3                    1                0                1                  1   \n",
       "4                    1                0                1                  1   \n",
       "\n",
       "   Is_Active_No  \n",
       "0             1  \n",
       "1             1  \n",
       "2             0  \n",
       "3             1  \n",
       "4             1  "
      ]
     },
     "execution_count": 14,
     "metadata": {},
     "output_type": "execute_result"
    }
   ],
   "source": [
    "p.head()"
   ]
  },
  {
   "cell_type": "code",
   "execution_count": 15,
   "id": "79efa304",
   "metadata": {},
   "outputs": [],
   "source": [
    "from sklearn.preprocessing import StandardScaler\n",
    "from sklearn.model_selection import train_test_split"
   ]
  },
  {
   "cell_type": "code",
   "execution_count": 373,
   "id": "8798c1e3",
   "metadata": {},
   "outputs": [],
   "source": [
    "ro = p.iloc[:,9]"
   ]
  },
  {
   "cell_type": "code",
   "execution_count": 374,
   "id": "bbdbed9a",
   "metadata": {},
   "outputs": [],
   "source": [
    "ro = pd.DataFrame(ro)"
   ]
  },
  {
   "cell_type": "code",
   "execution_count": 375,
   "id": "d6faa9a3",
   "metadata": {},
   "outputs": [
    {
     "data": {
      "text/html": [
       "<div>\n",
       "<style scoped>\n",
       "    .dataframe tbody tr th:only-of-type {\n",
       "        vertical-align: middle;\n",
       "    }\n",
       "\n",
       "    .dataframe tbody tr th {\n",
       "        vertical-align: top;\n",
       "    }\n",
       "\n",
       "    .dataframe thead th {\n",
       "        text-align: right;\n",
       "    }\n",
       "</style>\n",
       "<table border=\"1\" class=\"dataframe\">\n",
       "  <thead>\n",
       "    <tr style=\"text-align: right;\">\n",
       "      <th></th>\n",
       "      <th>Is_Lead</th>\n",
       "    </tr>\n",
       "  </thead>\n",
       "  <tbody>\n",
       "    <tr>\n",
       "      <th>245722</th>\n",
       "      <td>0</td>\n",
       "    </tr>\n",
       "    <tr>\n",
       "      <th>245723</th>\n",
       "      <td>0</td>\n",
       "    </tr>\n",
       "    <tr>\n",
       "      <th>245724</th>\n",
       "      <td>0</td>\n",
       "    </tr>\n",
       "  </tbody>\n",
       "</table>\n",
       "</div>"
      ],
      "text/plain": [
       "        Is_Lead\n",
       "245722        0\n",
       "245723        0\n",
       "245724        0"
      ]
     },
     "execution_count": 375,
     "metadata": {},
     "output_type": "execute_result"
    }
   ],
   "source": [
    "ro.tail(3)"
   ]
  },
  {
   "cell_type": "code",
   "execution_count": 376,
   "id": "60c9aa0e",
   "metadata": {},
   "outputs": [],
   "source": [
    "X = l"
   ]
  },
  {
   "cell_type": "code",
   "execution_count": 377,
   "id": "edf62f40",
   "metadata": {},
   "outputs": [
    {
     "data": {
      "text/html": [
       "<div>\n",
       "<style scoped>\n",
       "    .dataframe tbody tr th:only-of-type {\n",
       "        vertical-align: middle;\n",
       "    }\n",
       "\n",
       "    .dataframe tbody tr th {\n",
       "        vertical-align: top;\n",
       "    }\n",
       "\n",
       "    .dataframe thead th {\n",
       "        text-align: right;\n",
       "    }\n",
       "</style>\n",
       "<table border=\"1\" class=\"dataframe\">\n",
       "  <thead>\n",
       "    <tr style=\"text-align: right;\">\n",
       "      <th></th>\n",
       "      <th>Age</th>\n",
       "      <th>Vintage</th>\n",
       "      <th>Avg_Account_Balance</th>\n",
       "      <th>Gender_Female</th>\n",
       "      <th>Occupation_Rare</th>\n",
       "      <th>Occupation_Salaried</th>\n",
       "      <th>Channel_Code_X3</th>\n",
       "      <th>Channel_Code_X1</th>\n",
       "      <th>Credit_Product_No</th>\n",
       "      <th>Is_Active_No</th>\n",
       "    </tr>\n",
       "  </thead>\n",
       "  <tbody>\n",
       "    <tr>\n",
       "      <th>0</th>\n",
       "      <td>73</td>\n",
       "      <td>43</td>\n",
       "      <td>1045696</td>\n",
       "      <td>1</td>\n",
       "      <td>1</td>\n",
       "      <td>0</td>\n",
       "      <td>1</td>\n",
       "      <td>0</td>\n",
       "      <td>1</td>\n",
       "      <td>1</td>\n",
       "    </tr>\n",
       "    <tr>\n",
       "      <th>1</th>\n",
       "      <td>30</td>\n",
       "      <td>32</td>\n",
       "      <td>581988</td>\n",
       "      <td>1</td>\n",
       "      <td>0</td>\n",
       "      <td>1</td>\n",
       "      <td>0</td>\n",
       "      <td>1</td>\n",
       "      <td>1</td>\n",
       "      <td>1</td>\n",
       "    </tr>\n",
       "    <tr>\n",
       "      <th>2</th>\n",
       "      <td>56</td>\n",
       "      <td>26</td>\n",
       "      <td>1484315</td>\n",
       "      <td>1</td>\n",
       "      <td>0</td>\n",
       "      <td>0</td>\n",
       "      <td>1</td>\n",
       "      <td>0</td>\n",
       "      <td>1</td>\n",
       "      <td>0</td>\n",
       "    </tr>\n",
       "    <tr>\n",
       "      <th>3</th>\n",
       "      <td>34</td>\n",
       "      <td>19</td>\n",
       "      <td>470454</td>\n",
       "      <td>0</td>\n",
       "      <td>0</td>\n",
       "      <td>1</td>\n",
       "      <td>0</td>\n",
       "      <td>1</td>\n",
       "      <td>1</td>\n",
       "      <td>1</td>\n",
       "    </tr>\n",
       "    <tr>\n",
       "      <th>4</th>\n",
       "      <td>30</td>\n",
       "      <td>33</td>\n",
       "      <td>886787</td>\n",
       "      <td>1</td>\n",
       "      <td>0</td>\n",
       "      <td>1</td>\n",
       "      <td>0</td>\n",
       "      <td>1</td>\n",
       "      <td>1</td>\n",
       "      <td>1</td>\n",
       "    </tr>\n",
       "  </tbody>\n",
       "</table>\n",
       "</div>"
      ],
      "text/plain": [
       "   Age  Vintage  Avg_Account_Balance  Gender_Female  Occupation_Rare  \\\n",
       "0   73       43              1045696              1                1   \n",
       "1   30       32               581988              1                0   \n",
       "2   56       26              1484315              1                0   \n",
       "3   34       19               470454              0                0   \n",
       "4   30       33               886787              1                0   \n",
       "\n",
       "   Occupation_Salaried  Channel_Code_X3  Channel_Code_X1  Credit_Product_No  \\\n",
       "0                    0                1                0                  1   \n",
       "1                    1                0                1                  1   \n",
       "2                    0                1                0                  1   \n",
       "3                    1                0                1                  1   \n",
       "4                    1                0                1                  1   \n",
       "\n",
       "   Is_Active_No  \n",
       "0             1  \n",
       "1             1  \n",
       "2             0  \n",
       "3             1  \n",
       "4             1  "
      ]
     },
     "execution_count": 377,
     "metadata": {},
     "output_type": "execute_result"
    }
   ],
   "source": [
    "X.head()"
   ]
  },
  {
   "cell_type": "code",
   "execution_count": 17,
   "id": "758074df",
   "metadata": {},
   "outputs": [],
   "source": [
    "X_train, X_test, y_train, y_test = train_test_split(p, y, test_size=0.30, random_state=42)"
   ]
  },
  {
   "cell_type": "code",
   "execution_count": 329,
   "id": "a5862c74",
   "metadata": {},
   "outputs": [
    {
     "name": "stderr",
     "output_type": "stream",
     "text": [
      "C:\\Users\\GTDNL\\anaconda3\\envs\\nlp_course\\lib\\site-packages\\sklearn\\utils\\validation.py:993: DataConversionWarning: A column-vector y was passed when a 1d array was expected. Please change the shape of y to (n_samples, ), for example using ravel().\n",
      "  y = column_or_1d(y, warn=True)\n",
      "C:\\Users\\GTDNL\\anaconda3\\envs\\nlp_course\\lib\\site-packages\\sklearn\\utils\\validation.py:993: DataConversionWarning: A column-vector y was passed when a 1d array was expected. Please change the shape of y to (n_samples, ), for example using ravel().\n",
      "  y = column_or_1d(y, warn=True)\n"
     ]
    },
    {
     "data": {
      "text/plain": [
       "Index(['Age', 'Vintage', 'Channel_Code_X1'], dtype='object')"
      ]
     },
     "execution_count": 329,
     "metadata": {},
     "output_type": "execute_result"
    }
   ],
   "source": [
    "from sklearn.feature_selection import mutual_info_regression,mutual_info_classif\n",
    "mi=mutual_info_classif(X_train,ro_train)\n",
    "mi=pd.Series(mi)\n",
    "mi.index=X.columns\n",
    "lol=mi.sort_values(ascending=False)\n",
    "from sklearn.feature_selection import SelectPercentile\n",
    "sel=SelectPercentile(mutual_info_classif,percentile=30).fit(X_train,ro_train)\n",
    "X.columns[sel.get_support()]"
   ]
  },
  {
   "cell_type": "code",
   "execution_count": 331,
   "id": "3b12309a",
   "metadata": {},
   "outputs": [],
   "source": [
    "X = l[['Age', 'Vintage', 'Channel_Code_X1', 'Credit_Product_No']]"
   ]
  },
  {
   "cell_type": "code",
   "execution_count": 332,
   "id": "9a11edb1",
   "metadata": {},
   "outputs": [
    {
     "data": {
      "text/plain": [
       "Is_Lead\n",
       "0          187437\n",
       "1           58288\n",
       "dtype: int64"
      ]
     },
     "execution_count": 332,
     "metadata": {},
     "output_type": "execute_result"
    }
   ],
   "source": [
    "ro.value_counts()"
   ]
  },
  {
   "cell_type": "code",
   "execution_count": 333,
   "id": "7b51c45e",
   "metadata": {},
   "outputs": [],
   "source": [
    "sd= StandardScaler()\n",
    "X = sd.fit_transform(X)"
   ]
  },
  {
   "cell_type": "code",
   "execution_count": 334,
   "id": "9034b695",
   "metadata": {},
   "outputs": [],
   "source": [
    "X_train, X_test, ro_train, ro_test = train_test_split(X, ro, test_size=0.30, random_state=42)"
   ]
  },
  {
   "cell_type": "code",
   "execution_count": 25,
   "id": "0e7b2c34",
   "metadata": {},
   "outputs": [],
   "source": [
    "from sklearn.metrics import accuracy_score, roc_auc_score,confusion_matrix"
   ]
  },
  {
   "cell_type": "code",
   "execution_count": 19,
   "id": "e975db0b",
   "metadata": {},
   "outputs": [],
   "source": [
    "from sklearn.ensemble import RandomForestClassifier"
   ]
  },
  {
   "cell_type": "code",
   "execution_count": 20,
   "id": "8c8e4db9",
   "metadata": {},
   "outputs": [],
   "source": [
    "sv=RandomForestClassifier(n_estimators=150, min_samples_split=10, min_samples_leaf=2, max_depth=20, bootstrap=True)"
   ]
  },
  {
   "cell_type": "code",
   "execution_count": 22,
   "id": "de47b13b",
   "metadata": {},
   "outputs": [
    {
     "data": {
      "text/plain": [
       "0.8719413439223204"
      ]
     },
     "execution_count": 22,
     "metadata": {},
     "output_type": "execute_result"
    }
   ],
   "source": [
    "sv.fit(X_train,y_train)\n",
    "rf1=sv.predict(X_train)\n",
    "accuracy_score(rf1,y_train)"
   ]
  },
  {
   "cell_type": "code",
   "execution_count": 26,
   "id": "04cd4a3a",
   "metadata": {},
   "outputs": [
    {
     "data": {
      "text/plain": [
       "0.8719427236546994"
      ]
     },
     "execution_count": 26,
     "metadata": {},
     "output_type": "execute_result"
    }
   ],
   "source": [
    "roc_auc_score(rf1,y_train)"
   ]
  },
  {
   "cell_type": "code",
   "execution_count": 27,
   "id": "65ad5706",
   "metadata": {},
   "outputs": [
    {
     "data": {
      "text/plain": [
       "array([[114290,  16673],\n",
       "       [ 16931, 114517]], dtype=int64)"
      ]
     },
     "execution_count": 27,
     "metadata": {},
     "output_type": "execute_result"
    }
   ],
   "source": [
    "confusion_matrix(rf1,y_train)"
   ]
  },
  {
   "cell_type": "code",
   "execution_count": 23,
   "id": "e86be308",
   "metadata": {},
   "outputs": [
    {
     "data": {
      "text/plain": [
       "0.8082925050905632"
      ]
     },
     "execution_count": 23,
     "metadata": {},
     "output_type": "execute_result"
    }
   ],
   "source": [
    "rf2=sv.predict(X_test)\n",
    "accuracy_score(rf2,y_test)"
   ]
  },
  {
   "cell_type": "code",
   "execution_count": 28,
   "id": "a6fba9d4",
   "metadata": {},
   "outputs": [
    {
     "data": {
      "text/plain": [
       "0.8082932288390818"
      ]
     },
     "execution_count": 28,
     "metadata": {},
     "output_type": "execute_result"
    }
   ],
   "source": [
    "roc_auc_score(rf2,y_test)"
   ]
  },
  {
   "cell_type": "code",
   "execution_count": 29,
   "id": "2c84cd64",
   "metadata": {},
   "outputs": [
    {
     "data": {
      "text/plain": [
       "array([[45481, 10825],\n",
       "       [10735, 45422]], dtype=int64)"
      ]
     },
     "execution_count": 29,
     "metadata": {},
     "output_type": "execute_result"
    }
   ],
   "source": [
    "confusion_matrix(rf2,y_test)"
   ]
  },
  {
   "cell_type": "code",
   "execution_count": 30,
   "id": "2eb77ae6",
   "metadata": {},
   "outputs": [],
   "source": [
    "from sklearn.linear_model import LogisticRegression"
   ]
  },
  {
   "cell_type": "code",
   "execution_count": 38,
   "id": "5df70690",
   "metadata": {},
   "outputs": [],
   "source": [
    "model = LogisticRegression(solver='liblinear',penalty='l1', max_iter=900, C=141.74741629268047)"
   ]
  },
  {
   "cell_type": "code",
   "execution_count": 39,
   "id": "11e52830",
   "metadata": {},
   "outputs": [
    {
     "data": {
      "text/plain": [
       "LogisticRegression(C=141.74741629268047, max_iter=900, penalty='l1',\n",
       "                   solver='liblinear')"
      ]
     },
     "execution_count": 39,
     "metadata": {},
     "output_type": "execute_result"
    }
   ],
   "source": [
    "model.fit(X_train, y_train)"
   ]
  },
  {
   "cell_type": "code",
   "execution_count": 40,
   "id": "55607445",
   "metadata": {},
   "outputs": [
    {
     "data": {
      "text/plain": [
       "0.7663931771152886"
      ]
     },
     "execution_count": 40,
     "metadata": {},
     "output_type": "execute_result"
    }
   ],
   "source": [
    "r=model.predict(X_train)\n",
    "accuracy_score(r,y_train)"
   ]
  },
  {
   "cell_type": "code",
   "execution_count": 41,
   "id": "046f55a2",
   "metadata": {},
   "outputs": [
    {
     "data": {
      "text/plain": [
       "0.7672423445319831"
      ]
     },
     "execution_count": 41,
     "metadata": {},
     "output_type": "execute_result"
    }
   ],
   "source": [
    "roc_auc_score(r,y_train)"
   ]
  },
  {
   "cell_type": "code",
   "execution_count": 42,
   "id": "135a1bca",
   "metadata": {},
   "outputs": [
    {
     "data": {
      "text/plain": [
       "array([[ 96872,  26952],\n",
       "       [ 34349, 104238]], dtype=int64)"
      ]
     },
     "execution_count": 42,
     "metadata": {},
     "output_type": "execute_result"
    }
   ],
   "source": [
    "confusion_matrix(r,y_train)"
   ]
  },
  {
   "cell_type": "code",
   "execution_count": 75,
   "id": "c2ea9f01",
   "metadata": {},
   "outputs": [
    {
     "data": {
      "text/plain": [
       "0.7651316432960173"
      ]
     },
     "execution_count": 75,
     "metadata": {},
     "output_type": "execute_result"
    }
   ],
   "source": [
    "rf2=model.predict(X_test)\n",
    "accuracy_score(rf2,y_test)"
   ]
  },
  {
   "cell_type": "code",
   "execution_count": 76,
   "id": "a0f75f85",
   "metadata": {},
   "outputs": [
    {
     "data": {
      "text/plain": [
       "0.7660295736561282"
      ]
     },
     "execution_count": 76,
     "metadata": {},
     "output_type": "execute_result"
    }
   ],
   "source": [
    "roc_auc_score(rf2,y_test)"
   ]
  },
  {
   "cell_type": "code",
   "execution_count": 77,
   "id": "09322cdd",
   "metadata": {},
   "outputs": [
    {
     "data": {
      "text/plain": [
       "array([[41376, 11574],\n",
       "       [14840, 44673]], dtype=int64)"
      ]
     },
     "execution_count": 77,
     "metadata": {},
     "output_type": "execute_result"
    }
   ],
   "source": [
    "confusion_matrix(rf2,y_test)"
   ]
  },
  {
   "cell_type": "code",
   "execution_count": 43,
   "id": "ead001ee",
   "metadata": {},
   "outputs": [],
   "source": [
    "from sklearn.tree import DecisionTreeClassifier"
   ]
  },
  {
   "cell_type": "code",
   "execution_count": 68,
   "id": "0b66c287",
   "metadata": {},
   "outputs": [],
   "source": [
    "dr = DecisionTreeClassifier(splitter='random', min_samples_split=5, min_samples_leaf=4, max_features=None, max_depth=20, criterion='entropy')"
   ]
  },
  {
   "cell_type": "code",
   "execution_count": 69,
   "id": "fd1d61f1",
   "metadata": {},
   "outputs": [
    {
     "data": {
      "text/plain": [
       "DecisionTreeClassifier(criterion='entropy', max_depth=20, min_samples_leaf=4,\n",
       "                       min_samples_split=5, splitter='random')"
      ]
     },
     "execution_count": 69,
     "metadata": {},
     "output_type": "execute_result"
    }
   ],
   "source": [
    "dr.fit(X_train, y_train)"
   ]
  },
  {
   "cell_type": "code",
   "execution_count": 70,
   "id": "cce67176",
   "metadata": {},
   "outputs": [
    {
     "data": {
      "text/plain": [
       "0.8267412570357188"
      ]
     },
     "execution_count": 70,
     "metadata": {},
     "output_type": "execute_result"
    }
   ],
   "source": [
    "d=dr.predict(X_train)\n",
    "accuracy_score(d,y_train)"
   ]
  },
  {
   "cell_type": "code",
   "execution_count": 71,
   "id": "9b89090a",
   "metadata": {},
   "outputs": [
    {
     "data": {
      "text/plain": [
       "0.8276193600743385"
      ]
     },
     "execution_count": 71,
     "metadata": {},
     "output_type": "execute_result"
    }
   ],
   "source": [
    "roc_auc_score(d,y_train)"
   ]
  },
  {
   "cell_type": "code",
   "execution_count": 72,
   "id": "b07ea1fd",
   "metadata": {},
   "outputs": [
    {
     "data": {
      "text/plain": [
       "array([[111883,  26127],\n",
       "       [ 19338, 105063]], dtype=int64)"
      ]
     },
     "execution_count": 72,
     "metadata": {},
     "output_type": "execute_result"
    }
   ],
   "source": [
    "confusion_matrix(d,y_train)"
   ]
  },
  {
   "cell_type": "code",
   "execution_count": 73,
   "id": "634b7d91",
   "metadata": {},
   "outputs": [
    {
     "data": {
      "text/plain": [
       "0.7881614397624107"
      ]
     },
     "execution_count": 73,
     "metadata": {},
     "output_type": "execute_result"
    }
   ],
   "source": [
    "rf2=dr.predict(X_test)\n",
    "accuracy_score(rf2,y_test)"
   ]
  },
  {
   "cell_type": "code",
   "execution_count": 74,
   "id": "c1250134",
   "metadata": {},
   "outputs": [
    {
     "data": {
      "text/plain": [
       "0.7888807197172563"
      ]
     },
     "execution_count": 74,
     "metadata": {},
     "output_type": "execute_result"
    }
   ],
   "source": [
    "roc_auc_score(rf2,y_test)"
   ]
  },
  {
   "cell_type": "code",
   "execution_count": 60,
   "id": "1a9a3a56",
   "metadata": {},
   "outputs": [
    {
     "data": {
      "text/plain": [
       "array([[46125, 14311],\n",
       "       [10091, 41936]], dtype=int64)"
      ]
     },
     "execution_count": 60,
     "metadata": {},
     "output_type": "execute_result"
    }
   ],
   "source": [
    "confusion_matrix(rf2,y_test)"
   ]
  },
  {
   "cell_type": "code",
   "execution_count": null,
   "id": "5b1ff169",
   "metadata": {},
   "outputs": [],
   "source": []
  }
 ],
 "metadata": {
  "kernelspec": {
   "display_name": "Python 3 (ipykernel)",
   "language": "python",
   "name": "python3"
  },
  "language_info": {
   "codemirror_mode": {
    "name": "ipython",
    "version": 3
   },
   "file_extension": ".py",
   "mimetype": "text/x-python",
   "name": "python",
   "nbconvert_exporter": "python",
   "pygments_lexer": "ipython3",
   "version": "3.7.16"
  }
 },
 "nbformat": 4,
 "nbformat_minor": 5
}
