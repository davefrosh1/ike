{
 "cells": [
  {
   "cell_type": "code",
   "execution_count": 9,
   "id": "279cc656",
   "metadata": {},
   "outputs": [
    {
     "name": "stdout",
     "output_type": "stream",
     "text": [
      "Overwriting ik.txt\n"
     ]
    }
   ],
   "source": [
    "%%writefile ik.txt\n",
    "omo e hard ga\n",
    "o hard ga."
   ]
  },
  {
   "cell_type": "code",
   "execution_count": 10,
   "id": "61a3872c",
   "metadata": {},
   "outputs": [],
   "source": [
    "tr= open('ik.txt')"
   ]
  },
  {
   "cell_type": "code",
   "execution_count": 11,
   "id": "0a5257eb",
   "metadata": {},
   "outputs": [
    {
     "data": {
      "text/plain": [
       "<_io.TextIOWrapper name='ik.txt' mode='r' encoding='cp1252'>"
      ]
     },
     "execution_count": 11,
     "metadata": {},
     "output_type": "execute_result"
    }
   ],
   "source": [
    "tr"
   ]
  },
  {
   "cell_type": "code",
   "execution_count": 12,
   "id": "e4c374c9",
   "metadata": {},
   "outputs": [],
   "source": [
    "i=tr.read()"
   ]
  },
  {
   "cell_type": "code",
   "execution_count": 13,
   "id": "2d541bec",
   "metadata": {},
   "outputs": [
    {
     "name": "stdout",
     "output_type": "stream",
     "text": [
      "omo e hard ga\n",
      "o hard ga.\n",
      "\n"
     ]
    }
   ],
   "source": [
    "co=print(i)"
   ]
  },
  {
   "cell_type": "code",
   "execution_count": 14,
   "id": "cb9c6bc3",
   "metadata": {},
   "outputs": [],
   "source": [
    "import PyPDF2"
   ]
  },
  {
   "cell_type": "code",
   "execution_count": 15,
   "id": "fcd9d3a1",
   "metadata": {},
   "outputs": [],
   "source": [
    "pdf_file=open('US_Declaration.pdf', mode='rb')"
   ]
  },
  {
   "cell_type": "code",
   "execution_count": 16,
   "id": "202d176b",
   "metadata": {},
   "outputs": [],
   "source": [
    "lo=PyPDF2.PdfReader(pdf_file)"
   ]
  },
  {
   "cell_type": "code",
   "execution_count": 17,
   "id": "8a3be0ae",
   "metadata": {},
   "outputs": [
    {
     "data": {
      "text/plain": [
       "5"
      ]
     },
     "execution_count": 17,
     "metadata": {},
     "output_type": "execute_result"
    }
   ],
   "source": [
    "len(lo.pages)"
   ]
  },
  {
   "cell_type": "code",
   "execution_count": 18,
   "id": "4ae7e378",
   "metadata": {},
   "outputs": [],
   "source": [
    "il=lo.pages[3]"
   ]
  },
  {
   "cell_type": "code",
   "execution_count": 19,
   "id": "f61dba94",
   "metadata": {},
   "outputs": [],
   "source": [
    "ik=il.extract_text()"
   ]
  },
  {
   "cell_type": "code",
   "execution_count": 20,
   "id": "a05b1dcf",
   "metadata": {},
   "outputs": [
    {
     "name": "stdout",
     "output_type": "stream",
     "text": [
      "between them and the State of Great Britain, is and ought to be totally dissolved; and that as Freeand Independent States, they have full Power to levy War, conclude Peace, contract Alliances,\n",
      "establish Commerce, and to do all other Acts and Things which Independent States may of rightdo. And for the support of this Declaration, with a firm reliance on the protection of divineProvidence, we mutually pledge to each other our Lives, our Fortunes and our sacred Honor.[The 56 signatures on the Declaration were arranged in six columns: ] \n",
      "[Column 1] Georgia:\n",
      "   Button Gwinnett\n",
      "   Lyman Hall\n",
      "   George Walton \n",
      "[Column 2] North Carolina:\n",
      "   William Hooper\n",
      "   Joseph Hewes\n",
      "   John Penn\n",
      " South Carolina:\n",
      "   Edward Ru tledge\n",
      "   Thomas Heyward, Jr.\n",
      "  Thomas Lynch, Jr.\n",
      "  Arthur Middleton \n",
      "[Column 3] Massachusetts:\n",
      "   John Hancock Maryland:\n",
      "   Samuel Chase   William Paca   Thomas Stone   Charles Carroll of Carrollton Virginia:\n",
      "   George Wythe   Richard Henry Lee   Thomas Jefferson   Benjamin Harrison   Thomas Nelson, Jr.   Francis Lightfoot Lee   Carter Braxton [Column 4] Pennsylvania:\n",
      "  Robert Morris   Benjamin Rush\n",
      "   Benjamin Fran klin\n",
      "   John Morton\n"
     ]
    }
   ],
   "source": [
    "print(ik)"
   ]
  },
  {
   "cell_type": "code",
   "execution_count": 73,
   "id": "95293c71",
   "metadata": {},
   "outputs": [
    {
     "name": "stdout",
     "output_type": "stream",
     "text": [
      "[\"Declaration of Independence\\nIN CONGRESS, July 4, 1776.  \\nThe unanimous Declaration of the thirteen united States of America,  \\nWhen in the Course of human events, it becomes necessary for one people to dissolve thepolitical bands which have connected them with another, and to assume among the powers of theearth, the separate and equal station to which the Laws of Nature and of Nature's God entitlethem, a decent respect to the opinions of mankind requires that they should declare the causeswhich impel them to the separation. We hold these truths to be self-evident, that all men are created equal, that they are endowed bytheir Creator with certain unalienable Rights, that among these are Life, Liberty and the pursuit\\nof Happiness.— \\x14That to secure these rights, Governments are instituted among Men, derivingtheir just powers from the consent of the governed,—  \\x14That whenever any Form of Government\\nbecomes destructive of these ends, it is the Right of the People to alter or to abolish it, and to\\ninstitute new Government, laying its foundation on such principles and organizing its powers in\\nsuch form, as to them shall seem most likely to effect their Safety and Happiness. Prudence,indeed, will dictate that Governments long established should not be changed for light andtransient causes; and accordingly all experience hath shewn, that mankind are more disposed to\\nsuffer, while evils are sufferable, than to right themselves by abolishing the forms to which theyare accustomed. But when a long train of abuses and usurpations, pursuing invariably the same\\nObject evinces a design to reduce them under absolute Despotism, it is their right, it is their duty,\\nto throw off such Government, and to provide new Guards for their future securit y.— \\x14Such has\\nbeen the patient sufferance of these Colonies; and such is now the necessity which constrainsthem to alter their former Systems of Government. The history of the present King of GreatBritain is a history of repeated injuries and usurpations, all having in direct object the\\nestablishment of an absolute Tyranny over these States. To prove this, let Facts be submitted to a\\ncandid world. \\nHe has refused his Assent to Laws, the most wholesome and necessary for the\\npublic good.He has forbidden his Governors to pass Laws of immediate and pressingimportance, unless suspended in their operation till his Assent should be obtained;and when so suspended, he has utterly neglected to attend to them.He has refused to pass other Laws for the accommodation of large districts of\\npeople, unless those people would relinquish the right of Representation in theLegislature, a right inestimable to them and formidable to tyrants only. He has called together legislative bodies at places unusual, uncomfortable, and distantfrom the depository of their public Records, for the sole purpose of fatiguing them into\\ncompliance with his measures.\", 'He has dissolved Re presentative Ho uses repeatedly , for opposing wit h manly\\nfirmness his invasions on the rights of the people.\\nHe has refused for a long time, after such dissolutions, to cause others to be\\nelected; whereby the Leg islative powers, incapable of Annihilation, have returned\\nto the People at lar ge for their exe rcise; the State r emaining in the me an time\\nexposed to all the dangers of invasion from without, and convulsions within.\\nHe has endeavou red to prevent the  population of these  States; for that pur pose\\nobstructing the L aws for Natural ization of Foreig ners; refusing  to pass others to\\nencourage their migrations hither, and raising the conditions of new\\nAppropriations of  Lands.\\nHe has obstructed the Administration of Justice, by refusing his Assent to Laws\\nfor establishing  Judiciary pow ers.\\nHe has made Judge s dependent on his Wil l alone, for the te nure of their off ices,\\nand the amount and  payment of t heir salaries.\\nHe has erected  a multitude of New  Offices, and se nt hither swarms of  Officers to\\nharrass our people, and eat out their substance.\\nHe has kept among us, in times of peace, Standing Armies without the Consent of\\nour legislature s.\\nHe has affected to render the Military independent of a nd superior to the Civil power.\\nHe has combined with others to subject us to a jurisdiction foreign to our\\nconstitution, and unacknowledged by our laws; giving his Assent to their Acts of\\npretended Legislation:\\nFor Quartering  large bodies of  armed troops amon g us:\\nFor protecting them, by a mock Trial, from punishment for any  Murders which\\nthey should c ommit on the Inha bitants of these Sta tes:\\nFor cutting off our Trade with all parts of the world:\\nFor imposing Taxe s on us without our Con sent: For deprivi ng us in many  cases,\\nof the benefits of T rial by J ury:\\nFor transporting us beyond Seas to be tried for pretended of fences\\nFor abolishing the free System of English L aws in a neighbouring Province,\\nestablishing therein an Arbitrary government, and e nlarging its Boundaries so as', 'to render it at onc e an example and fi t instrument for intr oducing the same\\nabsolute rule into  these Colonies:\\nFor taking away our Charters, abolishing our most valuable L aws, and altering\\nfundamentally  the Forms of our G overnments:\\nFor suspending  our own Leg islatures, and de claring themse lves invested with\\npower to legislate for us in all cases whatsoever.\\nHe has abdicated Government here, by declar ing us out of his Protection and\\nwaging War ag ainst us.\\nHe has plundered our seas, ravaged our Coasts, burnt our towns, and destroy ed the\\nlives of our people.\\nHe is at this time transporting large Armies of foreign Mercenaries to compleat\\nthe works of death, desolation and tyranny , already begun with circumstances of\\nCruelty & pe rfidy scar cely para lleled in the most ba rbarous ages,  and totally\\nunworthy of the Head of a civilized nation.\\nHe has constrained our fellow Citizens taken Captive on the high Seas to bear\\nArms against their Country, to become the executioners of their friends and\\nBrethren, or to  fall themselves by  their Hands.\\nHe has excited domestic insurrections amongst us, and has endeavoured to bring\\non the inhabitants of our frontiers, the merciless Indian Savages, whose known\\nrule of warfare, is an undistinguished destruction of all ages, sexes and conditions. \\nIn every  stage of these O ppressions We have  Petitioned for Redr ess in the most humble  terms:\\nOur repeated Pe titions have been a nswered only  by repeate d injury. A Pr ince whose char acter is\\nthus marked by every ac t which may define a Tyra nt, is unfit to be the ruler of a free people. \\nNor have We been wanting in attentions to our Brittish brethren. We have warned them from\\ntime to time  of attemp ts by th eir legi slature t o extend an  unwarra ntable jur isdiction  over us. We\\nhave reminded them of the circumstances of our emigration and settlement here. We have\\nappealed to their native justice and magnanimity, and we have c onjured them by the ties of our\\ncommon kindred to disavow these usurpations, which, would inevitably interrupt our\\nconnections and correspondence. They too have bee n deaf to the voice of justice and of\\nconsanguinity. We must, therefore, acquiesce in the necessity , which denounces our Separation,\\nand hold them, as we hold the rest of mankind, Enemies in War, in Peace Friends. \\nWe, therefore, t he Representativ es of the united Sta tes of America, i n General Congr ess,\\nAssembled, appealing to the Supreme Judge of the world for the rectitude of our intentions, do,\\nin the Name, and by Authority of the g ood People of these Colonies, solemnly publish and\\ndeclare, That th ese United Colonie s are, and of Rig ht ought to be Fre e and Indepe ndent States;\\nthat they are Absolved from all Allegiance to the British Crown, and that a ll political connection', 'between them and the State of Great Britain, is and ought to be totally dissolved; and that as Freeand Independent States, they have full Power to levy War, conclude Peace, contract Alliances,\\nestablish Commerce, and to do all other Acts and Things which Independent States may of rightdo. And for the support of this Declaration, with a firm reliance on the protection of divineProvidence, we mutually pledge to each other our Lives, our Fortunes and our sacred Honor.[The 56 signatures on the Declaration were arranged in six columns: ] \\n[Column 1] Georgia:\\n   Button Gwinnett\\n   Lyman Hall\\n   George Walton \\n[Column 2] North Carolina:\\n   William Hooper\\n   Joseph Hewes\\n   John Penn\\n South Carolina:\\n   Edward Ru tledge\\n   Thomas Heyward, Jr.\\n  Thomas Lynch, Jr.\\n  Arthur Middleton \\n[Column 3] Massachusetts:\\n   John Hancock Maryland:\\n   Samuel Chase   William Paca   Thomas Stone   Charles Carroll of Carrollton Virginia:\\n   George Wythe   Richard Henry Lee   Thomas Jefferson   Benjamin Harrison   Thomas Nelson, Jr.   Francis Lightfoot Lee   Carter Braxton [Column 4] Pennsylvania:\\n  Robert Morris   Benjamin Rush\\n   Benjamin Fran klin\\n   John Morton', '   George Clymer\\n   James Smith\\n   George Taylor\\n   James Wilson\\n   George Ross\\n Delaware:\\n   Caesar Rodney\\n   George Read\\n   Thomas McKean \\n[Column 5] New York:\\n   Wi lliam Floyd\\n   Philip Livingston\\n   Francis L ewis\\n   Lewis Morris\\n New Jersey:\\n   Richard Stockton\\n   John Witherspoon\\n   Francis Hopkinson\\n   John Hart\\n   Abraham Clark \\n[Column 6] New Hampshire:\\n   Josiah Bartlett\\n   William Whipple\\n Massachusetts:\\n   Samuel Adams\\n   John Adams\\n   Robert Treat Paine\\n   Elbridge Gerry\\n Rhode Island:\\n   Stephen Hopkins\\n   William Ellery\\n Connecticut:\\n   Roger Sherman\\n   Samuel Huntington\\n   William Williams\\n   Oliver Wolcott\\n New Hampshire:\\n Matthew Thornton\\n ']\n"
     ]
    }
   ],
   "source": [
    "full=[]\n",
    "for i in range(len(lo.pages)):\n",
    "    fir=lo.pages[i]\n",
    "    page=fir.extract_text()\n",
    "    full.append(page)\n",
    "print(full)"
   ]
  },
  {
   "cell_type": "code",
   "execution_count": 19,
   "id": "4c9ce2eb",
   "metadata": {},
   "outputs": [],
   "source": [
    "text = 'we de*y *outside_ for here at 10 ogati street* 234 is 440'"
   ]
  },
  {
   "cell_type": "code",
   "execution_count": 2,
   "id": "d6c19cde",
   "metadata": {},
   "outputs": [],
   "source": [
    "import re"
   ]
  },
  {
   "cell_type": "code",
   "execution_count": 3,
   "id": "eb70ae62",
   "metadata": {},
   "outputs": [],
   "source": [
    "pattern='10'"
   ]
  },
  {
   "cell_type": "code",
   "execution_count": 6,
   "id": "c32c68df",
   "metadata": {},
   "outputs": [],
   "source": [
    "ok=re.search(pattern,text)"
   ]
  },
  {
   "cell_type": "code",
   "execution_count": 7,
   "id": "92536e52",
   "metadata": {},
   "outputs": [
    {
     "data": {
      "text/plain": [
       "27"
      ]
     },
     "execution_count": 7,
     "metadata": {},
     "output_type": "execute_result"
    }
   ],
   "source": [
    "ok.start()"
   ]
  },
  {
   "cell_type": "code",
   "execution_count": 8,
   "id": "54bd33c8",
   "metadata": {},
   "outputs": [
    {
     "data": {
      "text/plain": [
       "29"
      ]
     },
     "execution_count": 8,
     "metadata": {},
     "output_type": "execute_result"
    }
   ],
   "source": [
    "ok.end()"
   ]
  },
  {
   "cell_type": "code",
   "execution_count": 9,
   "id": "47c21696",
   "metadata": {},
   "outputs": [
    {
     "data": {
      "text/plain": [
       "(27, 29)"
      ]
     },
     "execution_count": 9,
     "metadata": {},
     "output_type": "execute_result"
    }
   ],
   "source": [
    "ok.span()"
   ]
  },
  {
   "cell_type": "code",
   "execution_count": 86,
   "id": "d7716051",
   "metadata": {},
   "outputs": [],
   "source": [
    "tt = 'we de*y *outside_ for here at 10 ogati street* 234 is 4406w'"
   ]
  },
  {
   "cell_type": "code",
   "execution_count": 94,
   "id": "b08f0346",
   "metadata": {},
   "outputs": [],
   "source": [
    "pi= r'(\\D{2,})'"
   ]
  },
  {
   "cell_type": "code",
   "execution_count": 95,
   "id": "6f1e9885",
   "metadata": {},
   "outputs": [
    {
     "data": {
      "text/plain": [
       "['we de*y *outside_ for here at ', ' ogati street* ', ' is ']"
      ]
     },
     "execution_count": 95,
     "metadata": {},
     "output_type": "execute_result"
    }
   ],
   "source": [
    "re.findall(pi,tt)"
   ]
  },
  {
   "cell_type": "code",
   "execution_count": 96,
   "id": "7c760108",
   "metadata": {},
   "outputs": [],
   "source": [
    "#Assesment"
   ]
  },
  {
   "cell_type": "code",
   "execution_count": 97,
   "id": "c0fd1bf0",
   "metadata": {},
   "outputs": [
    {
     "name": "stdout",
     "output_type": "stream",
     "text": [
      "NLP stands for Natural Language Processing\n"
     ]
    }
   ],
   "source": [
    "abbr= 'NLP'\n",
    "full_text= 'Natural Language Processing'\n",
    "\n",
    "print(f\"{abbr} stands for {full_text}\")"
   ]
  },
  {
   "cell_type": "code",
   "execution_count": 229,
   "id": "60f7017f",
   "metadata": {},
   "outputs": [
    {
     "name": "stdout",
     "output_type": "stream",
     "text": [
      "Overwriting contacts.txt\n"
     ]
    }
   ],
   "source": [
    "%%writefile contacts.txt\n",
    "First_name, Last_name, Title, Extension, Email"
   ]
  },
  {
   "cell_type": "code",
   "execution_count": 230,
   "id": "60d56323",
   "metadata": {},
   "outputs": [],
   "source": [
    "ik=open('contacts.txt')"
   ]
  },
  {
   "cell_type": "code",
   "execution_count": 231,
   "id": "b489ddac",
   "metadata": {},
   "outputs": [],
   "source": [
    "o=ik.read()"
   ]
  },
  {
   "cell_type": "code",
   "execution_count": 233,
   "id": "3701b45c",
   "metadata": {},
   "outputs": [
    {
     "name": "stdout",
     "output_type": "stream",
     "text": [
      "First_name, Last_name, Title, Extension, Email\n",
      "\n"
     ]
    }
   ],
   "source": [
    "print(o)"
   ]
  },
  {
   "cell_type": "code",
   "execution_count": 249,
   "id": "12c9cabf",
   "metadata": {},
   "outputs": [],
   "source": [
    "import PyPDF2"
   ]
  },
  {
   "cell_type": "code",
   "execution_count": 250,
   "id": "83c9a22a",
   "metadata": {},
   "outputs": [],
   "source": [
    "po = open('Business_Proposal.pdf', mode='rb')"
   ]
  },
  {
   "cell_type": "code",
   "execution_count": 251,
   "id": "d828db65",
   "metadata": {},
   "outputs": [],
   "source": [
    "lo = PyPDF2.PdfReader(po)"
   ]
  },
  {
   "cell_type": "code",
   "execution_count": 252,
   "id": "5c9e7882",
   "metadata": {},
   "outputs": [
    {
     "data": {
      "text/plain": [
       "2"
      ]
     },
     "execution_count": 252,
     "metadata": {},
     "output_type": "execute_result"
    }
   ],
   "source": [
    "len(lo.pages)"
   ]
  },
  {
   "cell_type": "code",
   "execution_count": 253,
   "id": "036f9505",
   "metadata": {},
   "outputs": [],
   "source": [
    "di=lo.pages[1]"
   ]
  },
  {
   "cell_type": "code",
   "execution_count": 254,
   "id": "402722a8",
   "metadata": {},
   "outputs": [
    {
     "name": "stdout",
     "output_type": "stream",
     "text": [
      "AUTHORS:  \n",
      "Amy Baker, Finance Chair, x345, abaker@ourcompany.com  \n",
      "Chris Donaldson, Accounting Dir., x621, cdonaldson@ourcompany.com  \n",
      "Erin Freeman, Sr. VP, x879, efreeman@ourcompany.com  \n"
     ]
    }
   ],
   "source": [
    "print(ex)"
   ]
  },
  {
   "cell_type": "code",
   "execution_count": 246,
   "id": "2d3f33e6",
   "metadata": {},
   "outputs": [],
   "source": [
    "po.close()"
   ]
  },
  {
   "cell_type": "code",
   "execution_count": 238,
   "id": "e970d6be",
   "metadata": {},
   "outputs": [],
   "source": [
    "ex=di.extract_text()"
   ]
  },
  {
   "cell_type": "code",
   "execution_count": 169,
   "id": "6a342151",
   "metadata": {},
   "outputs": [],
   "source": [
    "fi.append(ex)"
   ]
  },
  {
   "cell_type": "code",
   "execution_count": 171,
   "id": "d068974a",
   "metadata": {},
   "outputs": [
    {
     "name": "stdout",
     "output_type": "stream",
     "text": [
      "['AUTHORS:  \\nAmy Baker, Finance Chair, x345, abaker@ourcompany.com  \\nChris Donaldson, Accounting Dir., x621, cdonaldson@ourcompany.com  \\nErin Freeman, Sr. VP, x879, efreeman@ourcompany.com  ']\n"
     ]
    }
   ],
   "source": [
    "print(fi)"
   ]
  },
  {
   "cell_type": "code",
   "execution_count": 172,
   "id": "02c82e11",
   "metadata": {},
   "outputs": [
    {
     "data": {
      "text/plain": [
       "'AUTHORS:  \\nAmy Baker, Finance Chair, x345, abaker@ourcompany.com  \\nChris Donaldson, Accounting Dir., x621, cdonaldson@ourcompany.com  \\nErin Freeman, Sr. VP, x879, efreeman@ourcompany.com  '"
      ]
     },
     "execution_count": 172,
     "metadata": {},
     "output_type": "execute_result"
    }
   ],
   "source": [
    "''.join(fi)"
   ]
  },
  {
   "cell_type": "code",
   "execution_count": 190,
   "id": "834f24b5",
   "metadata": {},
   "outputs": [
    {
     "name": "stdout",
     "output_type": "stream",
     "text": [
      "Overwriting contacts.txt\n"
     ]
    }
   ],
   "source": [
    "%%writefile contacts.txt\n",
    "First_name, Last_name, Title, Extension, Email."
   ]
  },
  {
   "cell_type": "code",
   "execution_count": 191,
   "id": "17cd51fe",
   "metadata": {},
   "outputs": [],
   "source": [
    "ik=open('contacts.txt')"
   ]
  },
  {
   "cell_type": "code",
   "execution_count": 192,
   "id": "a2b0231b",
   "metadata": {},
   "outputs": [],
   "source": [
    "fields=[]"
   ]
  },
  {
   "cell_type": "code",
   "execution_count": 193,
   "id": "d4701f45",
   "metadata": {},
   "outputs": [],
   "source": [
    "o=ik.read()"
   ]
  },
  {
   "cell_type": "code",
   "execution_count": 195,
   "id": "e93a66a0",
   "metadata": {},
   "outputs": [
    {
     "data": {
      "text/plain": [
       "'First_name, Last_name, Title, Extension, Email.\\n'"
      ]
     },
     "execution_count": 195,
     "metadata": {},
     "output_type": "execute_result"
    }
   ],
   "source": [
    "str(o)"
   ]
  },
  {
   "cell_type": "code",
   "execution_count": 196,
   "id": "2c6d3a6d",
   "metadata": {},
   "outputs": [],
   "source": [
    "fields.append(o)"
   ]
  },
  {
   "cell_type": "code",
   "execution_count": 197,
   "id": "2ec86360",
   "metadata": {},
   "outputs": [
    {
     "data": {
      "text/plain": [
       "['First_name, Last_name, Title, Extension, Email.\\n']"
      ]
     },
     "execution_count": 197,
     "metadata": {},
     "output_type": "execute_result"
    }
   ],
   "source": [
    "fields"
   ]
  },
  {
   "cell_type": "code",
   "execution_count": 198,
   "id": "7d7e8f8e",
   "metadata": {},
   "outputs": [],
   "source": [
    "fields.append(fi)"
   ]
  },
  {
   "cell_type": "code",
   "execution_count": 199,
   "id": "4d6d9f30",
   "metadata": {},
   "outputs": [
    {
     "data": {
      "text/plain": [
       "['First_name, Last_name, Title, Extension, Email.\\n',\n",
       " ['AUTHORS:  \\nAmy Baker, Finance Chair, x345, abaker@ourcompany.com  \\nChris Donaldson, Accounting Dir., x621, cdonaldson@ourcompany.com  \\nErin Freeman, Sr. VP, x879, efreeman@ourcompany.com  ']]"
      ]
     },
     "execution_count": 199,
     "metadata": {},
     "output_type": "execute_result"
    }
   ],
   "source": [
    "fields"
   ]
  },
  {
   "cell_type": "code",
   "execution_count": 200,
   "id": "c9f69ac3",
   "metadata": {},
   "outputs": [],
   "source": [
    "import re"
   ]
  },
  {
   "cell_type": "code",
   "execution_count": 207,
   "id": "60e10e65",
   "metadata": {},
   "outputs": [],
   "source": [
    "co=''.join(fi)"
   ]
  },
  {
   "cell_type": "code",
   "execution_count": 209,
   "id": "ece84fdf",
   "metadata": {},
   "outputs": [
    {
     "data": {
      "text/plain": [
       "'AUTHORS:  \\nAmy Baker, Finance Chair, x345, abaker@ourcompany.com  \\nChris Donaldson, Accounting Dir., x621, cdonaldson@ourcompany.com  \\nErin Freeman, Sr. VP, x879, efreeman@ourcompany.com  '"
      ]
     },
     "execution_count": 209,
     "metadata": {},
     "output_type": "execute_result"
    }
   ],
   "source": [
    "co"
   ]
  },
  {
   "cell_type": "code",
   "execution_count": 266,
   "id": "fbdc0087",
   "metadata": {},
   "outputs": [],
   "source": [
    "ol=re.findall(r'\\w+@\\w+.\\w+', co)"
   ]
  },
  {
   "cell_type": "code",
   "execution_count": 267,
   "id": "431205b8",
   "metadata": {},
   "outputs": [
    {
     "data": {
      "text/plain": [
       "['abaker@ourcompany.com',\n",
       " 'cdonaldson@ourcompany.com',\n",
       " 'efreeman@ourcompany.com']"
      ]
     },
     "execution_count": 267,
     "metadata": {},
     "output_type": "execute_result"
    }
   ],
   "source": [
    "ol"
   ]
  },
  {
   "cell_type": "code",
   "execution_count": 277,
   "id": "9f77ab0d",
   "metadata": {},
   "outputs": [],
   "source": [
    "#SPACY"
   ]
  },
  {
   "cell_type": "code",
   "execution_count": 1,
   "id": "8bd600c3",
   "metadata": {},
   "outputs": [],
   "source": [
    "import spacy"
   ]
  },
  {
   "cell_type": "code",
   "execution_count": 49,
   "id": "2c36ed3e",
   "metadata": {},
   "outputs": [],
   "source": [
    "#nlp-model\n",
    "nlp= spacy.load('en')"
   ]
  },
  {
   "cell_type": "code",
   "execution_count": 52,
   "id": "f1deadc6",
   "metadata": {},
   "outputs": [],
   "source": [
    " doc = nlp(u'The Guy just kala too much d matter dey some how aje Lagos. okay oga mi Coca-Cola.')"
   ]
  },
  {
   "cell_type": "code",
   "execution_count": 53,
   "id": "65c3fbb0",
   "metadata": {},
   "outputs": [
    {
     "name": "stdout",
     "output_type": "stream",
     "text": [
      "DET The\n",
      "PROPN Guy\n",
      "ADV just\n",
      "VERB kala\n",
      "ADV too\n",
      "ADV much\n",
      "X d\n",
      "VERB matter\n",
      "VERB dey\n",
      "DET some\n",
      "ADV how\n",
      "NOUN aje\n",
      "PROPN Lagos\n",
      "PUNCT .\n",
      "INTJ okay\n",
      "NOUN oga\n",
      "ADP mi\n",
      "PROPN Coca\n",
      "PUNCT -\n",
      "PROPN Cola\n",
      "PUNCT .\n"
     ]
    }
   ],
   "source": [
    "for token in doc:\n",
    "    print(token.pos_,token.text)"
   ]
  },
  {
   "cell_type": "code",
   "execution_count": 324,
   "id": "e6a095d8",
   "metadata": {},
   "outputs": [
    {
     "data": {
      "text/plain": [
       "(Lagos, Coca-Cola)"
      ]
     },
     "execution_count": 324,
     "metadata": {},
     "output_type": "execute_result"
    }
   ],
   "source": [
    "doc.ents"
   ]
  },
  {
   "cell_type": "code",
   "execution_count": 335,
   "id": "00f1bf0b",
   "metadata": {},
   "outputs": [
    {
     "name": "stdout",
     "output_type": "stream",
     "text": [
      "Lagos\n",
      "GPE\n",
      "Countries, cities, states\n",
      "Coca-Cola\n",
      "ORG\n",
      "Companies, agencies, institutions, etc.\n"
     ]
    }
   ],
   "source": [
    "for i in doc.ents:\n",
    "    print(i)\n",
    "    print(i.label_)\n",
    "    print(spacy.explain(i.label_))"
   ]
  },
  {
   "cell_type": "code",
   "execution_count": 308,
   "id": "20dcca1b",
   "metadata": {},
   "outputs": [
    {
     "data": {
      "text/plain": [
       "57852"
      ]
     },
     "execution_count": 308,
     "metadata": {},
     "output_type": "execute_result"
    }
   ],
   "source": [
    "len(doc.vocab)"
   ]
  },
  {
   "cell_type": "code",
   "execution_count": 336,
   "id": "77908ab0",
   "metadata": {},
   "outputs": [],
   "source": [
    "#visualization"
   ]
  },
  {
   "cell_type": "code",
   "execution_count": 337,
   "id": "3d45dfdb",
   "metadata": {},
   "outputs": [],
   "source": [
    "from spacy import displacy"
   ]
  },
  {
   "cell_type": "code",
   "execution_count": 345,
   "id": "1f6dace8",
   "metadata": {},
   "outputs": [],
   "source": [
    "doc= nlp(u\"omo dat Samsung choke opor, almost 5million dollars for the Gucci bag. Rich people to dey cashout\")"
   ]
  },
  {
   "cell_type": "code",
   "execution_count": 347,
   "id": "b1956f1f",
   "metadata": {},
   "outputs": [
    {
     "data": {
      "text/html": [
       "<div class=\"entities\" style=\"line-height: 2.5\">omo dat \n",
       "<mark class=\"entity\" style=\"background: #7aecec; padding: 0.45em 0.6em; margin: 0 0.25em; line-height: 1; border-radius: 0.35em; box-decoration-break: clone; -webkit-box-decoration-break: clone\">\n",
       "    Samsung\n",
       "    <span style=\"font-size: 0.8em; font-weight: bold; line-height: 1; border-radius: 0.35em; text-transform: uppercase; vertical-align: middle; margin-left: 0.5rem\">ORG</span>\n",
       "</mark>\n",
       " choke opor, \n",
       "<mark class=\"entity\" style=\"background: #e4e7d2; padding: 0.45em 0.6em; margin: 0 0.25em; line-height: 1; border-radius: 0.35em; box-decoration-break: clone; -webkit-box-decoration-break: clone\">\n",
       "    almost 5million dollars\n",
       "    <span style=\"font-size: 0.8em; font-weight: bold; line-height: 1; border-radius: 0.35em; text-transform: uppercase; vertical-align: middle; margin-left: 0.5rem\">MONEY</span>\n",
       "</mark>\n",
       " for the \n",
       "<mark class=\"entity\" style=\"background: #7aecec; padding: 0.45em 0.6em; margin: 0 0.25em; line-height: 1; border-radius: 0.35em; box-decoration-break: clone; -webkit-box-decoration-break: clone\">\n",
       "    Gucci\n",
       "    <span style=\"font-size: 0.8em; font-weight: bold; line-height: 1; border-radius: 0.35em; text-transform: uppercase; vertical-align: middle; margin-left: 0.5rem\">ORG</span>\n",
       "</mark>\n",
       " bag. Rich people to dey cashout</div>"
      ],
      "text/plain": [
       "<IPython.core.display.HTML object>"
      ]
     },
     "metadata": {},
     "output_type": "display_data"
    }
   ],
   "source": [
    "displacy.render(doc,style='ent', jupyter=True, options={'distance':80})"
   ]
  },
  {
   "cell_type": "code",
   "execution_count": 2,
   "id": "f2d7c9c6",
   "metadata": {},
   "outputs": [],
   "source": [
    "#stemming"
   ]
  },
  {
   "cell_type": "code",
   "execution_count": 3,
   "id": "5eaca1fa",
   "metadata": {},
   "outputs": [
    {
     "name": "stderr",
     "output_type": "stream",
     "text": [
      "C:\\Users\\GTDNL\\anaconda3\\envs\\nlp_course\\lib\\site-packages\\sklearn\\utils\\validation.py:37: DeprecationWarning: distutils Version classes are deprecated. Use packaging.version instead.\n",
      "  LARGE_SPARSE_SUPPORTED = LooseVersion(scipy_version) >= '0.14.0'\n"
     ]
    }
   ],
   "source": [
    "import nltk"
   ]
  },
  {
   "cell_type": "code",
   "execution_count": 4,
   "id": "0ce80090",
   "metadata": {},
   "outputs": [],
   "source": [
    "from nltk.stem.porter import PorterStemmer"
   ]
  },
  {
   "cell_type": "code",
   "execution_count": 372,
   "id": "3a5f8250",
   "metadata": {},
   "outputs": [],
   "source": [
    "from nltk.stem.snowball import SnowballStemmer"
   ]
  },
  {
   "cell_type": "code",
   "execution_count": 373,
   "id": "62f7389d",
   "metadata": {},
   "outputs": [],
   "source": [
    "ps=PorterStemmer()"
   ]
  },
  {
   "cell_type": "code",
   "execution_count": 375,
   "id": "e9d5286d",
   "metadata": {},
   "outputs": [],
   "source": [
    "ss= SnowballStemmer(language='english')"
   ]
  },
  {
   "cell_type": "code",
   "execution_count": 376,
   "id": "afa7f08c",
   "metadata": {},
   "outputs": [],
   "source": [
    "words= ['run', 'runs', 'running', 'runners']"
   ]
  },
  {
   "cell_type": "code",
   "execution_count": 378,
   "id": "039f3f43",
   "metadata": {},
   "outputs": [
    {
     "name": "stdout",
     "output_type": "stream",
     "text": [
      "run\n",
      "run\n",
      "run\n",
      "runner\n"
     ]
    }
   ],
   "source": [
    "for i in words:\n",
    "    print(ps.stem(i))"
   ]
  },
  {
   "cell_type": "code",
   "execution_count": 5,
   "id": "01066e3e",
   "metadata": {},
   "outputs": [],
   "source": [
    "#lemmatization"
   ]
  },
  {
   "cell_type": "code",
   "execution_count": 1,
   "id": "f3823c30",
   "metadata": {},
   "outputs": [],
   "source": [
    "import spacy"
   ]
  },
  {
   "cell_type": "code",
   "execution_count": 9,
   "id": "4a728d9d",
   "metadata": {},
   "outputs": [],
   "source": [
    "nlp=spacy.load('en')"
   ]
  },
  {
   "cell_type": "code",
   "execution_count": 10,
   "id": "ed55f832",
   "metadata": {},
   "outputs": [],
   "source": [
    "doc=nlp('i am a runner running in a race because i love to run and i ran today')"
   ]
  },
  {
   "cell_type": "code",
   "execution_count": 11,
   "id": "1325dde4",
   "metadata": {},
   "outputs": [
    {
     "name": "stdout",
     "output_type": "stream",
     "text": [
      "i\n",
      "be\n",
      "a\n",
      "runner\n",
      "run\n",
      "in\n",
      "a\n",
      "race\n",
      "because\n",
      "i\n",
      "love\n",
      "to\n",
      "run\n",
      "and\n",
      "i\n",
      "run\n",
      "today\n"
     ]
    }
   ],
   "source": [
    "for words in doc:\n",
    "    print(words.lemma_)"
   ]
  },
  {
   "cell_type": "code",
   "execution_count": 15,
   "id": "0f76b920",
   "metadata": {},
   "outputs": [
    {
     "name": "stdout",
     "output_type": "stream",
     "text": [
      "{'but', 'out', 'else', 'whoever', 'had', 'except', 'might', 'using', 'how', 'were', 'less', 'during', 'thereby', 'name', 'until', 'fifty', 'i', 'indeed', 'three', 'between', 'whether', 'and', 'which', 'afterwards', 'everything', 'top', 'used', 'seeming', 'say', 'sixty', 'whole', 'ours', 'behind', 'enough', 'whereafter', 'there', 'up', 'because', 'even', 'made', 'although', 'wherein', 'is', 'already', 'seem', 'well', 'yourself', 'seems', 'somewhere', 'wherever', 'please', 'therefore', 'eleven', 'whereupon', 'still', 'nine', 'after', 'thus', 'this', 'together', 'under', 'in', 'nevertheless', 'whom', 'one', 'must', 'hereupon', 'two', 'here', 'over', 'him', 'some', 'alone', 'anyway', 'elsewhere', 'his', 'me', 'himself', 'of', 'not', 'go', 'those', 'whereby', 'would', 'third', 'full', 'off', 'whence', 'since', 'however', 'be', 'beyond', 'whatever', 'along', 'latter', 'someone', 'both', 'done', 'its', 'doing', 'five', 'ourselves', 'now', 'call', 'ever', 'if', 'nothing', 'only', 'whenever', 'mostly', 'whereas', 'give', 'namely', 'before', 'why', 'least', 'otherwise', 'quite', 'such', 'towards', 'we', 'never', 'above', 'next', 'others', 'you', 'due', 'though', 'bottom', 'serious', 'while', 'again', 'another', 'fifteen', 'may', 'hereafter', 'around', 'itself', 'by', 'who', 'an', 'neither', 'six', 'get', 'yet', 'herself', 'almost', 'four', 'sometimes', 'do', 'something', 'cannot', 'or', 'your', 'former', 'thru', 'show', 'nowhere', 'keep', 'he', 'the', 'has', 'forty', 'own', 'their', 'hence', 'our', 'these', 'back', 'so', 'does', 'as', 'seemed', 'through', 'down', 'whose', 'throughout', 'no', 'her', 'thence', 'can', 'yourselves', 'ca', 'various', 'side', 'it', 're', 'upon', 'been', 'onto', 'hers', 'at', 'moreover', 'often', 'themselves', 'without', 'a', 'perhaps', 'latterly', 'further', 'into', 'everywhere', 'once', 'on', 'myself', 'take', 'more', 'below', 'they', 'did', 'move', 'herein', 'becomes', 'each', 'first', 'somehow', 'for', 'among', 'ten', 'per', 'therein', 'to', 'rather', 'became', 'have', 'just', 'always', 'anything', 'few', 'should', 'then', 'being', 'am', 'noone', 'front', 'anyhow', 'formerly', 'could', 'my', 'she', 'when', 'will', 'anyone', 'empty', 'with', 'amount', 'than', 'same', 'from', 'all', 'last', 'nor', 'nobody', 'that', 'toward', 'none', 'part', 'much', 'thereupon', 'about', 'either', 'become', 'besides', 'make', 'mine', 'other', 'twelve', 'unless', 'very', 'where', 'whither', 'eight', 'within', 'everyone', 'anywhere', 'sometime', 'becoming', 'several', 'regarding', 'twenty', 'us', 'most', 'them', 'beforehand', 'thereafter', 'really', 'any', 'via', 'also', 'across', 'see', 'was', 'against', 'yours', 'hundred', 'meanwhile', 'what', 'put', 'beside', 'many', 'are', 'hereby', 'too', 'amongst', 'every'}\n"
     ]
    }
   ],
   "source": [
    "print(nlp.Defaults.stop_words)"
   ]
  },
  {
   "cell_type": "code",
   "execution_count": 16,
   "id": "efc6433e",
   "metadata": {},
   "outputs": [],
   "source": [
    "nlp.Defaults.stop_words.add('ilo')"
   ]
  },
  {
   "cell_type": "code",
   "execution_count": 19,
   "id": "c4423e2c",
   "metadata": {},
   "outputs": [],
   "source": [
    "nlp.vocab['ilo'].is_stop= True"
   ]
  },
  {
   "cell_type": "code",
   "execution_count": 21,
   "id": "eca2f261",
   "metadata": {},
   "outputs": [
    {
     "name": "stdout",
     "output_type": "stream",
     "text": [
      "True\n"
     ]
    }
   ],
   "source": [
    "if 'ilo' in nlp.Defaults.stop_words:\n",
    "    print(True)\n",
    "else:\n",
    "    false"
   ]
  },
  {
   "cell_type": "code",
   "execution_count": 2,
   "id": "bbafb8e4",
   "metadata": {},
   "outputs": [],
   "source": [
    "from spacy.matcher import Matcher"
   ]
  },
  {
   "cell_type": "code",
   "execution_count": 4,
   "id": "6a2eabf4",
   "metadata": {},
   "outputs": [],
   "source": [
    "nlp= spacy.load('en')"
   ]
  },
  {
   "cell_type": "code",
   "execution_count": 5,
   "id": "eeb71a19",
   "metadata": {},
   "outputs": [],
   "source": [
    "matcher = Matcher(nlp.vocab)"
   ]
  },
  {
   "cell_type": "code",
   "execution_count": 23,
   "id": "6179ce3a",
   "metadata": {},
   "outputs": [],
   "source": [
    "p1 = [{'IS_LOWER':True}]\n",
    "p2= [{'LOWER': 'solar'},{'IS_PUNCT':True},{'LOWER':'power'}]"
   ]
  },
  {
   "cell_type": "code",
   "execution_count": 24,
   "id": "1b8baa67",
   "metadata": {},
   "outputs": [],
   "source": [
    "matcher.add('sp',None,p1,p2)"
   ]
  },
  {
   "cell_type": "code",
   "execution_count": 11,
   "id": "53098cd1",
   "metadata": {},
   "outputs": [
    {
     "data": {
      "text/plain": [
       "<spacy.matcher.Matcher at 0x27d7afab2e8>"
      ]
     },
     "execution_count": 11,
     "metadata": {},
     "output_type": "execute_result"
    }
   ],
   "source": [
    "matcher"
   ]
  },
  {
   "cell_type": "code",
   "execution_count": 25,
   "id": "c65d859b",
   "metadata": {},
   "outputs": [],
   "source": [
    "doc=nlp(u'The solarpower is really really a solar-power. e really be solar for the power')"
   ]
  },
  {
   "cell_type": "code",
   "execution_count": 26,
   "id": "d586ce9d",
   "metadata": {},
   "outputs": [],
   "source": [
    "fm=matcher(doc)"
   ]
  },
  {
   "cell_type": "code",
   "execution_count": 27,
   "id": "7c722399",
   "metadata": {},
   "outputs": [
    {
     "name": "stdout",
     "output_type": "stream",
     "text": [
      "[(2814393156629967458, 1, 2), (2814393156629967458, 1, 2), (2814393156629967458, 2, 3), (2814393156629967458, 3, 4), (2814393156629967458, 4, 5), (2814393156629967458, 5, 6), (2814393156629967458, 6, 7), (2814393156629967458, 6, 9), (2814393156629967458, 6, 9), (2814393156629967458, 8, 9), (2814393156629967458, 10, 11), (2814393156629967458, 11, 12), (2814393156629967458, 12, 13), (2814393156629967458, 13, 14), (2814393156629967458, 14, 15), (2814393156629967458, 15, 16), (2814393156629967458, 16, 17)]\n"
     ]
    }
   ],
   "source": [
    "print(fm)"
   ]
  },
  {
   "cell_type": "code",
   "execution_count": 28,
   "id": "8d6a072d",
   "metadata": {},
   "outputs": [],
   "source": [
    "from spacy.matcher import PhraseMatcher"
   ]
  },
  {
   "cell_type": "code",
   "execution_count": 56,
   "id": "d0c62dcc",
   "metadata": {},
   "outputs": [],
   "source": [
    "matcher = PhraseMatcher(nlp.vocab)"
   ]
  },
  {
   "cell_type": "code",
   "execution_count": 62,
   "id": "4bf6799b",
   "metadata": {},
   "outputs": [],
   "source": [
    "with open('reaganomics.txt') as f:\n",
    "    doc3=nlp(f.read())"
   ]
  },
  {
   "cell_type": "code",
   "execution_count": 40,
   "id": "44ccce13",
   "metadata": {},
   "outputs": [],
   "source": [
    "p3=['voodoo','Economics','supply_side', 'main oga']"
   ]
  },
  {
   "cell_type": "code",
   "execution_count": 41,
   "id": "d631aea8",
   "metadata": {},
   "outputs": [],
   "source": [
    "p3=[nlp(i) for i in p3]"
   ]
  },
  {
   "cell_type": "code",
   "execution_count": 42,
   "id": "287ec7a6",
   "metadata": {},
   "outputs": [
    {
     "data": {
      "text/plain": [
       "[voodoo, Economics, supply_side, main oga]"
      ]
     },
     "execution_count": 42,
     "metadata": {},
     "output_type": "execute_result"
    }
   ],
   "source": [
    "p3"
   ]
  },
  {
   "cell_type": "code",
   "execution_count": null,
   "id": "92518a0a",
   "metadata": {},
   "outputs": [],
   "source": [
    "matcher.add('omo',None,*p3)"
   ]
  },
  {
   "cell_type": "code",
   "execution_count": 1,
   "id": "b70faa77",
   "metadata": {},
   "outputs": [],
   "source": [
    "#NER & POS"
   ]
  },
  {
   "cell_type": "code",
   "execution_count": 1,
   "id": "6f8e4e00",
   "metadata": {},
   "outputs": [],
   "source": [
    "import spacy"
   ]
  },
  {
   "cell_type": "code",
   "execution_count": 3,
   "id": "9fe3e074",
   "metadata": {},
   "outputs": [],
   "source": [
    "nlp= spacy.load('en')"
   ]
  },
  {
   "cell_type": "code",
   "execution_count": 4,
   "id": "144277e4",
   "metadata": {},
   "outputs": [],
   "source": [
    "from spacy import displacy"
   ]
  },
  {
   "cell_type": "code",
   "execution_count": 6,
   "id": "ff8b2411",
   "metadata": {},
   "outputs": [],
   "source": [
    "with open('peterrabbit.txt') as f:\n",
    "    doc=nlp(f.read())"
   ]
  },
  {
   "cell_type": "code",
   "execution_count": 9,
   "id": "211519bd",
   "metadata": {},
   "outputs": [
    {
     "data": {
      "text/plain": [
       "1258"
      ]
     },
     "execution_count": 9,
     "metadata": {},
     "output_type": "execute_result"
    }
   ],
   "source": [
    "len(doc)"
   ]
  },
  {
   "cell_type": "code",
   "execution_count": 17,
   "id": "3bd8e84f",
   "metadata": {},
   "outputs": [
    {
     "data": {
      "text/plain": [
       "<generator at 0x1272a6cb4c8>"
      ]
     },
     "execution_count": 17,
     "metadata": {},
     "output_type": "execute_result"
    }
   ],
   "source": [
    "doc.sents"
   ]
  },
  {
   "cell_type": "code",
   "execution_count": 130,
   "id": "e2b3f7f3",
   "metadata": {},
   "outputs": [],
   "source": [
    "i=list(doc.sents)"
   ]
  },
  {
   "cell_type": "code",
   "execution_count": 131,
   "id": "79e16471",
   "metadata": {},
   "outputs": [
    {
     "data": {
      "text/plain": [
       "56"
      ]
     },
     "execution_count": 131,
     "metadata": {},
     "output_type": "execute_result"
    }
   ],
   "source": [
    "len(i)"
   ]
  },
  {
   "cell_type": "code",
   "execution_count": 32,
   "id": "0cdc0064",
   "metadata": {},
   "outputs": [],
   "source": [
    "o=i[2]"
   ]
  },
  {
   "cell_type": "code",
   "execution_count": 61,
   "id": "bae8a07c",
   "metadata": {},
   "outputs": [
    {
     "name": "stdout",
     "output_type": "stream",
     "text": [
      "They       PRP        PRON                 pronoun, personal\n",
      "lived      VBD        VERB                 verb, past tense\n",
      "with       IN         ADP                  conjunction, subordinating or preposition\n",
      "their      PRP$       ADJ                  pronoun, possessive\n",
      "Mother     NNP        PROPN                noun, proper singular\n",
      "in         IN         ADP                  conjunction, subordinating or preposition\n",
      "a          DT         DET                  determiner\n",
      "sand       NN         NOUN                 noun, singular or mass\n",
      "-          HYPH       PUNCT                punctuation mark, hyphen\n",
      "bank       NN         NOUN                 noun, singular or mass\n",
      ",          ,          PUNCT                punctuation mark, comma\n",
      "underneath IN         ADP                  conjunction, subordinating or preposition\n",
      "the        DT         DET                  determiner\n",
      "root       NN         NOUN                 noun, singular or mass\n",
      "of         IN         ADP                  conjunction, subordinating or preposition\n",
      "a          DT         DET                  determiner\n",
      "\n",
      "                     SPACE                None\n",
      "very       RB         ADV                  adverb\n",
      "big        JJ         ADJ                  adjective\n",
      "fir        NN         NOUN                 noun, singular or mass\n",
      "-          HYPH       PUNCT                punctuation mark, hyphen\n",
      "tree       NN         NOUN                 noun, singular or mass\n",
      ".          .          PUNCT                punctuation mark, sentence closer\n",
      "\n",
      "\n",
      "         _SP        SPACE                None\n"
     ]
    }
   ],
   "source": [
    "for words in o:\n",
    "    print(f'{words.text:{10}} {words.tag_:{10}} {words.pos_:{20}} {spacy.explain(words.tag_)}')"
   ]
  },
  {
   "cell_type": "code",
   "execution_count": 85,
   "id": "3bb8dc70",
   "metadata": {},
   "outputs": [],
   "source": [
    "li = doc.count_by(spacy.attrs.POS)"
   ]
  },
  {
   "cell_type": "code",
   "execution_count": 86,
   "id": "4dc45713",
   "metadata": {},
   "outputs": [
    {
     "data": {
      "text/plain": [
       "{96: 174,\n",
       " 99: 182,\n",
       " 102: 99,\n",
       " 83: 83,\n",
       " 84: 127,\n",
       " 85: 75,\n",
       " 88: 61,\n",
       " 89: 90,\n",
       " 91: 176,\n",
       " 92: 8,\n",
       " 93: 36,\n",
       " 94: 72,\n",
       " 95: 75}"
      ]
     },
     "execution_count": 86,
     "metadata": {},
     "output_type": "execute_result"
    }
   ],
   "source": [
    "li"
   ]
  },
  {
   "cell_type": "code",
   "execution_count": 89,
   "id": "f026e520",
   "metadata": {},
   "outputs": [
    {
     "data": {
      "text/plain": [
       "'NOUN'"
      ]
     },
     "execution_count": 89,
     "metadata": {},
     "output_type": "execute_result"
    }
   ],
   "source": [
    "doc.vocab[91].text"
   ]
  },
  {
   "cell_type": "code",
   "execution_count": 102,
   "id": "106b618e",
   "metadata": {},
   "outputs": [],
   "source": [
    "import numpy as np"
   ]
  },
  {
   "cell_type": "code",
   "execution_count": 107,
   "id": "0250f87f",
   "metadata": {},
   "outputs": [
    {
     "name": "stdout",
     "output_type": "stream",
     "text": [
      "[174]\n",
      "[174, 182]\n",
      "[174, 182, 99]\n",
      "[174, 182, 99, 83]\n",
      "[174, 182, 99, 83, 127]\n",
      "[174, 182, 99, 83, 127, 75]\n",
      "[174, 182, 99, 83, 127, 75, 61]\n",
      "[174, 182, 99, 83, 127, 75, 61, 90]\n",
      "[174, 182, 99, 83, 127, 75, 61, 90, 176]\n",
      "[174, 182, 99, 83, 127, 75, 61, 90, 176, 8]\n",
      "[174, 182, 99, 83, 127, 75, 61, 90, 176, 8, 36]\n",
      "[174, 182, 99, 83, 127, 75, 61, 90, 176, 8, 36, 72]\n",
      "[174, 182, 99, 83, 127, 75, 61, 90, 176, 8, 36, 72, 75]\n"
     ]
    }
   ],
   "source": [
    "l=[]\n",
    "for k,v in li.items():\n",
    "    l.append(v)\n",
    "    print(l)"
   ]
  },
  {
   "cell_type": "code",
   "execution_count": 108,
   "id": "0451795a",
   "metadata": {},
   "outputs": [
    {
     "data": {
      "text/plain": [
       "[174, 182, 99, 83, 127, 75, 61, 90, 176, 8, 36, 72, 75]"
      ]
     },
     "execution_count": 108,
     "metadata": {},
     "output_type": "execute_result"
    }
   ],
   "source": [
    "l"
   ]
  },
  {
   "cell_type": "code",
   "execution_count": 110,
   "id": "e527b7f1",
   "metadata": {},
   "outputs": [],
   "source": [
    "ok=np.sum(l)"
   ]
  },
  {
   "cell_type": "code",
   "execution_count": 112,
   "id": "bd304c3c",
   "metadata": {},
   "outputs": [
    {
     "data": {
      "text/plain": [
       "13.990461049284578"
      ]
     },
     "execution_count": 112,
     "metadata": {},
     "output_type": "execute_result"
    }
   ],
   "source": [
    "(li[91]/ok)*100"
   ]
  },
  {
   "cell_type": "code",
   "execution_count": 114,
   "id": "c27ac1ad",
   "metadata": {},
   "outputs": [
    {
     "data": {
      "text/html": [
       "<svg xmlns=\"http://www.w3.org/2000/svg\" xmlns:xlink=\"http://www.w3.org/1999/xlink\" id=\"0\" class=\"displacy\" width=\"3550\" height=\"749.5\" style=\"max-width: none; height: 749.5px; color: #000000; background: #ffffff; font-family: Arial\">\n",
       "<text class=\"displacy-token\" fill=\"currentColor\" text-anchor=\"middle\" y=\"659.5\">\n",
       "    <tspan class=\"displacy-word\" fill=\"currentColor\" x=\"50\">They</tspan>\n",
       "    <tspan class=\"displacy-tag\" dy=\"2em\" fill=\"currentColor\" x=\"50\">PRON</tspan>\n",
       "</text>\n",
       "\n",
       "<text class=\"displacy-token\" fill=\"currentColor\" text-anchor=\"middle\" y=\"659.5\">\n",
       "    <tspan class=\"displacy-word\" fill=\"currentColor\" x=\"225\">lived</tspan>\n",
       "    <tspan class=\"displacy-tag\" dy=\"2em\" fill=\"currentColor\" x=\"225\">VERB</tspan>\n",
       "</text>\n",
       "\n",
       "<text class=\"displacy-token\" fill=\"currentColor\" text-anchor=\"middle\" y=\"659.5\">\n",
       "    <tspan class=\"displacy-word\" fill=\"currentColor\" x=\"400\">with</tspan>\n",
       "    <tspan class=\"displacy-tag\" dy=\"2em\" fill=\"currentColor\" x=\"400\">ADP</tspan>\n",
       "</text>\n",
       "\n",
       "<text class=\"displacy-token\" fill=\"currentColor\" text-anchor=\"middle\" y=\"659.5\">\n",
       "    <tspan class=\"displacy-word\" fill=\"currentColor\" x=\"575\">their</tspan>\n",
       "    <tspan class=\"displacy-tag\" dy=\"2em\" fill=\"currentColor\" x=\"575\">ADJ</tspan>\n",
       "</text>\n",
       "\n",
       "<text class=\"displacy-token\" fill=\"currentColor\" text-anchor=\"middle\" y=\"659.5\">\n",
       "    <tspan class=\"displacy-word\" fill=\"currentColor\" x=\"750\">Mother</tspan>\n",
       "    <tspan class=\"displacy-tag\" dy=\"2em\" fill=\"currentColor\" x=\"750\">PROPN</tspan>\n",
       "</text>\n",
       "\n",
       "<text class=\"displacy-token\" fill=\"currentColor\" text-anchor=\"middle\" y=\"659.5\">\n",
       "    <tspan class=\"displacy-word\" fill=\"currentColor\" x=\"925\">in</tspan>\n",
       "    <tspan class=\"displacy-tag\" dy=\"2em\" fill=\"currentColor\" x=\"925\">ADP</tspan>\n",
       "</text>\n",
       "\n",
       "<text class=\"displacy-token\" fill=\"currentColor\" text-anchor=\"middle\" y=\"659.5\">\n",
       "    <tspan class=\"displacy-word\" fill=\"currentColor\" x=\"1100\">a</tspan>\n",
       "    <tspan class=\"displacy-tag\" dy=\"2em\" fill=\"currentColor\" x=\"1100\">DET</tspan>\n",
       "</text>\n",
       "\n",
       "<text class=\"displacy-token\" fill=\"currentColor\" text-anchor=\"middle\" y=\"659.5\">\n",
       "    <tspan class=\"displacy-word\" fill=\"currentColor\" x=\"1275\">sand-</tspan>\n",
       "    <tspan class=\"displacy-tag\" dy=\"2em\" fill=\"currentColor\" x=\"1275\">NOUN</tspan>\n",
       "</text>\n",
       "\n",
       "<text class=\"displacy-token\" fill=\"currentColor\" text-anchor=\"middle\" y=\"659.5\">\n",
       "    <tspan class=\"displacy-word\" fill=\"currentColor\" x=\"1450\">bank,</tspan>\n",
       "    <tspan class=\"displacy-tag\" dy=\"2em\" fill=\"currentColor\" x=\"1450\">NOUN</tspan>\n",
       "</text>\n",
       "\n",
       "<text class=\"displacy-token\" fill=\"currentColor\" text-anchor=\"middle\" y=\"659.5\">\n",
       "    <tspan class=\"displacy-word\" fill=\"currentColor\" x=\"1625\">underneath</tspan>\n",
       "    <tspan class=\"displacy-tag\" dy=\"2em\" fill=\"currentColor\" x=\"1625\">ADP</tspan>\n",
       "</text>\n",
       "\n",
       "<text class=\"displacy-token\" fill=\"currentColor\" text-anchor=\"middle\" y=\"659.5\">\n",
       "    <tspan class=\"displacy-word\" fill=\"currentColor\" x=\"1800\">the</tspan>\n",
       "    <tspan class=\"displacy-tag\" dy=\"2em\" fill=\"currentColor\" x=\"1800\">DET</tspan>\n",
       "</text>\n",
       "\n",
       "<text class=\"displacy-token\" fill=\"currentColor\" text-anchor=\"middle\" y=\"659.5\">\n",
       "    <tspan class=\"displacy-word\" fill=\"currentColor\" x=\"1975\">root</tspan>\n",
       "    <tspan class=\"displacy-tag\" dy=\"2em\" fill=\"currentColor\" x=\"1975\">NOUN</tspan>\n",
       "</text>\n",
       "\n",
       "<text class=\"displacy-token\" fill=\"currentColor\" text-anchor=\"middle\" y=\"659.5\">\n",
       "    <tspan class=\"displacy-word\" fill=\"currentColor\" x=\"2150\">of</tspan>\n",
       "    <tspan class=\"displacy-tag\" dy=\"2em\" fill=\"currentColor\" x=\"2150\">ADP</tspan>\n",
       "</text>\n",
       "\n",
       "<text class=\"displacy-token\" fill=\"currentColor\" text-anchor=\"middle\" y=\"659.5\">\n",
       "    <tspan class=\"displacy-word\" fill=\"currentColor\" x=\"2325\">a</tspan>\n",
       "    <tspan class=\"displacy-tag\" dy=\"2em\" fill=\"currentColor\" x=\"2325\">DET</tspan>\n",
       "</text>\n",
       "\n",
       "<text class=\"displacy-token\" fill=\"currentColor\" text-anchor=\"middle\" y=\"659.5\">\n",
       "    <tspan class=\"displacy-word\" fill=\"currentColor\" x=\"2500\">\n",
       "</tspan>\n",
       "    <tspan class=\"displacy-tag\" dy=\"2em\" fill=\"currentColor\" x=\"2500\"></tspan>\n",
       "</text>\n",
       "\n",
       "<text class=\"displacy-token\" fill=\"currentColor\" text-anchor=\"middle\" y=\"659.5\">\n",
       "    <tspan class=\"displacy-word\" fill=\"currentColor\" x=\"2675\">very</tspan>\n",
       "    <tspan class=\"displacy-tag\" dy=\"2em\" fill=\"currentColor\" x=\"2675\">ADV</tspan>\n",
       "</text>\n",
       "\n",
       "<text class=\"displacy-token\" fill=\"currentColor\" text-anchor=\"middle\" y=\"659.5\">\n",
       "    <tspan class=\"displacy-word\" fill=\"currentColor\" x=\"2850\">big</tspan>\n",
       "    <tspan class=\"displacy-tag\" dy=\"2em\" fill=\"currentColor\" x=\"2850\">ADJ</tspan>\n",
       "</text>\n",
       "\n",
       "<text class=\"displacy-token\" fill=\"currentColor\" text-anchor=\"middle\" y=\"659.5\">\n",
       "    <tspan class=\"displacy-word\" fill=\"currentColor\" x=\"3025\">fir-</tspan>\n",
       "    <tspan class=\"displacy-tag\" dy=\"2em\" fill=\"currentColor\" x=\"3025\">NOUN</tspan>\n",
       "</text>\n",
       "\n",
       "<text class=\"displacy-token\" fill=\"currentColor\" text-anchor=\"middle\" y=\"659.5\">\n",
       "    <tspan class=\"displacy-word\" fill=\"currentColor\" x=\"3200\">tree.</tspan>\n",
       "    <tspan class=\"displacy-tag\" dy=\"2em\" fill=\"currentColor\" x=\"3200\">NOUN</tspan>\n",
       "</text>\n",
       "\n",
       "<text class=\"displacy-token\" fill=\"currentColor\" text-anchor=\"middle\" y=\"659.5\">\n",
       "    <tspan class=\"displacy-word\" fill=\"currentColor\" x=\"3375\">\n",
       "\n",
       "</tspan>\n",
       "    <tspan class=\"displacy-tag\" dy=\"2em\" fill=\"currentColor\" x=\"3375\">SPACE</tspan>\n",
       "</text>\n",
       "\n",
       "<g class=\"displacy-arrow\">\n",
       "    <path class=\"displacy-arc\" id=\"arrow-0-0\" stroke-width=\"2px\" d=\"M70,614.5 C70,527.0 195.0,527.0 195.0,614.5\" fill=\"none\" stroke=\"currentColor\"/>\n",
       "    <text dy=\"1.25em\" style=\"font-size: 0.8em; letter-spacing: 1px\">\n",
       "        <textPath xlink:href=\"#arrow-0-0\" class=\"displacy-label\" startOffset=\"50%\" fill=\"currentColor\" text-anchor=\"middle\">nsubj</textPath>\n",
       "    </text>\n",
       "    <path class=\"displacy-arrowhead\" d=\"M70,616.5 L62,604.5 78,604.5\" fill=\"currentColor\"/>\n",
       "</g>\n",
       "\n",
       "<g class=\"displacy-arrow\">\n",
       "    <path class=\"displacy-arc\" id=\"arrow-0-1\" stroke-width=\"2px\" d=\"M245,614.5 C245,527.0 370.0,527.0 370.0,614.5\" fill=\"none\" stroke=\"currentColor\"/>\n",
       "    <text dy=\"1.25em\" style=\"font-size: 0.8em; letter-spacing: 1px\">\n",
       "        <textPath xlink:href=\"#arrow-0-1\" class=\"displacy-label\" startOffset=\"50%\" fill=\"currentColor\" text-anchor=\"middle\">prep</textPath>\n",
       "    </text>\n",
       "    <path class=\"displacy-arrowhead\" d=\"M370.0,616.5 L378.0,604.5 362.0,604.5\" fill=\"currentColor\"/>\n",
       "</g>\n",
       "\n",
       "<g class=\"displacy-arrow\">\n",
       "    <path class=\"displacy-arc\" id=\"arrow-0-2\" stroke-width=\"2px\" d=\"M595,614.5 C595,527.0 720.0,527.0 720.0,614.5\" fill=\"none\" stroke=\"currentColor\"/>\n",
       "    <text dy=\"1.25em\" style=\"font-size: 0.8em; letter-spacing: 1px\">\n",
       "        <textPath xlink:href=\"#arrow-0-2\" class=\"displacy-label\" startOffset=\"50%\" fill=\"currentColor\" text-anchor=\"middle\">poss</textPath>\n",
       "    </text>\n",
       "    <path class=\"displacy-arrowhead\" d=\"M595,616.5 L587,604.5 603,604.5\" fill=\"currentColor\"/>\n",
       "</g>\n",
       "\n",
       "<g class=\"displacy-arrow\">\n",
       "    <path class=\"displacy-arc\" id=\"arrow-0-3\" stroke-width=\"2px\" d=\"M420,614.5 C420,439.5 725.0,439.5 725.0,614.5\" fill=\"none\" stroke=\"currentColor\"/>\n",
       "    <text dy=\"1.25em\" style=\"font-size: 0.8em; letter-spacing: 1px\">\n",
       "        <textPath xlink:href=\"#arrow-0-3\" class=\"displacy-label\" startOffset=\"50%\" fill=\"currentColor\" text-anchor=\"middle\">pobj</textPath>\n",
       "    </text>\n",
       "    <path class=\"displacy-arrowhead\" d=\"M725.0,616.5 L733.0,604.5 717.0,604.5\" fill=\"currentColor\"/>\n",
       "</g>\n",
       "\n",
       "<g class=\"displacy-arrow\">\n",
       "    <path class=\"displacy-arc\" id=\"arrow-0-4\" stroke-width=\"2px\" d=\"M245,614.5 C245,264.5 910.0,264.5 910.0,614.5\" fill=\"none\" stroke=\"currentColor\"/>\n",
       "    <text dy=\"1.25em\" style=\"font-size: 0.8em; letter-spacing: 1px\">\n",
       "        <textPath xlink:href=\"#arrow-0-4\" class=\"displacy-label\" startOffset=\"50%\" fill=\"currentColor\" text-anchor=\"middle\">prep</textPath>\n",
       "    </text>\n",
       "    <path class=\"displacy-arrowhead\" d=\"M910.0,616.5 L918.0,604.5 902.0,604.5\" fill=\"currentColor\"/>\n",
       "</g>\n",
       "\n",
       "<g class=\"displacy-arrow\">\n",
       "    <path class=\"displacy-arc\" id=\"arrow-0-5\" stroke-width=\"2px\" d=\"M1120,614.5 C1120,439.5 1425.0,439.5 1425.0,614.5\" fill=\"none\" stroke=\"currentColor\"/>\n",
       "    <text dy=\"1.25em\" style=\"font-size: 0.8em; letter-spacing: 1px\">\n",
       "        <textPath xlink:href=\"#arrow-0-5\" class=\"displacy-label\" startOffset=\"50%\" fill=\"currentColor\" text-anchor=\"middle\">det</textPath>\n",
       "    </text>\n",
       "    <path class=\"displacy-arrowhead\" d=\"M1120,616.5 L1112,604.5 1128,604.5\" fill=\"currentColor\"/>\n",
       "</g>\n",
       "\n",
       "<g class=\"displacy-arrow\">\n",
       "    <path class=\"displacy-arc\" id=\"arrow-0-6\" stroke-width=\"2px\" d=\"M1295,614.5 C1295,527.0 1420.0,527.0 1420.0,614.5\" fill=\"none\" stroke=\"currentColor\"/>\n",
       "    <text dy=\"1.25em\" style=\"font-size: 0.8em; letter-spacing: 1px\">\n",
       "        <textPath xlink:href=\"#arrow-0-6\" class=\"displacy-label\" startOffset=\"50%\" fill=\"currentColor\" text-anchor=\"middle\">compound</textPath>\n",
       "    </text>\n",
       "    <path class=\"displacy-arrowhead\" d=\"M1295,616.5 L1287,604.5 1303,604.5\" fill=\"currentColor\"/>\n",
       "</g>\n",
       "\n",
       "<g class=\"displacy-arrow\">\n",
       "    <path class=\"displacy-arc\" id=\"arrow-0-7\" stroke-width=\"2px\" d=\"M945,614.5 C945,352.0 1430.0,352.0 1430.0,614.5\" fill=\"none\" stroke=\"currentColor\"/>\n",
       "    <text dy=\"1.25em\" style=\"font-size: 0.8em; letter-spacing: 1px\">\n",
       "        <textPath xlink:href=\"#arrow-0-7\" class=\"displacy-label\" startOffset=\"50%\" fill=\"currentColor\" text-anchor=\"middle\">pobj</textPath>\n",
       "    </text>\n",
       "    <path class=\"displacy-arrowhead\" d=\"M1430.0,616.5 L1438.0,604.5 1422.0,604.5\" fill=\"currentColor\"/>\n",
       "</g>\n",
       "\n",
       "<g class=\"displacy-arrow\">\n",
       "    <path class=\"displacy-arc\" id=\"arrow-0-8\" stroke-width=\"2px\" d=\"M245,614.5 C245,89.5 1620.0,89.5 1620.0,614.5\" fill=\"none\" stroke=\"currentColor\"/>\n",
       "    <text dy=\"1.25em\" style=\"font-size: 0.8em; letter-spacing: 1px\">\n",
       "        <textPath xlink:href=\"#arrow-0-8\" class=\"displacy-label\" startOffset=\"50%\" fill=\"currentColor\" text-anchor=\"middle\">prep</textPath>\n",
       "    </text>\n",
       "    <path class=\"displacy-arrowhead\" d=\"M1620.0,616.5 L1628.0,604.5 1612.0,604.5\" fill=\"currentColor\"/>\n",
       "</g>\n",
       "\n",
       "<g class=\"displacy-arrow\">\n",
       "    <path class=\"displacy-arc\" id=\"arrow-0-9\" stroke-width=\"2px\" d=\"M1820,614.5 C1820,527.0 1945.0,527.0 1945.0,614.5\" fill=\"none\" stroke=\"currentColor\"/>\n",
       "    <text dy=\"1.25em\" style=\"font-size: 0.8em; letter-spacing: 1px\">\n",
       "        <textPath xlink:href=\"#arrow-0-9\" class=\"displacy-label\" startOffset=\"50%\" fill=\"currentColor\" text-anchor=\"middle\">det</textPath>\n",
       "    </text>\n",
       "    <path class=\"displacy-arrowhead\" d=\"M1820,616.5 L1812,604.5 1828,604.5\" fill=\"currentColor\"/>\n",
       "</g>\n",
       "\n",
       "<g class=\"displacy-arrow\">\n",
       "    <path class=\"displacy-arc\" id=\"arrow-0-10\" stroke-width=\"2px\" d=\"M1645,614.5 C1645,439.5 1950.0,439.5 1950.0,614.5\" fill=\"none\" stroke=\"currentColor\"/>\n",
       "    <text dy=\"1.25em\" style=\"font-size: 0.8em; letter-spacing: 1px\">\n",
       "        <textPath xlink:href=\"#arrow-0-10\" class=\"displacy-label\" startOffset=\"50%\" fill=\"currentColor\" text-anchor=\"middle\">pobj</textPath>\n",
       "    </text>\n",
       "    <path class=\"displacy-arrowhead\" d=\"M1950.0,616.5 L1958.0,604.5 1942.0,604.5\" fill=\"currentColor\"/>\n",
       "</g>\n",
       "\n",
       "<g class=\"displacy-arrow\">\n",
       "    <path class=\"displacy-arc\" id=\"arrow-0-11\" stroke-width=\"2px\" d=\"M1995,614.5 C1995,527.0 2120.0,527.0 2120.0,614.5\" fill=\"none\" stroke=\"currentColor\"/>\n",
       "    <text dy=\"1.25em\" style=\"font-size: 0.8em; letter-spacing: 1px\">\n",
       "        <textPath xlink:href=\"#arrow-0-11\" class=\"displacy-label\" startOffset=\"50%\" fill=\"currentColor\" text-anchor=\"middle\">prep</textPath>\n",
       "    </text>\n",
       "    <path class=\"displacy-arrowhead\" d=\"M2120.0,616.5 L2128.0,604.5 2112.0,604.5\" fill=\"currentColor\"/>\n",
       "</g>\n",
       "\n",
       "<g class=\"displacy-arrow\">\n",
       "    <path class=\"displacy-arc\" id=\"arrow-0-12\" stroke-width=\"2px\" d=\"M2345,614.5 C2345,177.0 3190.0,177.0 3190.0,614.5\" fill=\"none\" stroke=\"currentColor\"/>\n",
       "    <text dy=\"1.25em\" style=\"font-size: 0.8em; letter-spacing: 1px\">\n",
       "        <textPath xlink:href=\"#arrow-0-12\" class=\"displacy-label\" startOffset=\"50%\" fill=\"currentColor\" text-anchor=\"middle\">det</textPath>\n",
       "    </text>\n",
       "    <path class=\"displacy-arrowhead\" d=\"M2345,616.5 L2337,604.5 2353,604.5\" fill=\"currentColor\"/>\n",
       "</g>\n",
       "\n",
       "<g class=\"displacy-arrow\">\n",
       "    <path class=\"displacy-arc\" id=\"arrow-0-13\" stroke-width=\"2px\" d=\"M2345,614.5 C2345,527.0 2470.0,527.0 2470.0,614.5\" fill=\"none\" stroke=\"currentColor\"/>\n",
       "    <text dy=\"1.25em\" style=\"font-size: 0.8em; letter-spacing: 1px\">\n",
       "        <textPath xlink:href=\"#arrow-0-13\" class=\"displacy-label\" startOffset=\"50%\" fill=\"currentColor\" text-anchor=\"middle\"></textPath>\n",
       "    </text>\n",
       "    <path class=\"displacy-arrowhead\" d=\"M2470.0,616.5 L2478.0,604.5 2462.0,604.5\" fill=\"currentColor\"/>\n",
       "</g>\n",
       "\n",
       "<g class=\"displacy-arrow\">\n",
       "    <path class=\"displacy-arc\" id=\"arrow-0-14\" stroke-width=\"2px\" d=\"M2695,614.5 C2695,527.0 2820.0,527.0 2820.0,614.5\" fill=\"none\" stroke=\"currentColor\"/>\n",
       "    <text dy=\"1.25em\" style=\"font-size: 0.8em; letter-spacing: 1px\">\n",
       "        <textPath xlink:href=\"#arrow-0-14\" class=\"displacy-label\" startOffset=\"50%\" fill=\"currentColor\" text-anchor=\"middle\">advmod</textPath>\n",
       "    </text>\n",
       "    <path class=\"displacy-arrowhead\" d=\"M2695,616.5 L2687,604.5 2703,604.5\" fill=\"currentColor\"/>\n",
       "</g>\n",
       "\n",
       "<g class=\"displacy-arrow\">\n",
       "    <path class=\"displacy-arc\" id=\"arrow-0-15\" stroke-width=\"2px\" d=\"M2870,614.5 C2870,439.5 3175.0,439.5 3175.0,614.5\" fill=\"none\" stroke=\"currentColor\"/>\n",
       "    <text dy=\"1.25em\" style=\"font-size: 0.8em; letter-spacing: 1px\">\n",
       "        <textPath xlink:href=\"#arrow-0-15\" class=\"displacy-label\" startOffset=\"50%\" fill=\"currentColor\" text-anchor=\"middle\">amod</textPath>\n",
       "    </text>\n",
       "    <path class=\"displacy-arrowhead\" d=\"M2870,616.5 L2862,604.5 2878,604.5\" fill=\"currentColor\"/>\n",
       "</g>\n",
       "\n",
       "<g class=\"displacy-arrow\">\n",
       "    <path class=\"displacy-arc\" id=\"arrow-0-16\" stroke-width=\"2px\" d=\"M3045,614.5 C3045,527.0 3170.0,527.0 3170.0,614.5\" fill=\"none\" stroke=\"currentColor\"/>\n",
       "    <text dy=\"1.25em\" style=\"font-size: 0.8em; letter-spacing: 1px\">\n",
       "        <textPath xlink:href=\"#arrow-0-16\" class=\"displacy-label\" startOffset=\"50%\" fill=\"currentColor\" text-anchor=\"middle\">compound</textPath>\n",
       "    </text>\n",
       "    <path class=\"displacy-arrowhead\" d=\"M3045,616.5 L3037,604.5 3053,604.5\" fill=\"currentColor\"/>\n",
       "</g>\n",
       "\n",
       "<g class=\"displacy-arrow\">\n",
       "    <path class=\"displacy-arc\" id=\"arrow-0-17\" stroke-width=\"2px\" d=\"M245,614.5 C245,2.0 3200.0,2.0 3200.0,614.5\" fill=\"none\" stroke=\"currentColor\"/>\n",
       "    <text dy=\"1.25em\" style=\"font-size: 0.8em; letter-spacing: 1px\">\n",
       "        <textPath xlink:href=\"#arrow-0-17\" class=\"displacy-label\" startOffset=\"50%\" fill=\"currentColor\" text-anchor=\"middle\">punct</textPath>\n",
       "    </text>\n",
       "    <path class=\"displacy-arrowhead\" d=\"M3200.0,616.5 L3208.0,604.5 3192.0,604.5\" fill=\"currentColor\"/>\n",
       "</g>\n",
       "\n",
       "<g class=\"displacy-arrow\">\n",
       "    <path class=\"displacy-arc\" id=\"arrow-0-18\" stroke-width=\"2px\" d=\"M3220,614.5 C3220,527.0 3345.0,527.0 3345.0,614.5\" fill=\"none\" stroke=\"currentColor\"/>\n",
       "    <text dy=\"1.25em\" style=\"font-size: 0.8em; letter-spacing: 1px\">\n",
       "        <textPath xlink:href=\"#arrow-0-18\" class=\"displacy-label\" startOffset=\"50%\" fill=\"currentColor\" text-anchor=\"middle\"></textPath>\n",
       "    </text>\n",
       "    <path class=\"displacy-arrowhead\" d=\"M3345.0,616.5 L3353.0,604.5 3337.0,604.5\" fill=\"currentColor\"/>\n",
       "</g>\n",
       "</svg>"
      ],
      "text/plain": [
       "<IPython.core.display.HTML object>"
      ]
     },
     "metadata": {},
     "output_type": "display_data"
    }
   ],
   "source": [
    "displacy.render(o,jupyter=True)"
   ]
  },
  {
   "cell_type": "code",
   "execution_count": 135,
   "id": "e38f270e",
   "metadata": {},
   "outputs": [
    {
     "data": {
      "text/plain": [
       "Beatrix Potter"
      ]
     },
     "execution_count": 135,
     "metadata": {},
     "output_type": "execute_result"
    }
   ],
   "source": [
    "doc.ents[1]"
   ]
  },
  {
   "cell_type": "code",
   "execution_count": 128,
   "id": "bb9c5170",
   "metadata": {},
   "outputs": [
    {
     "name": "stdout",
     "output_type": "stream",
     "text": [
      "The Tale of Peter Rabbit\n",
      "Beatrix Potter\n"
     ]
    }
   ],
   "source": [
    "for i in doc.ents[0],doc.ents[1]:\n",
    "    print(i)"
   ]
  },
  {
   "cell_type": "code",
   "execution_count": 136,
   "id": "5ec77572",
   "metadata": {},
   "outputs": [],
   "source": [
    "i=list(doc.sents)\n",
    "k=i[0]        "
   ]
  },
  {
   "cell_type": "code",
   "execution_count": 137,
   "id": "f114caab",
   "metadata": {},
   "outputs": [
    {
     "data": {
      "text/html": [
       "<div class=\"entities\" style=\"line-height: 2.5\">\n",
       "<mark class=\"entity\" style=\"background: #f0d0ff; padding: 0.45em 0.6em; margin: 0 0.25em; line-height: 1; border-radius: 0.35em; box-decoration-break: clone; -webkit-box-decoration-break: clone\">\n",
       "    The Tale of Peter Rabbit\n",
       "    <span style=\"font-size: 0.8em; font-weight: bold; line-height: 1; border-radius: 0.35em; text-transform: uppercase; vertical-align: middle; margin-left: 0.5rem\">WORK_OF_ART</span>\n",
       "</mark>\n",
       ", by \n",
       "<mark class=\"entity\" style=\"background: #aa9cfc; padding: 0.45em 0.6em; margin: 0 0.25em; line-height: 1; border-radius: 0.35em; box-decoration-break: clone; -webkit-box-decoration-break: clone\">\n",
       "    Beatrix Potter\n",
       "    <span style=\"font-size: 0.8em; font-weight: bold; line-height: 1; border-radius: 0.35em; text-transform: uppercase; vertical-align: middle; margin-left: 0.5rem\">PERSON</span>\n",
       "</mark>\n",
       " (\n",
       "<mark class=\"entity\" style=\"background: #bfe1d9; padding: 0.45em 0.6em; margin: 0 0.25em; line-height: 1; border-radius: 0.35em; box-decoration-break: clone; -webkit-box-decoration-break: clone\">\n",
       "    1902\n",
       "    <span style=\"font-size: 0.8em; font-weight: bold; line-height: 1; border-radius: 0.35em; text-transform: uppercase; vertical-align: middle; margin-left: 0.5rem\">DATE</span>\n",
       "</mark>\n",
       ").\n",
       "\n",
       "</div>"
      ],
      "text/plain": [
       "<IPython.core.display.HTML object>"
      ]
     },
     "metadata": {},
     "output_type": "display_data"
    }
   ],
   "source": [
    "displacy.render(k,style='ent',jupyter=True)"
   ]
  },
  {
   "cell_type": "markdown",
   "id": "5ccc5f18",
   "metadata": {},
   "source": [
    " Nlp Text Classifier Project"
   ]
  },
  {
   "cell_type": "code",
   "execution_count": 2,
   "id": "5f40a533",
   "metadata": {},
   "outputs": [],
   "source": [
    "import numpy as np\n",
    "import pandas as pd"
   ]
  },
  {
   "cell_type": "code",
   "execution_count": 4,
   "id": "41cb602c",
   "metadata": {},
   "outputs": [],
   "source": [
    "df=pd.read_csv('smsspamcollection.tsv',sep='\\t')"
   ]
  },
  {
   "cell_type": "code",
   "execution_count": 5,
   "id": "10dbcae0",
   "metadata": {},
   "outputs": [
    {
     "data": {
      "text/html": [
       "<div>\n",
       "<style scoped>\n",
       "    .dataframe tbody tr th:only-of-type {\n",
       "        vertical-align: middle;\n",
       "    }\n",
       "\n",
       "    .dataframe tbody tr th {\n",
       "        vertical-align: top;\n",
       "    }\n",
       "\n",
       "    .dataframe thead th {\n",
       "        text-align: right;\n",
       "    }\n",
       "</style>\n",
       "<table border=\"1\" class=\"dataframe\">\n",
       "  <thead>\n",
       "    <tr style=\"text-align: right;\">\n",
       "      <th></th>\n",
       "      <th>label</th>\n",
       "      <th>message</th>\n",
       "      <th>length</th>\n",
       "      <th>punct</th>\n",
       "    </tr>\n",
       "  </thead>\n",
       "  <tbody>\n",
       "    <tr>\n",
       "      <th>0</th>\n",
       "      <td>ham</td>\n",
       "      <td>Go until jurong point, crazy.. Available only ...</td>\n",
       "      <td>111</td>\n",
       "      <td>9</td>\n",
       "    </tr>\n",
       "    <tr>\n",
       "      <th>1</th>\n",
       "      <td>ham</td>\n",
       "      <td>Ok lar... Joking wif u oni...</td>\n",
       "      <td>29</td>\n",
       "      <td>6</td>\n",
       "    </tr>\n",
       "    <tr>\n",
       "      <th>2</th>\n",
       "      <td>spam</td>\n",
       "      <td>Free entry in 2 a wkly comp to win FA Cup fina...</td>\n",
       "      <td>155</td>\n",
       "      <td>6</td>\n",
       "    </tr>\n",
       "    <tr>\n",
       "      <th>3</th>\n",
       "      <td>ham</td>\n",
       "      <td>U dun say so early hor... U c already then say...</td>\n",
       "      <td>49</td>\n",
       "      <td>6</td>\n",
       "    </tr>\n",
       "    <tr>\n",
       "      <th>4</th>\n",
       "      <td>ham</td>\n",
       "      <td>Nah I don't think he goes to usf, he lives aro...</td>\n",
       "      <td>61</td>\n",
       "      <td>2</td>\n",
       "    </tr>\n",
       "  </tbody>\n",
       "</table>\n",
       "</div>"
      ],
      "text/plain": [
       "  label                                            message  length  punct\n",
       "0   ham  Go until jurong point, crazy.. Available only ...     111      9\n",
       "1   ham                      Ok lar... Joking wif u oni...      29      6\n",
       "2  spam  Free entry in 2 a wkly comp to win FA Cup fina...     155      6\n",
       "3   ham  U dun say so early hor... U c already then say...      49      6\n",
       "4   ham  Nah I don't think he goes to usf, he lives aro...      61      2"
      ]
     },
     "execution_count": 5,
     "metadata": {},
     "output_type": "execute_result"
    }
   ],
   "source": [
    "df.head()"
   ]
  },
  {
   "cell_type": "code",
   "execution_count": 13,
   "id": "e52c5dfd",
   "metadata": {},
   "outputs": [],
   "source": [
    "X=df['message']\n",
    "y=df['label']"
   ]
  },
  {
   "cell_type": "code",
   "execution_count": 14,
   "id": "e700c076",
   "metadata": {},
   "outputs": [],
   "source": [
    "from sklearn.model_selection import train_test_split"
   ]
  },
  {
   "cell_type": "code",
   "execution_count": 15,
   "id": "81e6cae9",
   "metadata": {},
   "outputs": [],
   "source": [
    "X_train, X_test, y_train, y_test = train_test_split(X, y, test_size=0.30, random_state=42)"
   ]
  },
  {
   "cell_type": "code",
   "execution_count": 16,
   "id": "1d8d190c",
   "metadata": {},
   "outputs": [],
   "source": [
    "from sklearn.feature_extraction.text import CountVectorizer"
   ]
  },
  {
   "cell_type": "code",
   "execution_count": 17,
   "id": "a31b0797",
   "metadata": {},
   "outputs": [],
   "source": [
    "cu=CountVectorizer()"
   ]
  },
  {
   "cell_type": "code",
   "execution_count": 18,
   "id": "533501c8",
   "metadata": {},
   "outputs": [],
   "source": [
    "X_c=cu.fit_transform(X_train)"
   ]
  },
  {
   "cell_type": "code",
   "execution_count": 19,
   "id": "25907cbe",
   "metadata": {},
   "outputs": [
    {
     "data": {
      "text/plain": [
       "<3900x7263 sparse matrix of type '<class 'numpy.int64'>'\n",
       "\twith 52150 stored elements in Compressed Sparse Row format>"
      ]
     },
     "execution_count": 19,
     "metadata": {},
     "output_type": "execute_result"
    }
   ],
   "source": [
    "X_c"
   ]
  },
  {
   "cell_type": "code",
   "execution_count": 20,
   "id": "16a37fa8",
   "metadata": {},
   "outputs": [],
   "source": [
    "from sklearn.pipeline import Pipeline"
   ]
  },
  {
   "cell_type": "code",
   "execution_count": 22,
   "id": "b2096953",
   "metadata": {},
   "outputs": [],
   "source": [
    "from sklearn.feature_extraction.text import TfidfVectorizer"
   ]
  },
  {
   "cell_type": "code",
   "execution_count": 23,
   "id": "9803f6b0",
   "metadata": {},
   "outputs": [],
   "source": [
    "from sklearn.svm import LinearSVC"
   ]
  },
  {
   "cell_type": "code",
   "execution_count": 26,
   "id": "87c65629",
   "metadata": {},
   "outputs": [],
   "source": [
    "text_clf=Pipeline([('tfidf',TfidfVectorizer()),('clf',LinearSVC())])"
   ]
  },
  {
   "cell_type": "code",
   "execution_count": 27,
   "id": "c3d200ff",
   "metadata": {},
   "outputs": [
    {
     "data": {
      "text/plain": [
       "Pipeline(memory=None,\n",
       "     steps=[('tfidf', TfidfVectorizer(analyzer='word', binary=False, decode_error='strict',\n",
       "        dtype=<class 'numpy.float64'>, encoding='utf-8', input='content',\n",
       "        lowercase=True, max_df=1.0, max_features=None, min_df=1,\n",
       "        ngram_range=(1, 1), norm='l2', preprocessor=None, smooth_idf=True,...ax_iter=1000,\n",
       "     multi_class='ovr', penalty='l2', random_state=None, tol=0.0001,\n",
       "     verbose=0))])"
      ]
     },
     "execution_count": 27,
     "metadata": {},
     "output_type": "execute_result"
    }
   ],
   "source": [
    "text_clf.fit(X_train,y_train)"
   ]
  },
  {
   "cell_type": "code",
   "execution_count": 28,
   "id": "14959446",
   "metadata": {},
   "outputs": [],
   "source": [
    "preds=text_clf.predict(X_test)"
   ]
  },
  {
   "cell_type": "code",
   "execution_count": 29,
   "id": "dd836705",
   "metadata": {},
   "outputs": [],
   "source": [
    "from sklearn.metrics import accuracy_score"
   ]
  },
  {
   "cell_type": "code",
   "execution_count": 30,
   "id": "b4f07356",
   "metadata": {},
   "outputs": [
    {
     "data": {
      "text/plain": [
       "0.9922248803827751"
      ]
     },
     "execution_count": 30,
     "metadata": {},
     "output_type": "execute_result"
    }
   ],
   "source": [
    "accuracy_score(y_test,preds)"
   ]
  },
  {
   "cell_type": "markdown",
   "id": "305b97e5",
   "metadata": {},
   "source": [
    "Semantics"
   ]
  },
  {
   "cell_type": "code",
   "execution_count": 1,
   "id": "ee5685d0",
   "metadata": {},
   "outputs": [],
   "source": [
    "import spacy"
   ]
  },
  {
   "cell_type": "code",
   "execution_count": 2,
   "id": "87bc4938",
   "metadata": {},
   "outputs": [],
   "source": [
    "lp = spacy.load('en_core_web_lg')"
   ]
  },
  {
   "cell_type": "code",
   "execution_count": 11,
   "id": "af4455a7",
   "metadata": {},
   "outputs": [],
   "source": [
    "i=lp(u'ronaldo')"
   ]
  },
  {
   "cell_type": "code",
   "execution_count": 12,
   "id": "72bd167c",
   "metadata": {},
   "outputs": [],
   "source": [
    "r=lp(u'messi')"
   ]
  },
  {
   "cell_type": "code",
   "execution_count": 13,
   "id": "1cb8b8d2",
   "metadata": {},
   "outputs": [
    {
     "data": {
      "text/plain": [
       "0.8630735298018927"
      ]
     },
     "execution_count": 13,
     "metadata": {},
     "output_type": "execute_result"
    }
   ],
   "source": [
    "i.similarity(r)"
   ]
  },
  {
   "cell_type": "code",
   "execution_count": 20,
   "id": "845cacbd",
   "metadata": {},
   "outputs": [
    {
     "data": {
      "text/plain": [
       "7.964060500400965"
      ]
     },
     "execution_count": 20,
     "metadata": {},
     "output_type": "execute_result"
    }
   ],
   "source": [
    "r.vector_norm"
   ]
  },
  {
   "cell_type": "code",
   "execution_count": 8,
   "id": "5aedce65",
   "metadata": {},
   "outputs": [],
   "source": [
    "import nltk"
   ]
  },
  {
   "cell_type": "code",
   "execution_count": 9,
   "id": "c915e64a",
   "metadata": {},
   "outputs": [
    {
     "name": "stdout",
     "output_type": "stream",
     "text": [
      "[nltk_data] Downloading package vader_lexicon to\n",
      "[nltk_data]     C:\\Users\\GTDNL\\AppData\\Roaming\\nltk_data...\n",
      "[nltk_data]   Package vader_lexicon is already up-to-date!\n"
     ]
    },
    {
     "data": {
      "text/plain": [
       "True"
      ]
     },
     "execution_count": 9,
     "metadata": {},
     "output_type": "execute_result"
    }
   ],
   "source": [
    "nltk.download('vader_lexicon')"
   ]
  },
  {
   "cell_type": "code",
   "execution_count": 10,
   "id": "21ce81c1",
   "metadata": {},
   "outputs": [],
   "source": [
    "from nltk.sentiment.vader import SentimentIntensityAnalyzer"
   ]
  },
  {
   "cell_type": "code",
   "execution_count": 11,
   "id": "51db252d",
   "metadata": {},
   "outputs": [],
   "source": [
    "sid=SentimentIntensityAnalyzer()"
   ]
  },
  {
   "cell_type": "code",
   "execution_count": 12,
   "id": "c582b2a1",
   "metadata": {},
   "outputs": [],
   "source": [
    "p='messi is a devil and EVIL!!'"
   ]
  },
  {
   "cell_type": "code",
   "execution_count": 25,
   "id": "b194e4c8",
   "metadata": {},
   "outputs": [
    {
     "data": {
      "text/plain": [
       "{'neg': 0.771, 'neu': 0.229, 'pos': 0.0, 'compound': -0.9025}"
      ]
     },
     "execution_count": 25,
     "metadata": {},
     "output_type": "execute_result"
    }
   ],
   "source": [
    "sid.polarity_scores(p)\n"
   ]
  },
  {
   "cell_type": "code",
   "execution_count": 3,
   "id": "22498d73",
   "metadata": {},
   "outputs": [],
   "source": [
    "o=lp('john cena')\n",
    "t=lp('undertaker')"
   ]
  },
  {
   "cell_type": "code",
   "execution_count": 6,
   "id": "813ad547",
   "metadata": {},
   "outputs": [
    {
     "data": {
      "text/plain": [
       "0.523096916379419"
      ]
     },
     "execution_count": 6,
     "metadata": {},
     "output_type": "execute_result"
    }
   ],
   "source": [
    "t.similarity(o)"
   ]
  },
  {
   "cell_type": "code",
   "execution_count": 5,
   "id": "6bda618c",
   "metadata": {},
   "outputs": [
    {
     "data": {
      "text/plain": [
       "array([-0.574255  , -0.03731   ,  0.19542   , -0.37726998,  0.39284497,\n",
       "       -0.256515  ,  0.297105  , -0.64068   , -0.0434675 ,  0.19125998,\n",
       "       -0.647815  , -0.4233    , -0.2532235 ,  0.14811999,  0.13266501,\n",
       "       -0.44935998,  0.0759375 ,  0.80504   ,  0.0411305 , -0.26473698,\n",
       "       -0.025365  ,  0.11989   ,  0.0161644 , -0.27587   , -0.197475  ,\n",
       "        0.01899999, -0.55323   ,  0.29896   , -0.147845  ,  0.68614   ,\n",
       "        0.222998  ,  0.27467018, -0.125798  ,  0.225546  , -0.407895  ,\n",
       "       -0.094292  , -0.1907571 , -0.44959   , -0.388495  , -0.0246247 ,\n",
       "       -0.115325  , -0.1391835 ,  0.16433   , -0.10627   , -0.48029   ,\n",
       "        0.37162   , -0.40694502, -0.40853   , -0.08123   ,  0.36128   ,\n",
       "        0.199899  , -0.03305499,  0.3807945 , -0.56826   , -0.0686045 ,\n",
       "        0.13262999, -0.08767   , -0.1248    , -0.0745741 , -0.21147549,\n",
       "       -0.48176503,  0.39784002, -0.14404002, -0.10125999,  0.1635    ,\n",
       "       -0.077243  , -0.327925  ,  0.26617   , -0.24939999, -0.625105  ,\n",
       "       -0.1692183 , -0.2969735 ,  0.0534655 ,  0.24161701,  0.07173   ,\n",
       "       -0.329205  ,  0.034605  ,  0.374315  ,  0.1577575 ,  0.44861   ,\n",
       "        0.539275  ,  0.14160551,  0.30009684,  0.399685  , -0.042685  ,\n",
       "       -0.07302999,  1.3889    , -1.13607   , -0.28368   ,  0.19904   ,\n",
       "       -0.38327   , -0.07294   , -0.1317565 , -0.12146001,  0.54436004,\n",
       "       -0.301265  ,  0.21698   ,  0.050701  , -0.00213   , -0.1115    ,\n",
       "       -0.25947398, -0.256365  ,  0.07133336, -0.500615  , -0.1111    ,\n",
       "       -0.39420497,  0.113501  , -0.33826   , -0.50991   , -0.062663  ,\n",
       "        0.38914   , -0.3052805 , -0.22060499, -0.370735  ,  0.400435  ,\n",
       "       -0.16745849,  0.567685  ,  0.2035255 , -0.04751   , -0.01481   ,\n",
       "       -0.07130501,  0.27443   , -0.25112998,  0.40403   , -0.60061   ,\n",
       "        0.22505051,  0.351445  , -0.0047925 ,  0.064785  ,  0.0771075 ,\n",
       "       -0.134794  , -0.550885  ,  0.2484705 , -0.51645   ,  0.15191   ,\n",
       "       -0.02667   ,  0.0115845 ,  0.21455629, -0.21776   , -0.843665  ,\n",
       "       -2.0224    , -0.08974001, -0.251383  ,  0.73851   , -0.006781  ,\n",
       "        0.42753   ,  0.346239  ,  0.29757202,  0.06305   , -0.210309  ,\n",
       "        0.165473  , -0.66488504,  0.28518   ,  0.173469  ,  0.36702   ,\n",
       "       -0.157017  , -0.0148615 , -0.1401205 , -0.162195  ,  0.13328649,\n",
       "        0.3146097 , -0.1476195 , -0.24789   ,  0.193195  ,  0.45375502,\n",
       "        0.0988395 , -0.474875  ,  0.19686301, -0.430305  , -0.078426  ,\n",
       "       -0.294305  , -0.00595   , -0.324324  , -0.554415  ,  0.26923501,\n",
       "       -0.128815  , -0.05261   ,  0.6716    ,  0.08586   ,  0.058425  ,\n",
       "        0.449472  ,  0.130874  , -0.0468895 ,  0.06031001,  0.13662   ,\n",
       "        0.317715  , -0.1401345 ,  0.19823   ,  0.026435  , -0.01010501,\n",
       "       -0.02246499,  0.1198905 , -0.142289  , -0.38655502, -0.0921675 ,\n",
       "        0.05491   ,  0.05636001, -0.12368751,  0.23841   , -0.421535  ,\n",
       "        0.0918515 , -0.41997   ,  0.409815  ,  0.03622501, -0.41525   ,\n",
       "       -0.14266   , -0.06235   ,  0.09156501,  0.004474  ,  0.024776  ,\n",
       "       -0.2626045 ,  0.520005  ,  0.02742   ,  0.54915   , -0.127431  ,\n",
       "        0.030115  ,  0.029873  ,  0.030615  , -0.0646155 ,  0.53001   ,\n",
       "        0.24757311,  0.07605   , -0.02865   , -0.0459943 ,  0.100576  ,\n",
       "        0.19813001, -0.54495   ,  0.010625  , -0.176761  ,  0.14861551,\n",
       "       -0.586825  ,  0.19095   , -0.053936  , -0.194407  , -0.62368   ,\n",
       "       -0.272745  , -0.162905  , -0.257485  , -0.415735  , -0.01175   ,\n",
       "        0.01487   , -0.27878   ,  0.020005  , -0.23348   ,  0.16717501,\n",
       "        0.0313115 ,  0.2143345 ,  0.1510655 , -0.04459   , -0.14285   ,\n",
       "        0.19850501, -0.14395499, -0.72379   , -0.106515  ,  0.342275  ,\n",
       "       -0.21618   , -0.352255  , -0.029755  ,  0.356715  , -0.066465  ,\n",
       "       -0.025694  ,  0.012045  ,  0.0213195 ,  0.59573996,  0.1341355 ,\n",
       "       -0.24577999,  0.146733  ,  0.122037  , -0.586765  ,  0.43023497,\n",
       "       -0.45212   ,  0.201563  , -0.04323   ,  0.6867    ,  0.437265  ,\n",
       "       -0.170321  , -0.10773501, -0.26788   , -0.07266   ,  0.29080498,\n",
       "       -0.08256949,  0.07929251, -0.24732   ,  0.33017498,  0.29969   ,\n",
       "        0.344315  , -0.2165895 ,  0.2222895 , -0.480605  , -0.09611294,\n",
       "        0.309095  , -0.464695  , -0.18524   , -0.20616   ,  0.14072001,\n",
       "        0.2960985 , -0.124597  , -0.050846  , -0.42390501,  0.07499316],\n",
       "      dtype=float32)"
      ]
     },
     "execution_count": 5,
     "metadata": {},
     "output_type": "execute_result"
    }
   ],
   "source": [
    "o.vector"
   ]
  },
  {
   "cell_type": "code",
   "execution_count": 26,
   "id": "da2835c1",
   "metadata": {},
   "outputs": [],
   "source": [
    "def tell_me(string):\n",
    "    ik=sid.polarity_scores(string)['neg']\n",
    "    il=sid.polarity_scores(string)['pos']\n",
    "    ol=sid.polarity_scores(string)['neu']\n",
    "    return ik,il,ol"
   ]
  },
  {
   "cell_type": "code",
   "execution_count": 27,
   "id": "790b6987",
   "metadata": {},
   "outputs": [
    {
     "data": {
      "text/plain": [
       "(0.212, 0.19, 0.212)"
      ]
     },
     "execution_count": 27,
     "metadata": {},
     "output_type": "execute_result"
    }
   ],
   "source": [
    "tell_me('i hate messi, and i wish him death!!!')"
   ]
  },
  {
   "cell_type": "markdown",
   "id": "cc693a29",
   "metadata": {},
   "source": [
    "TOPIC MODELLING"
   ]
  },
  {
   "cell_type": "code",
   "execution_count": 24,
   "id": "da144c05",
   "metadata": {},
   "outputs": [],
   "source": [
    "import pandas as pd"
   ]
  },
  {
   "cell_type": "code",
   "execution_count": 58,
   "id": "ca810323",
   "metadata": {},
   "outputs": [],
   "source": [
    "lo=pd.read_csv('npr.csv')"
   ]
  },
  {
   "cell_type": "code",
   "execution_count": 26,
   "id": "0f3b7a78",
   "metadata": {},
   "outputs": [
    {
     "data": {
      "text/html": [
       "<div>\n",
       "<style scoped>\n",
       "    .dataframe tbody tr th:only-of-type {\n",
       "        vertical-align: middle;\n",
       "    }\n",
       "\n",
       "    .dataframe tbody tr th {\n",
       "        vertical-align: top;\n",
       "    }\n",
       "\n",
       "    .dataframe thead th {\n",
       "        text-align: right;\n",
       "    }\n",
       "</style>\n",
       "<table border=\"1\" class=\"dataframe\">\n",
       "  <thead>\n",
       "    <tr style=\"text-align: right;\">\n",
       "      <th></th>\n",
       "      <th>Article</th>\n",
       "    </tr>\n",
       "  </thead>\n",
       "  <tbody>\n",
       "    <tr>\n",
       "      <th>0</th>\n",
       "      <td>In the Washington of 2016, even when the polic...</td>\n",
       "    </tr>\n",
       "    <tr>\n",
       "      <th>1</th>\n",
       "      <td>Donald Trump has used Twitter  —   his prefe...</td>\n",
       "    </tr>\n",
       "    <tr>\n",
       "      <th>2</th>\n",
       "      <td>Donald Trump is unabashedly praising Russian...</td>\n",
       "    </tr>\n",
       "    <tr>\n",
       "      <th>3</th>\n",
       "      <td>Updated at 2:50 p. m. ET, Russian President Vl...</td>\n",
       "    </tr>\n",
       "    <tr>\n",
       "      <th>4</th>\n",
       "      <td>From photography, illustration and video, to d...</td>\n",
       "    </tr>\n",
       "  </tbody>\n",
       "</table>\n",
       "</div>"
      ],
      "text/plain": [
       "                                             Article\n",
       "0  In the Washington of 2016, even when the polic...\n",
       "1    Donald Trump has used Twitter  —   his prefe...\n",
       "2    Donald Trump is unabashedly praising Russian...\n",
       "3  Updated at 2:50 p. m. ET, Russian President Vl...\n",
       "4  From photography, illustration and video, to d..."
      ]
     },
     "execution_count": 26,
     "metadata": {},
     "output_type": "execute_result"
    }
   ],
   "source": [
    "lo.head()"
   ]
  },
  {
   "cell_type": "code",
   "execution_count": 27,
   "id": "141ef03f",
   "metadata": {},
   "outputs": [
    {
     "data": {
      "text/html": [
       "<div>\n",
       "<style scoped>\n",
       "    .dataframe tbody tr th:only-of-type {\n",
       "        vertical-align: middle;\n",
       "    }\n",
       "\n",
       "    .dataframe tbody tr th {\n",
       "        vertical-align: top;\n",
       "    }\n",
       "\n",
       "    .dataframe thead th {\n",
       "        text-align: right;\n",
       "    }\n",
       "</style>\n",
       "<table border=\"1\" class=\"dataframe\">\n",
       "  <thead>\n",
       "    <tr style=\"text-align: right;\">\n",
       "      <th></th>\n",
       "      <th>Article</th>\n",
       "    </tr>\n",
       "  </thead>\n",
       "  <tbody>\n",
       "    <tr>\n",
       "      <th>11987</th>\n",
       "      <td>The number of law enforcement officers shot an...</td>\n",
       "    </tr>\n",
       "    <tr>\n",
       "      <th>11988</th>\n",
       "      <td>Trump is busy these days with victory tours,...</td>\n",
       "    </tr>\n",
       "    <tr>\n",
       "      <th>11989</th>\n",
       "      <td>It’s always interesting for the Goats and Soda...</td>\n",
       "    </tr>\n",
       "    <tr>\n",
       "      <th>11990</th>\n",
       "      <td>The election of Donald Trump was a surprise to...</td>\n",
       "    </tr>\n",
       "    <tr>\n",
       "      <th>11991</th>\n",
       "      <td>Voters in the English city of Sunderland did s...</td>\n",
       "    </tr>\n",
       "  </tbody>\n",
       "</table>\n",
       "</div>"
      ],
      "text/plain": [
       "                                                 Article\n",
       "11987  The number of law enforcement officers shot an...\n",
       "11988    Trump is busy these days with victory tours,...\n",
       "11989  It’s always interesting for the Goats and Soda...\n",
       "11990  The election of Donald Trump was a surprise to...\n",
       "11991  Voters in the English city of Sunderland did s..."
      ]
     },
     "execution_count": 27,
     "metadata": {},
     "output_type": "execute_result"
    }
   ],
   "source": [
    "lo.tail()"
   ]
  },
  {
   "cell_type": "code",
   "execution_count": 28,
   "id": "e11e8df8",
   "metadata": {},
   "outputs": [],
   "source": [
    "from sklearn.feature_extraction.text import CountVectorizer"
   ]
  },
  {
   "cell_type": "code",
   "execution_count": 29,
   "id": "6f1717db",
   "metadata": {},
   "outputs": [],
   "source": [
    "cv = CountVectorizer(max_df=0.9,min_df=2,stop_words='english')"
   ]
  },
  {
   "cell_type": "code",
   "execution_count": 30,
   "id": "4a17cf71",
   "metadata": {},
   "outputs": [],
   "source": [
    "lo = cv.fit_transform(lo['Article'])"
   ]
  },
  {
   "cell_type": "code",
   "execution_count": 31,
   "id": "72c85f35",
   "metadata": {},
   "outputs": [
    {
     "data": {
      "text/plain": [
       "<11992x54777 sparse matrix of type '<class 'numpy.int64'>'\n",
       "\twith 3033388 stored elements in Compressed Sparse Row format>"
      ]
     },
     "execution_count": 31,
     "metadata": {},
     "output_type": "execute_result"
    }
   ],
   "source": [
    "lo"
   ]
  },
  {
   "cell_type": "code",
   "execution_count": 32,
   "id": "72040685",
   "metadata": {},
   "outputs": [],
   "source": [
    "from sklearn.decomposition import LatentDirichletAllocation"
   ]
  },
  {
   "cell_type": "code",
   "execution_count": 33,
   "id": "ab0377d5",
   "metadata": {},
   "outputs": [],
   "source": [
    "lda= LatentDirichletAllocation(n_components=8,random_state=42)"
   ]
  },
  {
   "cell_type": "code",
   "execution_count": 34,
   "id": "bd44618e",
   "metadata": {},
   "outputs": [
    {
     "data": {
      "text/plain": [
       "LatentDirichletAllocation(batch_size=128, doc_topic_prior=None,\n",
       "             evaluate_every=-1, learning_decay=0.7,\n",
       "             learning_method='batch', learning_offset=10.0,\n",
       "             max_doc_update_iter=100, max_iter=10, mean_change_tol=0.001,\n",
       "             n_components=8, n_jobs=None, n_topics=None, perp_tol=0.1,\n",
       "             random_state=42, topic_word_prior=None,\n",
       "             total_samples=1000000.0, verbose=0)"
      ]
     },
     "execution_count": 34,
     "metadata": {},
     "output_type": "execute_result"
    }
   ],
   "source": [
    "lda.fit(lo)"
   ]
  },
  {
   "cell_type": "code",
   "execution_count": 35,
   "id": "b9f90409",
   "metadata": {},
   "outputs": [
    {
     "data": {
      "text/plain": [
       "'062'"
      ]
     },
     "execution_count": 35,
     "metadata": {},
     "output_type": "execute_result"
    }
   ],
   "source": [
    "cv.get_feature_names()[29]"
   ]
  },
  {
   "cell_type": "code",
   "execution_count": 36,
   "id": "7a16263d",
   "metadata": {},
   "outputs": [
    {
     "data": {
      "text/plain": [
       "array([[5.04335535e+00, 2.15614750e+03, 1.25015996e-01, ...,\n",
       "        1.25055022e-01, 1.25008451e-01, 1.25002273e-01],\n",
       "       [8.23455643e+00, 1.52267339e+02, 1.25000001e-01, ...,\n",
       "        1.25000000e-01, 1.25000001e-01, 1.25005939e-01],\n",
       "       [3.90417960e+00, 6.58531409e+02, 1.25000001e-01, ...,\n",
       "        6.12464717e+00, 2.12439874e+00, 1.25034174e-01],\n",
       "       ...,\n",
       "       [4.43884421e+01, 4.53198268e+01, 3.12498400e+00, ...,\n",
       "        1.25179166e-01, 1.25316393e-01, 2.12493593e+00],\n",
       "       [2.98456360e+00, 4.23776788e+02, 1.25000001e-01, ...,\n",
       "        1.25016532e-01, 1.25236275e-01, 1.25002735e-01],\n",
       "       [2.85375570e+01, 8.55163299e+02, 1.25000001e-01, ...,\n",
       "        1.25060520e-01, 1.25000000e-01, 1.25013852e-01]])"
      ]
     },
     "execution_count": 36,
     "metadata": {},
     "output_type": "execute_result"
    }
   ],
   "source": [
    "lda.components_"
   ]
  },
  {
   "cell_type": "code",
   "execution_count": 37,
   "id": "ee54cad9",
   "metadata": {},
   "outputs": [
    {
     "data": {
      "text/plain": [
       "array([5.0433550e+00, 2.1561475e+03, 1.2501600e-01, ..., 1.2505500e-01,\n",
       "       1.2500800e-01, 1.2500200e-01])"
      ]
     },
     "execution_count": 37,
     "metadata": {},
     "output_type": "execute_result"
    }
   ],
   "source": [
    "lda.components_[0].round(6)"
   ]
  },
  {
   "cell_type": "code",
   "execution_count": 38,
   "id": "9e815690",
   "metadata": {},
   "outputs": [],
   "source": [
    "f=lda.components_[7]"
   ]
  },
  {
   "cell_type": "code",
   "execution_count": 39,
   "id": "7e0e8a57",
   "metadata": {},
   "outputs": [],
   "source": [
    "t_fs_topic=f.argsort()[-10:]"
   ]
  },
  {
   "cell_type": "code",
   "execution_count": 40,
   "id": "f72901d2",
   "metadata": {},
   "outputs": [
    {
     "name": "stdout",
     "output_type": "stream",
     "text": [
      "reported\n",
      "government\n",
      "according\n",
      "city\n",
      "told\n",
      "reports\n",
      "says\n",
      "people\n",
      "police\n",
      "said\n"
     ]
    }
   ],
   "source": [
    "for i in t_fs_topic:\n",
    "    print(cv.get_feature_names()[i])"
   ]
  },
  {
   "cell_type": "code",
   "execution_count": 41,
   "id": "52899dcd",
   "metadata": {},
   "outputs": [
    {
     "name": "stdout",
     "output_type": "stream",
     "text": [
      "this is topic 0\n",
      "['000', 'money', 'year', 'companies', 'new', 'government', 'percent', 'federal', 'million', 'company', 'care', 'people', 'health', 'said', 'says']\n",
      "\n",
      "\n",
      "\n",
      "\n",
      "this is topic 1\n",
      "['military', 'npr', 'russian', 'told', 'campaign', 'new', 'security', 'obama', 'news', 'white', 'russia', 'house', 'president', 'said', 'trump']\n",
      "\n",
      "\n",
      "\n",
      "\n",
      "this is topic 2\n",
      "['make', 'way', 'city', 'home', 'day', 'world', 'time', 'water', 'years', 'new', 'food', 'just', 'people', 'like', 'says']\n",
      "\n",
      "\n",
      "\n",
      "\n",
      "this is topic 3\n",
      "['years', 'new', 'care', 'don', 'medical', 'just', 'disease', 'patients', 'children', 'like', 'study', 'women', 'health', 'people', 'says']\n",
      "\n",
      "\n",
      "\n",
      "\n",
      "this is topic 4\n",
      "['obama', 'election', 'new', 'court', 'voters', 'vote', 'party', 'republican', 'campaign', 'president', 'people', 'state', 'clinton', 'said', 'trump']\n",
      "\n",
      "\n",
      "\n",
      "\n",
      "this is topic 5\n",
      "['story', 've', 'going', 'life', 'don', 'new', 'way', 'music', 'really', 'time', 'know', 'think', 'people', 'just', 'like']\n",
      "\n",
      "\n",
      "\n",
      "\n",
      "this is topic 6\n",
      "['science', 'don', 'percent', 'kids', 'university', 'time', 'schools', 'people', 'education', 'just', 'new', 'like', 'students', 'school', 'says']\n",
      "\n",
      "\n",
      "\n",
      "\n",
      "this is topic 7\n",
      "['law', 'attack', 'npr', 'state', 'killed', 'reported', 'government', 'according', 'city', 'told', 'reports', 'says', 'people', 'police', 'said']\n",
      "\n",
      "\n",
      "\n",
      "\n"
     ]
    }
   ],
   "source": [
    "for i,topic in enumerate(lda.components_):\n",
    "    print(f'this is topic {i}')\n",
    "    print([cv.get_feature_names()[index] for index in topic.argsort()[-15:]])\n",
    "    print('\\n')\n",
    "    print('\\n')"
   ]
  },
  {
   "cell_type": "code",
   "execution_count": 48,
   "id": "632cdd20",
   "metadata": {},
   "outputs": [],
   "source": [
    "topic_pro=lda.transform(lo)"
   ]
  },
  {
   "cell_type": "code",
   "execution_count": 57,
   "id": "89d49d48",
   "metadata": {},
   "outputs": [
    {
     "data": {
      "text/plain": [
       "5"
      ]
     },
     "execution_count": 57,
     "metadata": {},
     "output_type": "execute_result"
    }
   ],
   "source": [
    "topic_pro[1140].argmax()"
   ]
  },
  {
   "cell_type": "code",
   "execution_count": 59,
   "id": "9639cbd2",
   "metadata": {},
   "outputs": [],
   "source": [
    "lo['topic_pro'] = topic_pro.argmax(axis=1)"
   ]
  },
  {
   "cell_type": "code",
   "execution_count": 65,
   "id": "79ea4d68",
   "metadata": {},
   "outputs": [
    {
     "data": {
      "text/html": [
       "<div>\n",
       "<style scoped>\n",
       "    .dataframe tbody tr th:only-of-type {\n",
       "        vertical-align: middle;\n",
       "    }\n",
       "\n",
       "    .dataframe tbody tr th {\n",
       "        vertical-align: top;\n",
       "    }\n",
       "\n",
       "    .dataframe thead th {\n",
       "        text-align: right;\n",
       "    }\n",
       "</style>\n",
       "<table border=\"1\" class=\"dataframe\">\n",
       "  <thead>\n",
       "    <tr style=\"text-align: right;\">\n",
       "      <th></th>\n",
       "      <th>Article</th>\n",
       "      <th>topic_pro</th>\n",
       "    </tr>\n",
       "  </thead>\n",
       "  <tbody>\n",
       "    <tr>\n",
       "      <th>0</th>\n",
       "      <td>In the Washington of 2016, even when the polic...</td>\n",
       "      <td>1</td>\n",
       "    </tr>\n",
       "    <tr>\n",
       "      <th>1</th>\n",
       "      <td>Donald Trump has used Twitter  —   his prefe...</td>\n",
       "      <td>1</td>\n",
       "    </tr>\n",
       "    <tr>\n",
       "      <th>2</th>\n",
       "      <td>Donald Trump is unabashedly praising Russian...</td>\n",
       "      <td>1</td>\n",
       "    </tr>\n",
       "    <tr>\n",
       "      <th>3</th>\n",
       "      <td>Updated at 2:50 p. m. ET, Russian President Vl...</td>\n",
       "      <td>1</td>\n",
       "    </tr>\n",
       "    <tr>\n",
       "      <th>4</th>\n",
       "      <td>From photography, illustration and video, to d...</td>\n",
       "      <td>7</td>\n",
       "    </tr>\n",
       "    <tr>\n",
       "      <th>5</th>\n",
       "      <td>I did not want to join yoga class. I hated tho...</td>\n",
       "      <td>3</td>\n",
       "    </tr>\n",
       "    <tr>\n",
       "      <th>6</th>\n",
       "      <td>With a   who has publicly supported the debunk...</td>\n",
       "      <td>3</td>\n",
       "    </tr>\n",
       "    <tr>\n",
       "      <th>7</th>\n",
       "      <td>I was standing by the airport exit, debating w...</td>\n",
       "      <td>2</td>\n",
       "    </tr>\n",
       "    <tr>\n",
       "      <th>8</th>\n",
       "      <td>If movies were trying to be more realistic, pe...</td>\n",
       "      <td>3</td>\n",
       "    </tr>\n",
       "    <tr>\n",
       "      <th>9</th>\n",
       "      <td>Eighteen years ago, on New Year’s Eve, David F...</td>\n",
       "      <td>2</td>\n",
       "    </tr>\n",
       "    <tr>\n",
       "      <th>10</th>\n",
       "      <td>For years now, some of the best, wildest, most...</td>\n",
       "      <td>5</td>\n",
       "    </tr>\n",
       "    <tr>\n",
       "      <th>11</th>\n",
       "      <td>For years now, some of the best, wildest, most...</td>\n",
       "      <td>5</td>\n",
       "    </tr>\n",
       "    <tr>\n",
       "      <th>12</th>\n",
       "      <td>The Colorado River is like a giant bank accoun...</td>\n",
       "      <td>2</td>\n",
       "    </tr>\n",
       "    <tr>\n",
       "      <th>13</th>\n",
       "      <td>For the last installment of NPR’s holiday reci...</td>\n",
       "      <td>2</td>\n",
       "    </tr>\n",
       "    <tr>\n",
       "      <th>14</th>\n",
       "      <td>Being overweight can raise your blood pressure...</td>\n",
       "      <td>3</td>\n",
       "    </tr>\n",
       "    <tr>\n",
       "      <th>15</th>\n",
       "      <td>Who’s the YouTube star of 2016? Adele singing ...</td>\n",
       "      <td>5</td>\n",
       "    </tr>\n",
       "    <tr>\n",
       "      <th>16</th>\n",
       "      <td>Here’s a quick roundup of some of the   you ma...</td>\n",
       "      <td>2</td>\n",
       "    </tr>\n",
       "    <tr>\n",
       "      <th>17</th>\n",
       "      <td>Ben Johnston doesn’t follow the rules of music...</td>\n",
       "      <td>5</td>\n",
       "    </tr>\n",
       "    <tr>\n",
       "      <th>18</th>\n",
       "      <td>David Bowie, Prince and George Michael are all...</td>\n",
       "      <td>5</td>\n",
       "    </tr>\n",
       "    <tr>\n",
       "      <th>19</th>\n",
       "      <td>In November, the typically straitlaced Office ...</td>\n",
       "      <td>1</td>\n",
       "    </tr>\n",
       "  </tbody>\n",
       "</table>\n",
       "</div>"
      ],
      "text/plain": [
       "                                              Article  topic_pro\n",
       "0   In the Washington of 2016, even when the polic...          1\n",
       "1     Donald Trump has used Twitter  —   his prefe...          1\n",
       "2     Donald Trump is unabashedly praising Russian...          1\n",
       "3   Updated at 2:50 p. m. ET, Russian President Vl...          1\n",
       "4   From photography, illustration and video, to d...          7\n",
       "5   I did not want to join yoga class. I hated tho...          3\n",
       "6   With a   who has publicly supported the debunk...          3\n",
       "7   I was standing by the airport exit, debating w...          2\n",
       "8   If movies were trying to be more realistic, pe...          3\n",
       "9   Eighteen years ago, on New Year’s Eve, David F...          2\n",
       "10  For years now, some of the best, wildest, most...          5\n",
       "11  For years now, some of the best, wildest, most...          5\n",
       "12  The Colorado River is like a giant bank accoun...          2\n",
       "13  For the last installment of NPR’s holiday reci...          2\n",
       "14  Being overweight can raise your blood pressure...          3\n",
       "15  Who’s the YouTube star of 2016? Adele singing ...          5\n",
       "16  Here’s a quick roundup of some of the   you ma...          2\n",
       "17  Ben Johnston doesn’t follow the rules of music...          5\n",
       "18  David Bowie, Prince and George Michael are all...          5\n",
       "19  In November, the typically straitlaced Office ...          1"
      ]
     },
     "execution_count": 65,
     "metadata": {},
     "output_type": "execute_result"
    }
   ],
   "source": [
    "lo.head(20)"
   ]
  },
  {
   "cell_type": "code",
   "execution_count": null,
   "id": "b9ed5dc7",
   "metadata": {},
   "outputs": [],
   "source": [
    " "
   ]
  },
  {
   "cell_type": "code",
   "execution_count": null,
   "id": "664dc87d",
   "metadata": {},
   "outputs": [],
   "source": []
  }
 ],
 "metadata": {
  "kernelspec": {
   "display_name": "Python 3 (ipykernel)",
   "language": "python",
   "name": "python3"
  },
  "language_info": {
   "codemirror_mode": {
    "name": "ipython",
    "version": 3
   },
   "file_extension": ".py",
   "mimetype": "text/x-python",
   "name": "python",
   "nbconvert_exporter": "python",
   "pygments_lexer": "ipython3",
   "version": "3.7.16"
  }
 },
 "nbformat": 4,
 "nbformat_minor": 5
}
