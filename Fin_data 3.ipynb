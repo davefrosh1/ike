{
 "cells": [
  {
   "cell_type": "code",
   "execution_count": 2,
   "id": "fd5e91a8",
   "metadata": {},
   "outputs": [],
   "source": [
    "import pandas as pd\n",
    "import numpy as np\n",
    "import matplotlib.pyplot as plt"
   ]
  },
  {
   "cell_type": "code",
   "execution_count": 228,
   "id": "1fb2fbcd",
   "metadata": {},
   "outputs": [],
   "source": [
    "p = pd.read_csv('Training Data.csv')"
   ]
  },
  {
   "cell_type": "code",
   "execution_count": 229,
   "id": "8758f1ec",
   "metadata": {},
   "outputs": [
    {
     "data": {
      "text/html": [
       "<div>\n",
       "<style scoped>\n",
       "    .dataframe tbody tr th:only-of-type {\n",
       "        vertical-align: middle;\n",
       "    }\n",
       "\n",
       "    .dataframe tbody tr th {\n",
       "        vertical-align: top;\n",
       "    }\n",
       "\n",
       "    .dataframe thead th {\n",
       "        text-align: right;\n",
       "    }\n",
       "</style>\n",
       "<table border=\"1\" class=\"dataframe\">\n",
       "  <thead>\n",
       "    <tr style=\"text-align: right;\">\n",
       "      <th></th>\n",
       "      <th>Id</th>\n",
       "      <th>income</th>\n",
       "      <th>age</th>\n",
       "      <th>experience</th>\n",
       "      <th>married</th>\n",
       "      <th>house_ownership</th>\n",
       "      <th>car_ownership</th>\n",
       "      <th>profession</th>\n",
       "      <th>city</th>\n",
       "      <th>state</th>\n",
       "      <th>current_job_years</th>\n",
       "      <th>current_house_years</th>\n",
       "      <th>risk_flag</th>\n",
       "    </tr>\n",
       "  </thead>\n",
       "  <tbody>\n",
       "    <tr>\n",
       "      <th>251995</th>\n",
       "      <td>251996</td>\n",
       "      <td>8154883</td>\n",
       "      <td>43</td>\n",
       "      <td>13</td>\n",
       "      <td>single</td>\n",
       "      <td>rented</td>\n",
       "      <td>no</td>\n",
       "      <td>Surgeon</td>\n",
       "      <td>Kolkata</td>\n",
       "      <td>West_Bengal</td>\n",
       "      <td>6</td>\n",
       "      <td>11</td>\n",
       "      <td>0</td>\n",
       "    </tr>\n",
       "    <tr>\n",
       "      <th>251996</th>\n",
       "      <td>251997</td>\n",
       "      <td>2843572</td>\n",
       "      <td>26</td>\n",
       "      <td>10</td>\n",
       "      <td>single</td>\n",
       "      <td>rented</td>\n",
       "      <td>no</td>\n",
       "      <td>Army_officer</td>\n",
       "      <td>Rewa</td>\n",
       "      <td>Madhya_Pradesh</td>\n",
       "      <td>6</td>\n",
       "      <td>11</td>\n",
       "      <td>0</td>\n",
       "    </tr>\n",
       "    <tr>\n",
       "      <th>251997</th>\n",
       "      <td>251998</td>\n",
       "      <td>4522448</td>\n",
       "      <td>46</td>\n",
       "      <td>7</td>\n",
       "      <td>single</td>\n",
       "      <td>rented</td>\n",
       "      <td>no</td>\n",
       "      <td>Design_Engineer</td>\n",
       "      <td>Kalyan-Dombivli</td>\n",
       "      <td>Maharashtra</td>\n",
       "      <td>7</td>\n",
       "      <td>12</td>\n",
       "      <td>0</td>\n",
       "    </tr>\n",
       "    <tr>\n",
       "      <th>251998</th>\n",
       "      <td>251999</td>\n",
       "      <td>6507128</td>\n",
       "      <td>45</td>\n",
       "      <td>0</td>\n",
       "      <td>single</td>\n",
       "      <td>rented</td>\n",
       "      <td>no</td>\n",
       "      <td>Graphic_Designer</td>\n",
       "      <td>Pondicherry</td>\n",
       "      <td>Puducherry</td>\n",
       "      <td>0</td>\n",
       "      <td>10</td>\n",
       "      <td>0</td>\n",
       "    </tr>\n",
       "    <tr>\n",
       "      <th>251999</th>\n",
       "      <td>252000</td>\n",
       "      <td>9070230</td>\n",
       "      <td>70</td>\n",
       "      <td>17</td>\n",
       "      <td>single</td>\n",
       "      <td>rented</td>\n",
       "      <td>no</td>\n",
       "      <td>Statistician</td>\n",
       "      <td>Avadi</td>\n",
       "      <td>Tamil_Nadu</td>\n",
       "      <td>7</td>\n",
       "      <td>11</td>\n",
       "      <td>0</td>\n",
       "    </tr>\n",
       "  </tbody>\n",
       "</table>\n",
       "</div>"
      ],
      "text/plain": [
       "            Id   income  age  experience married house_ownership  \\\n",
       "251995  251996  8154883   43          13  single          rented   \n",
       "251996  251997  2843572   26          10  single          rented   \n",
       "251997  251998  4522448   46           7  single          rented   \n",
       "251998  251999  6507128   45           0  single          rented   \n",
       "251999  252000  9070230   70          17  single          rented   \n",
       "\n",
       "       car_ownership        profession             city           state  \\\n",
       "251995            no           Surgeon          Kolkata     West_Bengal   \n",
       "251996            no      Army_officer             Rewa  Madhya_Pradesh   \n",
       "251997            no   Design_Engineer  Kalyan-Dombivli     Maharashtra   \n",
       "251998            no  Graphic_Designer      Pondicherry      Puducherry   \n",
       "251999            no      Statistician            Avadi      Tamil_Nadu   \n",
       "\n",
       "        current_job_years  current_house_years  risk_flag  \n",
       "251995                  6                   11          0  \n",
       "251996                  6                   11          0  \n",
       "251997                  7                   12          0  \n",
       "251998                  0                   10          0  \n",
       "251999                  7                   11          0  "
      ]
     },
     "execution_count": 229,
     "metadata": {},
     "output_type": "execute_result"
    }
   ],
   "source": [
    "p.tail()"
   ]
  },
  {
   "cell_type": "code",
   "execution_count": 230,
   "id": "5e31d9f9",
   "metadata": {},
   "outputs": [],
   "source": [
    "p = p.iloc[:,1:]"
   ]
  },
  {
   "cell_type": "code",
   "execution_count": 231,
   "id": "c395772b",
   "metadata": {},
   "outputs": [
    {
     "data": {
      "text/plain": [
       "rented          231898\n",
       "owned            12918\n",
       "norent_noown      7184\n",
       "Name: house_ownership, dtype: int64"
      ]
     },
     "execution_count": 231,
     "metadata": {},
     "output_type": "execute_result"
    }
   ],
   "source": [
    "p['house_ownership'].value_counts()"
   ]
  },
  {
   "cell_type": "code",
   "execution_count": 232,
   "id": "70c3db2d",
   "metadata": {},
   "outputs": [],
   "source": [
    "from feature_engine.encoding import RareLabelEncoder\n",
    "from feature_engine.imputation import RandomSampleImputer\n",
    "from feature_engine.encoding import OneHotEncoder"
   ]
  },
  {
   "cell_type": "code",
   "execution_count": 233,
   "id": "6f1259ff",
   "metadata": {},
   "outputs": [],
   "source": [
    "re = RareLabelEncoder(tol=0.06,n_categories=1,variables=['house_ownership'])"
   ]
  },
  {
   "cell_type": "code",
   "execution_count": 234,
   "id": "529d8608",
   "metadata": {},
   "outputs": [],
   "source": [
    "p = re.fit_transform(p)"
   ]
  },
  {
   "cell_type": "code",
   "execution_count": 235,
   "id": "68110dde",
   "metadata": {},
   "outputs": [],
   "source": [
    "oe = OneHotEncoder(variables=['married','house_ownership','car_ownership',\n",
    "                             'profession'],drop_last=True)"
   ]
  },
  {
   "cell_type": "code",
   "execution_count": 236,
   "id": "82018dd1",
   "metadata": {},
   "outputs": [],
   "source": [
    "l = oe.fit_transform(p)"
   ]
  },
  {
   "cell_type": "code",
   "execution_count": 237,
   "id": "21f117c1",
   "metadata": {},
   "outputs": [
    {
     "data": {
      "text/html": [
       "<div>\n",
       "<style scoped>\n",
       "    .dataframe tbody tr th:only-of-type {\n",
       "        vertical-align: middle;\n",
       "    }\n",
       "\n",
       "    .dataframe tbody tr th {\n",
       "        vertical-align: top;\n",
       "    }\n",
       "\n",
       "    .dataframe thead th {\n",
       "        text-align: right;\n",
       "    }\n",
       "</style>\n",
       "<table border=\"1\" class=\"dataframe\">\n",
       "  <thead>\n",
       "    <tr style=\"text-align: right;\">\n",
       "      <th></th>\n",
       "      <th>income</th>\n",
       "      <th>age</th>\n",
       "      <th>experience</th>\n",
       "      <th>city</th>\n",
       "      <th>state</th>\n",
       "      <th>current_job_years</th>\n",
       "      <th>current_house_years</th>\n",
       "      <th>risk_flag</th>\n",
       "      <th>married_single</th>\n",
       "      <th>house_ownership_rented</th>\n",
       "      <th>...</th>\n",
       "      <th>profession_Drafter</th>\n",
       "      <th>profession_Statistician</th>\n",
       "      <th>profession_Web_designer</th>\n",
       "      <th>profession_Consultant</th>\n",
       "      <th>profession_Chef</th>\n",
       "      <th>profession_Army_officer</th>\n",
       "      <th>profession_Surgeon</th>\n",
       "      <th>profession_Scientist</th>\n",
       "      <th>profession_Civil_engineer</th>\n",
       "      <th>profession_Industrial_Engineer</th>\n",
       "    </tr>\n",
       "  </thead>\n",
       "  <tbody>\n",
       "    <tr>\n",
       "      <th>0</th>\n",
       "      <td>1303835</td>\n",
       "      <td>23</td>\n",
       "      <td>3</td>\n",
       "      <td>Rewa</td>\n",
       "      <td>Madhya_Pradesh</td>\n",
       "      <td>3</td>\n",
       "      <td>13</td>\n",
       "      <td>0</td>\n",
       "      <td>1</td>\n",
       "      <td>1</td>\n",
       "      <td>...</td>\n",
       "      <td>0</td>\n",
       "      <td>0</td>\n",
       "      <td>0</td>\n",
       "      <td>0</td>\n",
       "      <td>0</td>\n",
       "      <td>0</td>\n",
       "      <td>0</td>\n",
       "      <td>0</td>\n",
       "      <td>0</td>\n",
       "      <td>0</td>\n",
       "    </tr>\n",
       "    <tr>\n",
       "      <th>1</th>\n",
       "      <td>7574516</td>\n",
       "      <td>40</td>\n",
       "      <td>10</td>\n",
       "      <td>Parbhani</td>\n",
       "      <td>Maharashtra</td>\n",
       "      <td>9</td>\n",
       "      <td>13</td>\n",
       "      <td>0</td>\n",
       "      <td>1</td>\n",
       "      <td>1</td>\n",
       "      <td>...</td>\n",
       "      <td>0</td>\n",
       "      <td>0</td>\n",
       "      <td>0</td>\n",
       "      <td>0</td>\n",
       "      <td>0</td>\n",
       "      <td>0</td>\n",
       "      <td>0</td>\n",
       "      <td>0</td>\n",
       "      <td>0</td>\n",
       "      <td>0</td>\n",
       "    </tr>\n",
       "    <tr>\n",
       "      <th>2</th>\n",
       "      <td>3991815</td>\n",
       "      <td>66</td>\n",
       "      <td>4</td>\n",
       "      <td>Alappuzha</td>\n",
       "      <td>Kerala</td>\n",
       "      <td>4</td>\n",
       "      <td>10</td>\n",
       "      <td>0</td>\n",
       "      <td>0</td>\n",
       "      <td>1</td>\n",
       "      <td>...</td>\n",
       "      <td>0</td>\n",
       "      <td>0</td>\n",
       "      <td>0</td>\n",
       "      <td>0</td>\n",
       "      <td>0</td>\n",
       "      <td>0</td>\n",
       "      <td>0</td>\n",
       "      <td>0</td>\n",
       "      <td>0</td>\n",
       "      <td>0</td>\n",
       "    </tr>\n",
       "    <tr>\n",
       "      <th>3</th>\n",
       "      <td>6256451</td>\n",
       "      <td>41</td>\n",
       "      <td>2</td>\n",
       "      <td>Bhubaneswar</td>\n",
       "      <td>Odisha</td>\n",
       "      <td>2</td>\n",
       "      <td>12</td>\n",
       "      <td>1</td>\n",
       "      <td>1</td>\n",
       "      <td>1</td>\n",
       "      <td>...</td>\n",
       "      <td>0</td>\n",
       "      <td>0</td>\n",
       "      <td>0</td>\n",
       "      <td>0</td>\n",
       "      <td>0</td>\n",
       "      <td>0</td>\n",
       "      <td>0</td>\n",
       "      <td>0</td>\n",
       "      <td>0</td>\n",
       "      <td>0</td>\n",
       "    </tr>\n",
       "    <tr>\n",
       "      <th>4</th>\n",
       "      <td>5768871</td>\n",
       "      <td>47</td>\n",
       "      <td>11</td>\n",
       "      <td>Tiruchirappalli[10]</td>\n",
       "      <td>Tamil_Nadu</td>\n",
       "      <td>3</td>\n",
       "      <td>14</td>\n",
       "      <td>1</td>\n",
       "      <td>1</td>\n",
       "      <td>1</td>\n",
       "      <td>...</td>\n",
       "      <td>0</td>\n",
       "      <td>0</td>\n",
       "      <td>0</td>\n",
       "      <td>0</td>\n",
       "      <td>0</td>\n",
       "      <td>0</td>\n",
       "      <td>0</td>\n",
       "      <td>0</td>\n",
       "      <td>0</td>\n",
       "      <td>0</td>\n",
       "    </tr>\n",
       "  </tbody>\n",
       "</table>\n",
       "<p>5 rows × 61 columns</p>\n",
       "</div>"
      ],
      "text/plain": [
       "    income  age  experience                 city           state  \\\n",
       "0  1303835   23           3                 Rewa  Madhya_Pradesh   \n",
       "1  7574516   40          10             Parbhani     Maharashtra   \n",
       "2  3991815   66           4            Alappuzha          Kerala   \n",
       "3  6256451   41           2          Bhubaneswar          Odisha   \n",
       "4  5768871   47          11  Tiruchirappalli[10]      Tamil_Nadu   \n",
       "\n",
       "   current_job_years  current_house_years  risk_flag  married_single  \\\n",
       "0                  3                   13          0               1   \n",
       "1                  9                   13          0               1   \n",
       "2                  4                   10          0               0   \n",
       "3                  2                   12          1               1   \n",
       "4                  3                   14          1               1   \n",
       "\n",
       "   house_ownership_rented  ...  profession_Drafter  profession_Statistician  \\\n",
       "0                       1  ...                   0                        0   \n",
       "1                       1  ...                   0                        0   \n",
       "2                       1  ...                   0                        0   \n",
       "3                       1  ...                   0                        0   \n",
       "4                       1  ...                   0                        0   \n",
       "\n",
       "   profession_Web_designer  profession_Consultant  profession_Chef  \\\n",
       "0                        0                      0                0   \n",
       "1                        0                      0                0   \n",
       "2                        0                      0                0   \n",
       "3                        0                      0                0   \n",
       "4                        0                      0                0   \n",
       "\n",
       "   profession_Army_officer  profession_Surgeon  profession_Scientist  \\\n",
       "0                        0                   0                     0   \n",
       "1                        0                   0                     0   \n",
       "2                        0                   0                     0   \n",
       "3                        0                   0                     0   \n",
       "4                        0                   0                     0   \n",
       "\n",
       "   profession_Civil_engineer  profession_Industrial_Engineer  \n",
       "0                          0                               0  \n",
       "1                          0                               0  \n",
       "2                          0                               0  \n",
       "3                          0                               0  \n",
       "4                          0                               0  \n",
       "\n",
       "[5 rows x 61 columns]"
      ]
     },
     "execution_count": 237,
     "metadata": {},
     "output_type": "execute_result"
    }
   ],
   "source": [
    "l.head()"
   ]
  },
  {
   "cell_type": "code",
   "execution_count": 238,
   "id": "22647c4b",
   "metadata": {},
   "outputs": [],
   "source": [
    "l.drop(['income','city','state'],inplace=True,axis=1)"
   ]
  },
  {
   "cell_type": "code",
   "execution_count": 239,
   "id": "de8b1d88",
   "metadata": {},
   "outputs": [],
   "source": [
    "l.drop(['risk_flag'],inplace=True,axis=1)"
   ]
  },
  {
   "cell_type": "code",
   "execution_count": 240,
   "id": "1b2d236a",
   "metadata": {},
   "outputs": [
    {
     "data": {
      "text/html": [
       "<div>\n",
       "<style scoped>\n",
       "    .dataframe tbody tr th:only-of-type {\n",
       "        vertical-align: middle;\n",
       "    }\n",
       "\n",
       "    .dataframe tbody tr th {\n",
       "        vertical-align: top;\n",
       "    }\n",
       "\n",
       "    .dataframe thead th {\n",
       "        text-align: right;\n",
       "    }\n",
       "</style>\n",
       "<table border=\"1\" class=\"dataframe\">\n",
       "  <thead>\n",
       "    <tr style=\"text-align: right;\">\n",
       "      <th></th>\n",
       "      <th>age</th>\n",
       "      <th>experience</th>\n",
       "      <th>current_job_years</th>\n",
       "      <th>current_house_years</th>\n",
       "      <th>married_single</th>\n",
       "      <th>house_ownership_rented</th>\n",
       "      <th>car_ownership_no</th>\n",
       "      <th>profession_Mechanical_engineer</th>\n",
       "      <th>profession_Software_Developer</th>\n",
       "      <th>profession_Technical_writer</th>\n",
       "      <th>...</th>\n",
       "      <th>profession_Drafter</th>\n",
       "      <th>profession_Statistician</th>\n",
       "      <th>profession_Web_designer</th>\n",
       "      <th>profession_Consultant</th>\n",
       "      <th>profession_Chef</th>\n",
       "      <th>profession_Army_officer</th>\n",
       "      <th>profession_Surgeon</th>\n",
       "      <th>profession_Scientist</th>\n",
       "      <th>profession_Civil_engineer</th>\n",
       "      <th>profession_Industrial_Engineer</th>\n",
       "    </tr>\n",
       "  </thead>\n",
       "  <tbody>\n",
       "    <tr>\n",
       "      <th>0</th>\n",
       "      <td>23</td>\n",
       "      <td>3</td>\n",
       "      <td>3</td>\n",
       "      <td>13</td>\n",
       "      <td>1</td>\n",
       "      <td>1</td>\n",
       "      <td>1</td>\n",
       "      <td>1</td>\n",
       "      <td>0</td>\n",
       "      <td>0</td>\n",
       "      <td>...</td>\n",
       "      <td>0</td>\n",
       "      <td>0</td>\n",
       "      <td>0</td>\n",
       "      <td>0</td>\n",
       "      <td>0</td>\n",
       "      <td>0</td>\n",
       "      <td>0</td>\n",
       "      <td>0</td>\n",
       "      <td>0</td>\n",
       "      <td>0</td>\n",
       "    </tr>\n",
       "    <tr>\n",
       "      <th>1</th>\n",
       "      <td>40</td>\n",
       "      <td>10</td>\n",
       "      <td>9</td>\n",
       "      <td>13</td>\n",
       "      <td>1</td>\n",
       "      <td>1</td>\n",
       "      <td>1</td>\n",
       "      <td>0</td>\n",
       "      <td>1</td>\n",
       "      <td>0</td>\n",
       "      <td>...</td>\n",
       "      <td>0</td>\n",
       "      <td>0</td>\n",
       "      <td>0</td>\n",
       "      <td>0</td>\n",
       "      <td>0</td>\n",
       "      <td>0</td>\n",
       "      <td>0</td>\n",
       "      <td>0</td>\n",
       "      <td>0</td>\n",
       "      <td>0</td>\n",
       "    </tr>\n",
       "    <tr>\n",
       "      <th>2</th>\n",
       "      <td>66</td>\n",
       "      <td>4</td>\n",
       "      <td>4</td>\n",
       "      <td>10</td>\n",
       "      <td>0</td>\n",
       "      <td>1</td>\n",
       "      <td>1</td>\n",
       "      <td>0</td>\n",
       "      <td>0</td>\n",
       "      <td>1</td>\n",
       "      <td>...</td>\n",
       "      <td>0</td>\n",
       "      <td>0</td>\n",
       "      <td>0</td>\n",
       "      <td>0</td>\n",
       "      <td>0</td>\n",
       "      <td>0</td>\n",
       "      <td>0</td>\n",
       "      <td>0</td>\n",
       "      <td>0</td>\n",
       "      <td>0</td>\n",
       "    </tr>\n",
       "    <tr>\n",
       "      <th>3</th>\n",
       "      <td>41</td>\n",
       "      <td>2</td>\n",
       "      <td>2</td>\n",
       "      <td>12</td>\n",
       "      <td>1</td>\n",
       "      <td>1</td>\n",
       "      <td>0</td>\n",
       "      <td>0</td>\n",
       "      <td>1</td>\n",
       "      <td>0</td>\n",
       "      <td>...</td>\n",
       "      <td>0</td>\n",
       "      <td>0</td>\n",
       "      <td>0</td>\n",
       "      <td>0</td>\n",
       "      <td>0</td>\n",
       "      <td>0</td>\n",
       "      <td>0</td>\n",
       "      <td>0</td>\n",
       "      <td>0</td>\n",
       "      <td>0</td>\n",
       "    </tr>\n",
       "    <tr>\n",
       "      <th>4</th>\n",
       "      <td>47</td>\n",
       "      <td>11</td>\n",
       "      <td>3</td>\n",
       "      <td>14</td>\n",
       "      <td>1</td>\n",
       "      <td>1</td>\n",
       "      <td>1</td>\n",
       "      <td>0</td>\n",
       "      <td>0</td>\n",
       "      <td>0</td>\n",
       "      <td>...</td>\n",
       "      <td>0</td>\n",
       "      <td>0</td>\n",
       "      <td>0</td>\n",
       "      <td>0</td>\n",
       "      <td>0</td>\n",
       "      <td>0</td>\n",
       "      <td>0</td>\n",
       "      <td>0</td>\n",
       "      <td>0</td>\n",
       "      <td>0</td>\n",
       "    </tr>\n",
       "  </tbody>\n",
       "</table>\n",
       "<p>5 rows × 57 columns</p>\n",
       "</div>"
      ],
      "text/plain": [
       "   age  experience  current_job_years  current_house_years  married_single  \\\n",
       "0   23           3                  3                   13               1   \n",
       "1   40          10                  9                   13               1   \n",
       "2   66           4                  4                   10               0   \n",
       "3   41           2                  2                   12               1   \n",
       "4   47          11                  3                   14               1   \n",
       "\n",
       "   house_ownership_rented  car_ownership_no  profession_Mechanical_engineer  \\\n",
       "0                       1                 1                               1   \n",
       "1                       1                 1                               0   \n",
       "2                       1                 1                               0   \n",
       "3                       1                 0                               0   \n",
       "4                       1                 1                               0   \n",
       "\n",
       "   profession_Software_Developer  profession_Technical_writer  ...  \\\n",
       "0                              0                            0  ...   \n",
       "1                              1                            0  ...   \n",
       "2                              0                            1  ...   \n",
       "3                              1                            0  ...   \n",
       "4                              0                            0  ...   \n",
       "\n",
       "   profession_Drafter  profession_Statistician  profession_Web_designer  \\\n",
       "0                   0                        0                        0   \n",
       "1                   0                        0                        0   \n",
       "2                   0                        0                        0   \n",
       "3                   0                        0                        0   \n",
       "4                   0                        0                        0   \n",
       "\n",
       "   profession_Consultant  profession_Chef  profession_Army_officer  \\\n",
       "0                      0                0                        0   \n",
       "1                      0                0                        0   \n",
       "2                      0                0                        0   \n",
       "3                      0                0                        0   \n",
       "4                      0                0                        0   \n",
       "\n",
       "   profession_Surgeon  profession_Scientist  profession_Civil_engineer  \\\n",
       "0                   0                     0                          0   \n",
       "1                   0                     0                          0   \n",
       "2                   0                     0                          0   \n",
       "3                   0                     0                          0   \n",
       "4                   0                     0                          0   \n",
       "\n",
       "   profession_Industrial_Engineer  \n",
       "0                               0  \n",
       "1                               0  \n",
       "2                               0  \n",
       "3                               0  \n",
       "4                               0  \n",
       "\n",
       "[5 rows x 57 columns]"
      ]
     },
     "execution_count": 240,
     "metadata": {},
     "output_type": "execute_result"
    }
   ],
   "source": [
    "l.head()"
   ]
  },
  {
   "cell_type": "code",
   "execution_count": 178,
   "id": "6a06b23f",
   "metadata": {},
   "outputs": [],
   "source": [
    "from sklearn.preprocessing import StandardScaler\n",
    "from sklearn.model_selection import train_test_split"
   ]
  },
  {
   "cell_type": "code",
   "execution_count": 241,
   "id": "94ed43f3",
   "metadata": {},
   "outputs": [],
   "source": [
    "ro = p.iloc[:,11]"
   ]
  },
  {
   "cell_type": "code",
   "execution_count": 242,
   "id": "983ed837",
   "metadata": {},
   "outputs": [],
   "source": [
    "ro = pd.DataFrame(ro)"
   ]
  },
  {
   "cell_type": "code",
   "execution_count": 243,
   "id": "4b54940a",
   "metadata": {},
   "outputs": [],
   "source": [
    "X = l"
   ]
  },
  {
   "cell_type": "code",
   "execution_count": 244,
   "id": "32d247c5",
   "metadata": {},
   "outputs": [
    {
     "data": {
      "text/html": [
       "<div>\n",
       "<style scoped>\n",
       "    .dataframe tbody tr th:only-of-type {\n",
       "        vertical-align: middle;\n",
       "    }\n",
       "\n",
       "    .dataframe tbody tr th {\n",
       "        vertical-align: top;\n",
       "    }\n",
       "\n",
       "    .dataframe thead th {\n",
       "        text-align: right;\n",
       "    }\n",
       "</style>\n",
       "<table border=\"1\" class=\"dataframe\">\n",
       "  <thead>\n",
       "    <tr style=\"text-align: right;\">\n",
       "      <th></th>\n",
       "      <th>risk_flag</th>\n",
       "    </tr>\n",
       "  </thead>\n",
       "  <tbody>\n",
       "    <tr>\n",
       "      <th>0</th>\n",
       "      <td>0</td>\n",
       "    </tr>\n",
       "    <tr>\n",
       "      <th>1</th>\n",
       "      <td>0</td>\n",
       "    </tr>\n",
       "    <tr>\n",
       "      <th>2</th>\n",
       "      <td>0</td>\n",
       "    </tr>\n",
       "    <tr>\n",
       "      <th>3</th>\n",
       "      <td>1</td>\n",
       "    </tr>\n",
       "    <tr>\n",
       "      <th>4</th>\n",
       "      <td>1</td>\n",
       "    </tr>\n",
       "  </tbody>\n",
       "</table>\n",
       "</div>"
      ],
      "text/plain": [
       "   risk_flag\n",
       "0          0\n",
       "1          0\n",
       "2          0\n",
       "3          1\n",
       "4          1"
      ]
     },
     "execution_count": 244,
     "metadata": {},
     "output_type": "execute_result"
    }
   ],
   "source": [
    "ro.head()"
   ]
  },
  {
   "cell_type": "code",
   "execution_count": 182,
   "id": "a8aabf36",
   "metadata": {},
   "outputs": [],
   "source": [
    "X_train, X_test, ro_train, ro_test = train_test_split(X, ro, test_size=0.30, random_state=42)"
   ]
  },
  {
   "cell_type": "code",
   "execution_count": 184,
   "id": "04fca2d2",
   "metadata": {},
   "outputs": [
    {
     "name": "stderr",
     "output_type": "stream",
     "text": [
      "C:\\Users\\GTDNL\\anaconda3\\envs\\nlp_course\\lib\\site-packages\\sklearn\\utils\\validation.py:993: DataConversionWarning: A column-vector y was passed when a 1d array was expected. Please change the shape of y to (n_samples, ), for example using ravel().\n",
      "  y = column_or_1d(y, warn=True)\n",
      "C:\\Users\\GTDNL\\anaconda3\\envs\\nlp_course\\lib\\site-packages\\sklearn\\utils\\validation.py:993: DataConversionWarning: A column-vector y was passed when a 1d array was expected. Please change the shape of y to (n_samples, ), for example using ravel().\n",
      "  y = column_or_1d(y, warn=True)\n"
     ]
    },
    {
     "data": {
      "text/plain": [
       "Index(['age', 'experience', 'current_job_years', 'current_house_years',\n",
       "       'married_single', 'house_ownership_rented', 'car_ownership_no',\n",
       "       'profession_Software_Developer', 'profession_Librarian',\n",
       "       'profession_Politician', 'profession_Police_officer',\n",
       "       'profession_Aviator'],\n",
       "      dtype='object')"
      ]
     },
     "execution_count": 184,
     "metadata": {},
     "output_type": "execute_result"
    }
   ],
   "source": [
    "from sklearn.feature_selection import mutual_info_regression,mutual_info_classif\n",
    "mi=mutual_info_classif(X_train,ro_train)\n",
    "mi=pd.Series(mi)\n",
    "mi.index=l.columns\n",
    "lol=mi.sort_values(ascending=False)\n",
    "from sklearn.feature_selection import SelectPercentile\n",
    "sel=SelectPercentile(mutual_info_classif,percentile=20).fit(X_train,ro_train)\n",
    "X.columns[sel.get_support()]"
   ]
  },
  {
   "cell_type": "code",
   "execution_count": 185,
   "id": "d4b21843",
   "metadata": {},
   "outputs": [],
   "source": [
    "x = X[['age', 'experience', 'current_job_years', 'current_house_years',\n",
    "       'married_single', 'house_ownership_rented', 'car_ownership_no',\n",
    "       'profession_Software_Developer', 'profession_Librarian',\n",
    "       'profession_Politician', 'profession_Police_officer',\n",
    "       'profession_Aviator']]"
   ]
  },
  {
   "cell_type": "code",
   "execution_count": 186,
   "id": "3a5b0932",
   "metadata": {},
   "outputs": [
    {
     "data": {
      "text/html": [
       "<div>\n",
       "<style scoped>\n",
       "    .dataframe tbody tr th:only-of-type {\n",
       "        vertical-align: middle;\n",
       "    }\n",
       "\n",
       "    .dataframe tbody tr th {\n",
       "        vertical-align: top;\n",
       "    }\n",
       "\n",
       "    .dataframe thead th {\n",
       "        text-align: right;\n",
       "    }\n",
       "</style>\n",
       "<table border=\"1\" class=\"dataframe\">\n",
       "  <thead>\n",
       "    <tr style=\"text-align: right;\">\n",
       "      <th></th>\n",
       "      <th>risk_flag</th>\n",
       "    </tr>\n",
       "  </thead>\n",
       "  <tbody>\n",
       "    <tr>\n",
       "      <th>0</th>\n",
       "      <td>0</td>\n",
       "    </tr>\n",
       "    <tr>\n",
       "      <th>1</th>\n",
       "      <td>0</td>\n",
       "    </tr>\n",
       "    <tr>\n",
       "      <th>2</th>\n",
       "      <td>0</td>\n",
       "    </tr>\n",
       "    <tr>\n",
       "      <th>3</th>\n",
       "      <td>1</td>\n",
       "    </tr>\n",
       "    <tr>\n",
       "      <th>4</th>\n",
       "      <td>1</td>\n",
       "    </tr>\n",
       "  </tbody>\n",
       "</table>\n",
       "</div>"
      ],
      "text/plain": [
       "   risk_flag\n",
       "0          0\n",
       "1          0\n",
       "2          0\n",
       "3          1\n",
       "4          1"
      ]
     },
     "execution_count": 186,
     "metadata": {},
     "output_type": "execute_result"
    }
   ],
   "source": [
    "ro.head()"
   ]
  },
  {
   "cell_type": "code",
   "execution_count": 191,
   "id": "bc5f0743",
   "metadata": {},
   "outputs": [
    {
     "data": {
      "text/plain": [
       "risk_flag\n",
       "0            221004\n",
       "1             30996\n",
       "dtype: int64"
      ]
     },
     "execution_count": 191,
     "metadata": {},
     "output_type": "execute_result"
    }
   ],
   "source": [
    "ro.value_counts()"
   ]
  },
  {
   "cell_type": "code",
   "execution_count": 142,
   "id": "45761d28",
   "metadata": {},
   "outputs": [],
   "source": [
    "from sklearn.preprocessing import StandardScaler\n",
    "sd= StandardScaler()\n",
    "X_train = sd.fit_transform(X_train)\n",
    "X_test = sd.fit_transform(X_test)"
   ]
  },
  {
   "cell_type": "code",
   "execution_count": 190,
   "id": "7354d6fb",
   "metadata": {},
   "outputs": [],
   "source": [
    "X_train, X_test, ro_train, ro_test = train_test_split(x, ro, test_size=0.30, random_state=42)"
   ]
  },
  {
   "cell_type": "code",
   "execution_count": 192,
   "id": "6f7ed709",
   "metadata": {},
   "outputs": [],
   "source": [
    "from sklearn.metrics import accuracy_score"
   ]
  },
  {
   "cell_type": "code",
   "execution_count": 211,
   "id": "4a1fc90a",
   "metadata": {},
   "outputs": [],
   "source": [
    "from sklearn.ensemble import RandomForestClassifier"
   ]
  },
  {
   "cell_type": "code",
   "execution_count": 212,
   "id": "b5737920",
   "metadata": {},
   "outputs": [],
   "source": [
    "sv=RandomForestClassifier(max_depth=25, bootstrap=True)"
   ]
  },
  {
   "cell_type": "code",
   "execution_count": 213,
   "id": "7e465851",
   "metadata": {},
   "outputs": [
    {
     "name": "stderr",
     "output_type": "stream",
     "text": [
      "C:\\Users\\GTDNL\\anaconda3\\envs\\nlp_course\\lib\\site-packages\\ipykernel_launcher.py:1: DataConversionWarning: A column-vector y was passed when a 1d array was expected. Please change the shape of y to (n_samples,), for example using ravel().\n",
      "  \"\"\"Entry point for launching an IPython kernel.\n"
     ]
    },
    {
     "data": {
      "text/plain": [
       "0.9178741496598639"
      ]
     },
     "execution_count": 213,
     "metadata": {},
     "output_type": "execute_result"
    }
   ],
   "source": [
    "sv.fit(X_train,ro_train)\n",
    "rf1=sv.predict(X_train)\n",
    "accuracy_score(rf1,ro_train)"
   ]
  },
  {
   "cell_type": "code",
   "execution_count": 214,
   "id": "ff64c272",
   "metadata": {},
   "outputs": [
    {
     "data": {
      "text/plain": [
       "0.889431216931217"
      ]
     },
     "execution_count": 214,
     "metadata": {},
     "output_type": "execute_result"
    }
   ],
   "source": [
    "rf2=sv.predict(X_test)\n",
    "accuracy_score(rf2,ro_test)"
   ]
  },
  {
   "cell_type": "code",
   "execution_count": 215,
   "id": "52d8b857",
   "metadata": {},
   "outputs": [],
   "source": [
    "from sklearn.linear_model import LogisticRegression"
   ]
  },
  {
   "cell_type": "code",
   "execution_count": 216,
   "id": "7354bcfc",
   "metadata": {},
   "outputs": [],
   "source": [
    "model = LogisticRegression()"
   ]
  },
  {
   "cell_type": "code",
   "execution_count": 217,
   "id": "0fee73ed",
   "metadata": {},
   "outputs": [
    {
     "name": "stderr",
     "output_type": "stream",
     "text": [
      "C:\\Users\\GTDNL\\anaconda3\\envs\\nlp_course\\lib\\site-packages\\sklearn\\utils\\validation.py:993: DataConversionWarning: A column-vector y was passed when a 1d array was expected. Please change the shape of y to (n_samples, ), for example using ravel().\n",
      "  y = column_or_1d(y, warn=True)\n",
      "C:\\Users\\GTDNL\\anaconda3\\envs\\nlp_course\\lib\\site-packages\\sklearn\\linear_model\\_logistic.py:818: ConvergenceWarning: lbfgs failed to converge (status=1):\n",
      "STOP: TOTAL NO. of ITERATIONS REACHED LIMIT.\n",
      "\n",
      "Increase the number of iterations (max_iter) or scale the data as shown in:\n",
      "    https://scikit-learn.org/stable/modules/preprocessing.html\n",
      "Please also refer to the documentation for alternative solver options:\n",
      "    https://scikit-learn.org/stable/modules/linear_model.html#logistic-regression\n",
      "  extra_warning_msg=_LOGISTIC_SOLVER_CONVERGENCE_MSG,\n"
     ]
    },
    {
     "data": {
      "text/plain": [
       "0.8768424036281179"
      ]
     },
     "execution_count": 217,
     "metadata": {},
     "output_type": "execute_result"
    }
   ],
   "source": [
    "model.fit(X_train, ro_train)\n",
    "y_pred = model.predict(X_train)\n",
    "accuracy_score(ro_train, y_pred)"
   ]
  },
  {
   "cell_type": "code",
   "execution_count": 218,
   "id": "37753d63",
   "metadata": {},
   "outputs": [
    {
     "data": {
      "text/plain": [
       "0.8773677248677249"
      ]
     },
     "execution_count": 218,
     "metadata": {},
     "output_type": "execute_result"
    }
   ],
   "source": [
    "y_pred = model.predict(X_test)\n",
    "accuracy_score(ro_test, y_pred)"
   ]
  },
  {
   "cell_type": "code",
   "execution_count": 219,
   "id": "007ca661",
   "metadata": {},
   "outputs": [],
   "source": [
    "from sklearn.tree import DecisionTreeClassifier"
   ]
  },
  {
   "cell_type": "code",
   "execution_count": 222,
   "id": "4aa50df7",
   "metadata": {},
   "outputs": [],
   "source": [
    "model= DecisionTreeClassifier(max_depth=25,random_state=42)"
   ]
  },
  {
   "cell_type": "code",
   "execution_count": 223,
   "id": "30ce4556",
   "metadata": {},
   "outputs": [
    {
     "data": {
      "text/plain": [
       "0.9197845804988662"
      ]
     },
     "execution_count": 223,
     "metadata": {},
     "output_type": "execute_result"
    }
   ],
   "source": [
    "model.fit(X_train, ro_train)\n",
    "y_pred = model.predict(X_train)\n",
    "accuracy_score(ro_train, y_pred)"
   ]
  },
  {
   "cell_type": "code",
   "execution_count": 224,
   "id": "4af36a08",
   "metadata": {},
   "outputs": [
    {
     "data": {
      "text/plain": [
       "0.8812962962962962"
      ]
     },
     "execution_count": 224,
     "metadata": {},
     "output_type": "execute_result"
    }
   ],
   "source": [
    "y_pred = model.predict(X_test)\n",
    "accuracy_score(ro_test, y_pred)"
   ]
  },
  {
   "cell_type": "code",
   "execution_count": 226,
   "id": "591e6e52",
   "metadata": {},
   "outputs": [],
   "source": [
    "ti = pd.read_csv('credit_bank_data.csv.csv')"
   ]
  },
  {
   "cell_type": "code",
   "execution_count": 227,
   "id": "a9f4bf0f",
   "metadata": {},
   "outputs": [
    {
     "data": {
      "text/html": [
       "<div>\n",
       "<style scoped>\n",
       "    .dataframe tbody tr th:only-of-type {\n",
       "        vertical-align: middle;\n",
       "    }\n",
       "\n",
       "    .dataframe tbody tr th {\n",
       "        vertical-align: top;\n",
       "    }\n",
       "\n",
       "    .dataframe thead th {\n",
       "        text-align: right;\n",
       "    }\n",
       "</style>\n",
       "<table border=\"1\" class=\"dataframe\">\n",
       "  <thead>\n",
       "    <tr style=\"text-align: right;\">\n",
       "      <th></th>\n",
       "      <th>user_id</th>\n",
       "      <th>gender</th>\n",
       "      <th>date_of_birth</th>\n",
       "      <th>workclass</th>\n",
       "      <th>education_level</th>\n",
       "      <th>education_num</th>\n",
       "      <th>marital_status</th>\n",
       "      <th>occupation</th>\n",
       "      <th>relationship</th>\n",
       "      <th>capital_gain</th>\n",
       "      <th>...</th>\n",
       "      <th>hours_per_week</th>\n",
       "      <th>approved</th>\n",
       "      <th>address</th>\n",
       "      <th>email</th>\n",
       "      <th>inquiry_purpose_code</th>\n",
       "      <th>institute_type</th>\n",
       "      <th>account_type</th>\n",
       "      <th>asset_class_cd</th>\n",
       "      <th>asset_code</th>\n",
       "      <th>portfolio_type</th>\n",
       "    </tr>\n",
       "  </thead>\n",
       "  <tbody>\n",
       "    <tr>\n",
       "      <th>45217</th>\n",
       "      <td>6f5de269-e3b6-4aa0-84a5-e2ab5d3e455c</td>\n",
       "      <td>Male</td>\n",
       "      <td>1976-01-06</td>\n",
       "      <td>Private</td>\n",
       "      <td>Prof-school</td>\n",
       "      <td>15.0</td>\n",
       "      <td>Married-civ-spouse</td>\n",
       "      <td>Prof-specialty</td>\n",
       "      <td>Husband</td>\n",
       "      <td>99999.0</td>\n",
       "      <td>...</td>\n",
       "      <td>60.0</td>\n",
       "      <td>1</td>\n",
       "      <td>38911 Heather Ranch\\r\\nEast Carolyn, ND 59814</td>\n",
       "      <td>jack72@richards.com</td>\n",
       "      <td>7.0</td>\n",
       "      <td>PVT</td>\n",
       "      <td>5</td>\n",
       "      <td>NaN</td>\n",
       "      <td>1.0</td>\n",
       "      <td>R</td>\n",
       "    </tr>\n",
       "    <tr>\n",
       "      <th>45218</th>\n",
       "      <td>e8e5fd1d-ef19-4652-b6e7-5ba18449e80e</td>\n",
       "      <td>Male</td>\n",
       "      <td>1977-01-05</td>\n",
       "      <td>Private</td>\n",
       "      <td>Prof-school</td>\n",
       "      <td>15.0</td>\n",
       "      <td>Married-spouse-absent</td>\n",
       "      <td>Prof-specialty</td>\n",
       "      <td>Not-in-family</td>\n",
       "      <td>99999.0</td>\n",
       "      <td>...</td>\n",
       "      <td>40.0</td>\n",
       "      <td>1</td>\n",
       "      <td>20346 Fitzpatrick Prairie Suite 117\\r\\nWeaverh...</td>\n",
       "      <td>jason17@johnson-williams.org</td>\n",
       "      <td>7.0</td>\n",
       "      <td>PVT</td>\n",
       "      <td>5</td>\n",
       "      <td>NaN</td>\n",
       "      <td>1.0</td>\n",
       "      <td>R</td>\n",
       "    </tr>\n",
       "    <tr>\n",
       "      <th>45219</th>\n",
       "      <td>1b3ed3e9-0283-4ba4-a7c7-f608f03f296e</td>\n",
       "      <td>Male</td>\n",
       "      <td>1964-01-09</td>\n",
       "      <td>Self-emp-inc</td>\n",
       "      <td>Prof-school</td>\n",
       "      <td>15.0</td>\n",
       "      <td>Married-civ-spouse</td>\n",
       "      <td>Prof-specialty</td>\n",
       "      <td>Husband</td>\n",
       "      <td>99999.0</td>\n",
       "      <td>...</td>\n",
       "      <td>45.0</td>\n",
       "      <td>1</td>\n",
       "      <td>653 Valerie Cliffs Suite 914\\r\\nPort Hannah, D...</td>\n",
       "      <td>qdaniels@hotmail.com</td>\n",
       "      <td>13.0</td>\n",
       "      <td>NBF</td>\n",
       "      <td>189</td>\n",
       "      <td>NaN</td>\n",
       "      <td>1.0</td>\n",
       "      <td>I</td>\n",
       "    </tr>\n",
       "    <tr>\n",
       "      <th>45220</th>\n",
       "      <td>642859b2-f587-48ef-a5b1-89710301fc71</td>\n",
       "      <td>Male</td>\n",
       "      <td>1979-01-05</td>\n",
       "      <td>Private</td>\n",
       "      <td>Bachelors</td>\n",
       "      <td>13.0</td>\n",
       "      <td>Married-civ-spouse</td>\n",
       "      <td>Craft-repair</td>\n",
       "      <td>Husband</td>\n",
       "      <td>99999.0</td>\n",
       "      <td>...</td>\n",
       "      <td>40.0</td>\n",
       "      <td>1</td>\n",
       "      <td>6957 Daniel Avenue\\r\\nWest Jason, VA 80167</td>\n",
       "      <td>whitakersteven@yahoo.com</td>\n",
       "      <td>7.0</td>\n",
       "      <td>PVT</td>\n",
       "      <td>5</td>\n",
       "      <td>NaN</td>\n",
       "      <td>1.0</td>\n",
       "      <td>R</td>\n",
       "    </tr>\n",
       "    <tr>\n",
       "      <th>45221</th>\n",
       "      <td>82eab6e5-57ab-4fd7-8923-e7790390c473</td>\n",
       "      <td>Male</td>\n",
       "      <td>1977-01-05</td>\n",
       "      <td>Private</td>\n",
       "      <td>Bachelors</td>\n",
       "      <td>13.0</td>\n",
       "      <td>Married-civ-spouse</td>\n",
       "      <td>Exec-managerial</td>\n",
       "      <td>Husband</td>\n",
       "      <td>99999.0</td>\n",
       "      <td>...</td>\n",
       "      <td>50.0</td>\n",
       "      <td>1</td>\n",
       "      <td>100 Brian Course\\r\\nJesusville, MD 36505</td>\n",
       "      <td>gmiller@graham.com</td>\n",
       "      <td>99.0</td>\n",
       "      <td>PVT</td>\n",
       "      <td>5</td>\n",
       "      <td>NaN</td>\n",
       "      <td>1.0</td>\n",
       "      <td>R</td>\n",
       "    </tr>\n",
       "  </tbody>\n",
       "</table>\n",
       "<p>5 rows × 21 columns</p>\n",
       "</div>"
      ],
      "text/plain": [
       "                                    user_id gender date_of_birth  \\\n",
       "45217  6f5de269-e3b6-4aa0-84a5-e2ab5d3e455c   Male    1976-01-06   \n",
       "45218  e8e5fd1d-ef19-4652-b6e7-5ba18449e80e   Male    1977-01-05   \n",
       "45219  1b3ed3e9-0283-4ba4-a7c7-f608f03f296e   Male    1964-01-09   \n",
       "45220  642859b2-f587-48ef-a5b1-89710301fc71   Male    1979-01-05   \n",
       "45221  82eab6e5-57ab-4fd7-8923-e7790390c473   Male    1977-01-05   \n",
       "\n",
       "           workclass education_level  education_num          marital_status  \\\n",
       "45217        Private     Prof-school           15.0      Married-civ-spouse   \n",
       "45218        Private     Prof-school           15.0   Married-spouse-absent   \n",
       "45219   Self-emp-inc     Prof-school           15.0      Married-civ-spouse   \n",
       "45220        Private       Bachelors           13.0      Married-civ-spouse   \n",
       "45221        Private       Bachelors           13.0      Married-civ-spouse   \n",
       "\n",
       "             occupation    relationship  capital_gain  ...  hours_per_week  \\\n",
       "45217    Prof-specialty         Husband       99999.0  ...            60.0   \n",
       "45218    Prof-specialty   Not-in-family       99999.0  ...            40.0   \n",
       "45219    Prof-specialty         Husband       99999.0  ...            45.0   \n",
       "45220      Craft-repair         Husband       99999.0  ...            40.0   \n",
       "45221   Exec-managerial         Husband       99999.0  ...            50.0   \n",
       "\n",
       "       approved                                            address  \\\n",
       "45217         1      38911 Heather Ranch\\r\\nEast Carolyn, ND 59814   \n",
       "45218         1  20346 Fitzpatrick Prairie Suite 117\\r\\nWeaverh...   \n",
       "45219         1  653 Valerie Cliffs Suite 914\\r\\nPort Hannah, D...   \n",
       "45220         1         6957 Daniel Avenue\\r\\nWest Jason, VA 80167   \n",
       "45221         1           100 Brian Course\\r\\nJesusville, MD 36505   \n",
       "\n",
       "                              email inquiry_purpose_code  institute_type  \\\n",
       "45217           jack72@richards.com                  7.0             PVT   \n",
       "45218  jason17@johnson-williams.org                  7.0             PVT   \n",
       "45219          qdaniels@hotmail.com                 13.0             NBF   \n",
       "45220      whitakersteven@yahoo.com                  7.0             PVT   \n",
       "45221            gmiller@graham.com                 99.0             PVT   \n",
       "\n",
       "      account_type  asset_class_cd asset_code  portfolio_type  \n",
       "45217            5             NaN        1.0               R  \n",
       "45218            5             NaN        1.0               R  \n",
       "45219          189             NaN        1.0               I  \n",
       "45220            5             NaN        1.0               R  \n",
       "45221            5             NaN        1.0               R  \n",
       "\n",
       "[5 rows x 21 columns]"
      ]
     },
     "execution_count": 227,
     "metadata": {},
     "output_type": "execute_result"
    }
   ],
   "source": [
    "ti.tail()"
   ]
  },
  {
   "cell_type": "code",
   "execution_count": 245,
   "id": "f4febe02",
   "metadata": {},
   "outputs": [],
   "source": [
    "che= pd.concat([X,ro],axis=1)"
   ]
  },
  {
   "cell_type": "code",
   "execution_count": 246,
   "id": "78377e1b",
   "metadata": {},
   "outputs": [],
   "source": [
    "che.to_csv('che.csv')"
   ]
  },
  {
   "cell_type": "code",
   "execution_count": null,
   "id": "7a961b5d",
   "metadata": {},
   "outputs": [],
   "source": []
  }
 ],
 "metadata": {
  "kernelspec": {
   "display_name": "Python 3 (ipykernel)",
   "language": "python",
   "name": "python3"
  },
  "language_info": {
   "codemirror_mode": {
    "name": "ipython",
    "version": 3
   },
   "file_extension": ".py",
   "mimetype": "text/x-python",
   "name": "python",
   "nbconvert_exporter": "python",
   "pygments_lexer": "ipython3",
   "version": "3.7.16"
  }
 },
 "nbformat": 4,
 "nbformat_minor": 5
}
